{
 "cells": [
  {
   "cell_type": "markdown",
   "metadata": {},
   "source": [
    "# Feature Engineering\n",
    "\n",
    "Nesse notebook, a partir do que foi visualizado na EDA vamos construir variáveis que trazem maior informação dos padrões nos nossos dados."
   ]
  },
  {
   "cell_type": "markdown",
   "metadata": {},
   "source": [
    "## 1 - Leitura dos dados"
   ]
  },
  {
   "cell_type": "code",
   "execution_count": 1,
   "metadata": {},
   "outputs": [],
   "source": [
    "import pandas as pd \n",
    "import numpy as np\n",
    "import seaborn as sns\n",
    "import matplotlib.pyplot as plt\n",
    "\n",
    "from typing import Union"
   ]
  },
  {
   "cell_type": "code",
   "execution_count": 2,
   "metadata": {},
   "outputs": [
    {
     "name": "stdout",
     "output_type": "stream",
     "text": [
      "DataFrame shape:  (7043, 22)\n"
     ]
    },
    {
     "data": {
      "text/html": [
       "<div>\n",
       "<style scoped>\n",
       "    .dataframe tbody tr th:only-of-type {\n",
       "        vertical-align: middle;\n",
       "    }\n",
       "\n",
       "    .dataframe tbody tr th {\n",
       "        vertical-align: top;\n",
       "    }\n",
       "\n",
       "    .dataframe thead th {\n",
       "        text-align: right;\n",
       "    }\n",
       "</style>\n",
       "<table border=\"1\" class=\"dataframe\">\n",
       "  <thead>\n",
       "    <tr style=\"text-align: right;\">\n",
       "      <th></th>\n",
       "      <th>ID</th>\n",
       "      <th>Tipo de empresa</th>\n",
       "      <th>Fundação da empresa</th>\n",
       "      <th>Possui mais de um sócio</th>\n",
       "      <th>Funcionários</th>\n",
       "      <th>Meses de permanência</th>\n",
       "      <th>Utiliza serviços financeiros</th>\n",
       "      <th>PossuiContador</th>\n",
       "      <th>Faz conciliação bancária</th>\n",
       "      <th>Frequência de utilização de feature do sistema: Módulo financeiro</th>\n",
       "      <th>...</th>\n",
       "      <th>Frequência de utilização de feature do sistema: Módulo de vendas</th>\n",
       "      <th>Frequência de utilização de feature do sistema: Relatórios</th>\n",
       "      <th>Frequência de utilização de feature do sistema: Utilização de APIs de integração</th>\n",
       "      <th>Contrato</th>\n",
       "      <th>Emite boletos</th>\n",
       "      <th>Emite boletos.1</th>\n",
       "      <th>Tipo de pagamento</th>\n",
       "      <th>Receita mensal</th>\n",
       "      <th>Receita total</th>\n",
       "      <th>Churn</th>\n",
       "    </tr>\n",
       "  </thead>\n",
       "  <tbody>\n",
       "    <tr>\n",
       "      <th>0</th>\n",
       "      <td>1</td>\n",
       "      <td>Micro empresa</td>\n",
       "      <td>2016</td>\n",
       "      <td>Sim</td>\n",
       "      <td>até 5 funcionários</td>\n",
       "      <td>1</td>\n",
       "      <td>Não</td>\n",
       "      <td>NaN</td>\n",
       "      <td>automática</td>\n",
       "      <td>Pouco uso</td>\n",
       "      <td>...</td>\n",
       "      <td>Pouco uso</td>\n",
       "      <td>Pouco uso</td>\n",
       "      <td>Pouco uso</td>\n",
       "      <td>Mês-a-mês</td>\n",
       "      <td>1</td>\n",
       "      <td>Yes</td>\n",
       "      <td>Boleto - pagamento único</td>\n",
       "      <td>R$ 29,85</td>\n",
       "      <td>R$ 29,85</td>\n",
       "      <td>Não</td>\n",
       "    </tr>\n",
       "    <tr>\n",
       "      <th>1</th>\n",
       "      <td>2</td>\n",
       "      <td>Pequena empresa</td>\n",
       "      <td>2018</td>\n",
       "      <td>Não</td>\n",
       "      <td>até 5 funcionários</td>\n",
       "      <td>34</td>\n",
       "      <td>Sim</td>\n",
       "      <td>Não</td>\n",
       "      <td>automática</td>\n",
       "      <td>Uso frequente</td>\n",
       "      <td>...</td>\n",
       "      <td>Pouco uso</td>\n",
       "      <td>Pouco uso</td>\n",
       "      <td>Pouco uso</td>\n",
       "      <td>Trimestral</td>\n",
       "      <td>0</td>\n",
       "      <td>No</td>\n",
       "      <td>Boleto - mês a mês</td>\n",
       "      <td>R$ 56,95</td>\n",
       "      <td>R$ 1.889,50</td>\n",
       "      <td>Não</td>\n",
       "    </tr>\n",
       "    <tr>\n",
       "      <th>2</th>\n",
       "      <td>3</td>\n",
       "      <td>Pequena empresa</td>\n",
       "      <td>2021</td>\n",
       "      <td>Não</td>\n",
       "      <td>até 5 funcionários</td>\n",
       "      <td>2</td>\n",
       "      <td>Sim</td>\n",
       "      <td>Não</td>\n",
       "      <td>automática</td>\n",
       "      <td>Uso frequente</td>\n",
       "      <td>...</td>\n",
       "      <td>Pouco uso</td>\n",
       "      <td>Pouco uso</td>\n",
       "      <td>Pouco uso</td>\n",
       "      <td>Mês-a-mês</td>\n",
       "      <td>1</td>\n",
       "      <td>Yes</td>\n",
       "      <td>Boleto - mês a mês</td>\n",
       "      <td>R$ 53,85</td>\n",
       "      <td>R$ 108,15</td>\n",
       "      <td>Sim</td>\n",
       "    </tr>\n",
       "    <tr>\n",
       "      <th>3</th>\n",
       "      <td>4</td>\n",
       "      <td>Pequena empresa</td>\n",
       "      <td>2016</td>\n",
       "      <td>Não</td>\n",
       "      <td>até 5 funcionários</td>\n",
       "      <td>45</td>\n",
       "      <td>Não</td>\n",
       "      <td>NaN</td>\n",
       "      <td>automática</td>\n",
       "      <td>Uso frequente</td>\n",
       "      <td>...</td>\n",
       "      <td>Uso frequente</td>\n",
       "      <td>Pouco uso</td>\n",
       "      <td>Pouco uso</td>\n",
       "      <td>Trimestral</td>\n",
       "      <td>0</td>\n",
       "      <td>No</td>\n",
       "      <td>Cartão de crédito - pagamento único</td>\n",
       "      <td>R$ 42,30</td>\n",
       "      <td>R$ 1.840,75</td>\n",
       "      <td>Não</td>\n",
       "    </tr>\n",
       "    <tr>\n",
       "      <th>4</th>\n",
       "      <td>5</td>\n",
       "      <td>Micro empresa</td>\n",
       "      <td>2017</td>\n",
       "      <td>Não</td>\n",
       "      <td>até 5 funcionários</td>\n",
       "      <td>2</td>\n",
       "      <td>Sim</td>\n",
       "      <td>Não</td>\n",
       "      <td>manual</td>\n",
       "      <td>Pouco uso</td>\n",
       "      <td>...</td>\n",
       "      <td>Pouco uso</td>\n",
       "      <td>Pouco uso</td>\n",
       "      <td>Pouco uso</td>\n",
       "      <td>Mês-a-mês</td>\n",
       "      <td>1</td>\n",
       "      <td>Yes</td>\n",
       "      <td>Boleto - pagamento único</td>\n",
       "      <td>R$ 70,70</td>\n",
       "      <td>R$ 151,65</td>\n",
       "      <td>Sim</td>\n",
       "    </tr>\n",
       "  </tbody>\n",
       "</table>\n",
       "<p>5 rows × 22 columns</p>\n",
       "</div>"
      ],
      "text/plain": [
       "   ID  Tipo de empresa  Fundação da empresa Possui mais de um sócio  \\\n",
       "0   1    Micro empresa                 2016                     Sim   \n",
       "1   2  Pequena empresa                 2018                     Não   \n",
       "2   3  Pequena empresa                 2021                     Não   \n",
       "3   4  Pequena empresa                 2016                     Não   \n",
       "4   5    Micro empresa                 2017                     Não   \n",
       "\n",
       "         Funcionários  Meses de permanência  Utiliza serviços financeiros  \\\n",
       "0  até 5 funcionários                      1                          Não   \n",
       "1  até 5 funcionários                     34                          Sim   \n",
       "2  até 5 funcionários                      2                          Sim   \n",
       "3  até 5 funcionários                     45                          Não   \n",
       "4  até 5 funcionários                      2                          Sim   \n",
       "\n",
       "  PossuiContador Faz conciliação bancária  \\\n",
       "0            NaN               automática   \n",
       "1           Não                automática   \n",
       "2           Não                automática   \n",
       "3            NaN               automática   \n",
       "4           Não                    manual   \n",
       "\n",
       "  Frequência de utilização de feature do sistema: Módulo financeiro  ...  \\\n",
       "0                                          Pouco uso                 ...   \n",
       "1                                      Uso frequente                 ...   \n",
       "2                                      Uso frequente                 ...   \n",
       "3                                      Uso frequente                 ...   \n",
       "4                                          Pouco uso                 ...   \n",
       "\n",
       "  Frequência de utilização de feature do sistema: Módulo de vendas  \\\n",
       "0                                          Pouco uso                 \n",
       "1                                          Pouco uso                 \n",
       "2                                          Pouco uso                 \n",
       "3                                      Uso frequente                 \n",
       "4                                          Pouco uso                 \n",
       "\n",
       "  Frequência de utilização de feature do sistema: Relatórios  \\\n",
       "0                                          Pouco uso           \n",
       "1                                          Pouco uso           \n",
       "2                                          Pouco uso           \n",
       "3                                          Pouco uso           \n",
       "4                                          Pouco uso           \n",
       "\n",
       "  Frequência de utilização de feature do sistema: Utilização de APIs de integração  \\\n",
       "0                                          Pouco uso                                 \n",
       "1                                          Pouco uso                                 \n",
       "2                                          Pouco uso                                 \n",
       "3                                          Pouco uso                                 \n",
       "4                                          Pouco uso                                 \n",
       "\n",
       "     Contrato Emite boletos Emite boletos.1  \\\n",
       "0   Mês-a-mês             1             Yes   \n",
       "1  Trimestral             0              No   \n",
       "2   Mês-a-mês             1             Yes   \n",
       "3  Trimestral             0              No   \n",
       "4   Mês-a-mês             1             Yes   \n",
       "\n",
       "                     Tipo de pagamento Receita mensal Receita total Churn  \n",
       "0             Boleto - pagamento único       R$ 29,85      R$ 29,85   Não  \n",
       "1                   Boleto - mês a mês       R$ 56,95   R$ 1.889,50   Não  \n",
       "2                   Boleto - mês a mês       R$ 53,85     R$ 108,15   Sim  \n",
       "3  Cartão de crédito - pagamento único       R$ 42,30   R$ 1.840,75   Não  \n",
       "4             Boleto - pagamento único       R$ 70,70     R$ 151,65   Sim  \n",
       "\n",
       "[5 rows x 22 columns]"
      ]
     },
     "execution_count": 2,
     "metadata": {},
     "output_type": "execute_result"
    }
   ],
   "source": [
    "df = pd.read_csv(\"../data/raw/customer_churn_data - customer_churn_data.csv\",decimal=\",\")\n",
    "print(\"DataFrame shape: \",df.shape)\n",
    "df.head()"
   ]
  },
  {
   "cell_type": "markdown",
   "metadata": {},
   "source": [
    "## 2 - Limpando e tratando dados"
   ]
  },
  {
   "cell_type": "code",
   "execution_count": 3,
   "metadata": {},
   "outputs": [
    {
     "data": {
      "text/html": [
       "<div>\n",
       "<style scoped>\n",
       "    .dataframe tbody tr th:only-of-type {\n",
       "        vertical-align: middle;\n",
       "    }\n",
       "\n",
       "    .dataframe tbody tr th {\n",
       "        vertical-align: top;\n",
       "    }\n",
       "\n",
       "    .dataframe thead th {\n",
       "        text-align: right;\n",
       "    }\n",
       "</style>\n",
       "<table border=\"1\" class=\"dataframe\">\n",
       "  <thead>\n",
       "    <tr style=\"text-align: right;\">\n",
       "      <th></th>\n",
       "      <th>ID</th>\n",
       "      <th>Tipo de empresa</th>\n",
       "      <th>Fundação da empresa</th>\n",
       "      <th>Possui mais de um sócio</th>\n",
       "      <th>Funcionários</th>\n",
       "      <th>Meses de permanência</th>\n",
       "      <th>Utiliza serviços financeiros</th>\n",
       "      <th>PossuiContador</th>\n",
       "      <th>Faz conciliação bancária</th>\n",
       "      <th>Frequência de utilização de feature do sistema: Módulo financeiro</th>\n",
       "      <th>...</th>\n",
       "      <th>Frequência de utilização de feature do sistema: Integração bancária</th>\n",
       "      <th>Frequência de utilização de feature do sistema: Módulo de vendas</th>\n",
       "      <th>Frequência de utilização de feature do sistema: Relatórios</th>\n",
       "      <th>Frequência de utilização de feature do sistema: Utilização de APIs de integração</th>\n",
       "      <th>Contrato</th>\n",
       "      <th>Emite boletos.1</th>\n",
       "      <th>Tipo de pagamento</th>\n",
       "      <th>Receita mensal</th>\n",
       "      <th>Receita total</th>\n",
       "      <th>Churn</th>\n",
       "    </tr>\n",
       "  </thead>\n",
       "  <tbody>\n",
       "    <tr>\n",
       "      <th>0</th>\n",
       "      <td>1</td>\n",
       "      <td>Micro empresa</td>\n",
       "      <td>2016</td>\n",
       "      <td>Sim</td>\n",
       "      <td>até 5 funcionários</td>\n",
       "      <td>1</td>\n",
       "      <td>Não</td>\n",
       "      <td>NaN</td>\n",
       "      <td>automática</td>\n",
       "      <td>Pouco uso</td>\n",
       "      <td>...</td>\n",
       "      <td>Pouco uso</td>\n",
       "      <td>Pouco uso</td>\n",
       "      <td>Pouco uso</td>\n",
       "      <td>Pouco uso</td>\n",
       "      <td>Mês-a-mês</td>\n",
       "      <td>Yes</td>\n",
       "      <td>Boleto - pagamento único</td>\n",
       "      <td>29.85</td>\n",
       "      <td>29.85</td>\n",
       "      <td>Não</td>\n",
       "    </tr>\n",
       "    <tr>\n",
       "      <th>1</th>\n",
       "      <td>2</td>\n",
       "      <td>Pequena empresa</td>\n",
       "      <td>2018</td>\n",
       "      <td>Não</td>\n",
       "      <td>até 5 funcionários</td>\n",
       "      <td>34</td>\n",
       "      <td>Sim</td>\n",
       "      <td>Não</td>\n",
       "      <td>automática</td>\n",
       "      <td>Uso frequente</td>\n",
       "      <td>...</td>\n",
       "      <td>Uso frequente</td>\n",
       "      <td>Pouco uso</td>\n",
       "      <td>Pouco uso</td>\n",
       "      <td>Pouco uso</td>\n",
       "      <td>Trimestral</td>\n",
       "      <td>No</td>\n",
       "      <td>Boleto - mês a mês</td>\n",
       "      <td>56.95</td>\n",
       "      <td>1889.50</td>\n",
       "      <td>Não</td>\n",
       "    </tr>\n",
       "    <tr>\n",
       "      <th>2</th>\n",
       "      <td>3</td>\n",
       "      <td>Pequena empresa</td>\n",
       "      <td>2021</td>\n",
       "      <td>Não</td>\n",
       "      <td>até 5 funcionários</td>\n",
       "      <td>2</td>\n",
       "      <td>Sim</td>\n",
       "      <td>Não</td>\n",
       "      <td>automática</td>\n",
       "      <td>Uso frequente</td>\n",
       "      <td>...</td>\n",
       "      <td>Pouco uso</td>\n",
       "      <td>Pouco uso</td>\n",
       "      <td>Pouco uso</td>\n",
       "      <td>Pouco uso</td>\n",
       "      <td>Mês-a-mês</td>\n",
       "      <td>Yes</td>\n",
       "      <td>Boleto - mês a mês</td>\n",
       "      <td>53.85</td>\n",
       "      <td>108.15</td>\n",
       "      <td>Sim</td>\n",
       "    </tr>\n",
       "    <tr>\n",
       "      <th>3</th>\n",
       "      <td>4</td>\n",
       "      <td>Pequena empresa</td>\n",
       "      <td>2016</td>\n",
       "      <td>Não</td>\n",
       "      <td>até 5 funcionários</td>\n",
       "      <td>45</td>\n",
       "      <td>Não</td>\n",
       "      <td>NaN</td>\n",
       "      <td>automática</td>\n",
       "      <td>Uso frequente</td>\n",
       "      <td>...</td>\n",
       "      <td>Uso frequente</td>\n",
       "      <td>Uso frequente</td>\n",
       "      <td>Pouco uso</td>\n",
       "      <td>Pouco uso</td>\n",
       "      <td>Trimestral</td>\n",
       "      <td>No</td>\n",
       "      <td>Cartão de crédito - pagamento único</td>\n",
       "      <td>42.30</td>\n",
       "      <td>1840.75</td>\n",
       "      <td>Não</td>\n",
       "    </tr>\n",
       "    <tr>\n",
       "      <th>4</th>\n",
       "      <td>5</td>\n",
       "      <td>Micro empresa</td>\n",
       "      <td>2017</td>\n",
       "      <td>Não</td>\n",
       "      <td>até 5 funcionários</td>\n",
       "      <td>2</td>\n",
       "      <td>Sim</td>\n",
       "      <td>Não</td>\n",
       "      <td>manual</td>\n",
       "      <td>Pouco uso</td>\n",
       "      <td>...</td>\n",
       "      <td>Pouco uso</td>\n",
       "      <td>Pouco uso</td>\n",
       "      <td>Pouco uso</td>\n",
       "      <td>Pouco uso</td>\n",
       "      <td>Mês-a-mês</td>\n",
       "      <td>Yes</td>\n",
       "      <td>Boleto - pagamento único</td>\n",
       "      <td>70.70</td>\n",
       "      <td>151.65</td>\n",
       "      <td>Sim</td>\n",
       "    </tr>\n",
       "  </tbody>\n",
       "</table>\n",
       "<p>5 rows × 21 columns</p>\n",
       "</div>"
      ],
      "text/plain": [
       "   ID  Tipo de empresa  Fundação da empresa Possui mais de um sócio  \\\n",
       "0   1    Micro empresa                 2016                     Sim   \n",
       "1   2  Pequena empresa                 2018                     Não   \n",
       "2   3  Pequena empresa                 2021                     Não   \n",
       "3   4  Pequena empresa                 2016                     Não   \n",
       "4   5    Micro empresa                 2017                     Não   \n",
       "\n",
       "         Funcionários  Meses de permanência  Utiliza serviços financeiros  \\\n",
       "0  até 5 funcionários                      1                          Não   \n",
       "1  até 5 funcionários                     34                          Sim   \n",
       "2  até 5 funcionários                      2                          Sim   \n",
       "3  até 5 funcionários                     45                          Não   \n",
       "4  até 5 funcionários                      2                          Sim   \n",
       "\n",
       "  PossuiContador Faz conciliação bancária  \\\n",
       "0            NaN               automática   \n",
       "1           Não                automática   \n",
       "2           Não                automática   \n",
       "3            NaN               automática   \n",
       "4           Não                    manual   \n",
       "\n",
       "  Frequência de utilização de feature do sistema: Módulo financeiro  ...  \\\n",
       "0                                          Pouco uso                 ...   \n",
       "1                                      Uso frequente                 ...   \n",
       "2                                      Uso frequente                 ...   \n",
       "3                                      Uso frequente                 ...   \n",
       "4                                          Pouco uso                 ...   \n",
       "\n",
       "  Frequência de utilização de feature do sistema: Integração bancária  \\\n",
       "0                                          Pouco uso                    \n",
       "1                                      Uso frequente                    \n",
       "2                                          Pouco uso                    \n",
       "3                                      Uso frequente                    \n",
       "4                                          Pouco uso                    \n",
       "\n",
       "  Frequência de utilização de feature do sistema: Módulo de vendas  \\\n",
       "0                                          Pouco uso                 \n",
       "1                                          Pouco uso                 \n",
       "2                                          Pouco uso                 \n",
       "3                                      Uso frequente                 \n",
       "4                                          Pouco uso                 \n",
       "\n",
       "  Frequência de utilização de feature do sistema: Relatórios  \\\n",
       "0                                          Pouco uso           \n",
       "1                                          Pouco uso           \n",
       "2                                          Pouco uso           \n",
       "3                                          Pouco uso           \n",
       "4                                          Pouco uso           \n",
       "\n",
       "  Frequência de utilização de feature do sistema: Utilização de APIs de integração  \\\n",
       "0                                          Pouco uso                                 \n",
       "1                                          Pouco uso                                 \n",
       "2                                          Pouco uso                                 \n",
       "3                                          Pouco uso                                 \n",
       "4                                          Pouco uso                                 \n",
       "\n",
       "     Contrato Emite boletos.1                    Tipo de pagamento  \\\n",
       "0   Mês-a-mês             Yes             Boleto - pagamento único   \n",
       "1  Trimestral              No                   Boleto - mês a mês   \n",
       "2   Mês-a-mês             Yes                   Boleto - mês a mês   \n",
       "3  Trimestral              No  Cartão de crédito - pagamento único   \n",
       "4   Mês-a-mês             Yes             Boleto - pagamento único   \n",
       "\n",
       "  Receita mensal  Receita total  Churn  \n",
       "0          29.85          29.85    Não  \n",
       "1          56.95        1889.50    Não  \n",
       "2          53.85         108.15    Sim  \n",
       "3          42.30        1840.75    Não  \n",
       "4          70.70         151.65    Sim  \n",
       "\n",
       "[5 rows x 21 columns]"
      ]
     },
     "execution_count": 3,
     "metadata": {},
     "output_type": "execute_result"
    }
   ],
   "source": [
    "def clear_numeric_strings(dataframe:pd.DataFrame,subset=Union[str,list]):\n",
    "    new_df = dataframe.copy()\n",
    "    if isinstance(subset,str):\n",
    "        new_df[subset] = new_df[subset].str.replace(pat=r\"([R$])|([.])\",repl=\"\",regex=True)\\\n",
    "                                               .str.strip()\\\n",
    "                                               .str.replace(pat=\",\",repl=\".\")\n",
    "    else:\n",
    "        new_df[subset] = new_df[subset].apply(\n",
    "            func=lambda s: s.str.replace(pat=r\"([R$])|([.])\",repl=\"\",regex=True)\\\n",
    "                                               .str.strip()\\\n",
    "                                               .str.replace(pat=\",\",repl=\".\"),\n",
    "            axis=1,\n",
    "        )\n",
    "    return new_df\n",
    "        \n",
    "def convert_to_numeric(dataframe:pd.DataFrame,subset:Union[str,list]):\n",
    "    new_df = dataframe.copy()\n",
    "    new_df[subset]=new_df[subset].astype(\"float\")\n",
    "    return new_df\n",
    "\n",
    "\n",
    "conv_cols = [\"Receita mensal\",\"Receita total\"]\n",
    "df = clear_numeric_strings(dataframe=df,subset=conv_cols)\n",
    "df = convert_to_numeric(dataframe=df,subset=conv_cols)\n",
    "df = df.drop(\"Emite boletos\",axis=1)\n",
    "df.head()"
   ]
  },
  {
   "cell_type": "code",
   "execution_count": 4,
   "metadata": {},
   "outputs": [
    {
     "data": {
      "text/plain": [
       "ID                                                                                     int64\n",
       "Tipo de empresa                                                                     category\n",
       "Fundação da empresa                                                                    int64\n",
       "Possui mais de um sócio                                                             category\n",
       "Funcionários                                                                        category\n",
       "Meses de permanência                                                                   int64\n",
       "Utiliza serviços financeiros                                                        category\n",
       "PossuiContador                                                                      category\n",
       "Faz conciliação bancária                                                            category\n",
       "Frequência de utilização de feature do sistema: Módulo financeiro                   category\n",
       "Frequência de utilização de feature do sistema: Emissão de nota fiscal              category\n",
       "Frequência de utilização de feature do sistema: Integração bancária                 category\n",
       "Frequência de utilização de feature do sistema: Módulo de vendas                    category\n",
       "Frequência de utilização de feature do sistema: Relatórios                          category\n",
       "Frequência de utilização de feature do sistema: Utilização de APIs de integração    category\n",
       "Contrato                                                                            category\n",
       "Emite boletos.1                                                                     category\n",
       "Tipo de pagamento                                                                   category\n",
       "Receita mensal                                                                       float64\n",
       "Receita total                                                                        float64\n",
       "Churn                                                                               category\n",
       "dtype: object"
      ]
     },
     "execution_count": 4,
     "metadata": {},
     "output_type": "execute_result"
    }
   ],
   "source": [
    "def convert_to_categoric(dataframe:pd.DataFrame,subset:Union[str,list]):\n",
    "    new_df = dataframe.copy()\n",
    "    new_df[subset]=new_df[subset].astype(\"category\")\n",
    "    return new_df\n",
    "\n",
    "cat_columns = list(df.select_dtypes(include=\"object\",exclude=[\"float64\",\"int64\"]).columns)\n",
    "df = convert_to_categoric(dataframe=df,subset=cat_columns)\n",
    "df.dtypes"
   ]
  },
  {
   "cell_type": "markdown",
   "metadata": {},
   "source": [
    "## 3 - Construindo features"
   ]
  },
  {
   "cell_type": "markdown",
   "metadata": {},
   "source": [
    "As variáveis númericas apresentam dados mais dispersos, uma forma de ter uma melhor informação desses valores é os associando em categorias. \n",
    "\n",
    "Vamos visualizar isso com a feature `Meses de permanência`"
   ]
  },
  {
   "cell_type": "code",
   "execution_count": 5,
   "metadata": {},
   "outputs": [],
   "source": [
    "def classify_col(dataframe:pd.DataFrame,col_to_clf:str,new_col_name:str,map:dict):\n",
    "    new_df = df.copy()\n",
    "    new_df[new_col_name]=np.nan\n",
    "    for cat,range in map.items():\n",
    "        values = dataframe[col_to_clf].isin(range)\n",
    "        new_df[new_col_name]=new_df[new_col_name].mask(values,cat)\n",
    "    return new_df"
   ]
  },
  {
   "cell_type": "code",
   "execution_count": 6,
   "metadata": {},
   "outputs": [
    {
     "data": {
      "text/plain": [
       "cat_meses_perm\n",
       "Maior que 36 meses     3051\n",
       "Entre 12 a 36 meses    1923\n",
       "Entre 3 a 12 meses     1207\n",
       "Menor que 3 meses       862\n",
       "Name: count, dtype: int64"
      ]
     },
     "execution_count": 6,
     "metadata": {},
     "output_type": "execute_result"
    }
   ],
   "source": [
    "map_temp_perm = {\n",
    "    \"Menor que 3 meses\":range(0,3),\n",
    "    \"Entre 3 a 12 meses\":range(3,12),\n",
    "    \"Entre 12 a 36 meses\":range(12,36),\n",
    "    \"Maior que 36 meses\":range(36,100),\n",
    "}\n",
    "\n",
    "df = classify_col(dataframe=df,col_to_clf=\"Meses de permanência \",new_col_name=\"cat_meses_perm\",map=map_temp_perm)\n",
    "df = convert_to_categoric(dataframe=df,subset=\"cat_meses_perm\")\n",
    "df[\"cat_meses_perm\"].value_counts()"
   ]
  },
  {
   "cell_type": "code",
   "execution_count": 7,
   "metadata": {},
   "outputs": [
    {
     "data": {
      "image/png": "[encoded data removed]",
      "text/plain": [
       "<Figure size 1200x800 with 1 Axes>"
      ]
     },
     "metadata": {},
     "output_type": "display_data"
    }
   ],
   "source": [
    "fig, ax = plt.subplots(figsize=(12,8))\n",
    "sns.countplot(data=df,x=\"cat_meses_perm\",hue=\"Churn\",ax=ax);"
   ]
  },
  {
   "cell_type": "markdown",
   "metadata": {},
   "source": [
    "Visualizando esse gráfico podemos perceber que quanto maior o tempo de permanência maior é a fidelidade do cliente e menor a probabilidade de churn.\n",
    "\n",
    "Uma outra informação que esse gráfico pode trazer é a variação da receita mensal conforme o tempo de permanência varia. Vamos visualizar isso no boxplot abaixo e também verificar qual a distribuição da receita mensal"
   ]
  },
  {
   "cell_type": "code",
   "execution_count": 8,
   "metadata": {},
   "outputs": [
    {
     "data": {
      "text/html": [
       "<div>\n",
       "<style scoped>\n",
       "    .dataframe tbody tr th:only-of-type {\n",
       "        vertical-align: middle;\n",
       "    }\n",
       "\n",
       "    .dataframe tbody tr th {\n",
       "        vertical-align: top;\n",
       "    }\n",
       "\n",
       "    .dataframe thead th {\n",
       "        text-align: right;\n",
       "    }\n",
       "</style>\n",
       "<table border=\"1\" class=\"dataframe\">\n",
       "  <thead>\n",
       "    <tr style=\"text-align: right;\">\n",
       "      <th></th>\n",
       "      <th>Receita mensal</th>\n",
       "    </tr>\n",
       "  </thead>\n",
       "  <tbody>\n",
       "    <tr>\n",
       "      <th>count</th>\n",
       "      <td>7043.000000</td>\n",
       "    </tr>\n",
       "    <tr>\n",
       "      <th>mean</th>\n",
       "      <td>64.761692</td>\n",
       "    </tr>\n",
       "    <tr>\n",
       "      <th>std</th>\n",
       "      <td>30.090047</td>\n",
       "    </tr>\n",
       "    <tr>\n",
       "      <th>min</th>\n",
       "      <td>18.250000</td>\n",
       "    </tr>\n",
       "    <tr>\n",
       "      <th>25%</th>\n",
       "      <td>35.500000</td>\n",
       "    </tr>\n",
       "    <tr>\n",
       "      <th>50%</th>\n",
       "      <td>70.350000</td>\n",
       "    </tr>\n",
       "    <tr>\n",
       "      <th>75%</th>\n",
       "      <td>89.850000</td>\n",
       "    </tr>\n",
       "    <tr>\n",
       "      <th>max</th>\n",
       "      <td>118.750000</td>\n",
       "    </tr>\n",
       "  </tbody>\n",
       "</table>\n",
       "</div>"
      ],
      "text/plain": [
       "       Receita mensal\n",
       "count     7043.000000\n",
       "mean        64.761692\n",
       "std         30.090047\n",
       "min         18.250000\n",
       "25%         35.500000\n",
       "50%         70.350000\n",
       "75%         89.850000\n",
       "max        118.750000"
      ]
     },
     "execution_count": 8,
     "metadata": {},
     "output_type": "execute_result"
    },
    {
     "data": {
      "image/png": "[encoded data removed]",
      "text/plain": [
       "<Figure size 1200x800 with 1 Axes>"
      ]
     },
     "metadata": {},
     "output_type": "display_data"
    }
   ],
   "source": [
    "fig,ax = plt.subplots(figsize=(12,8))\n",
    "sns.boxplot(data=df,x=\"cat_meses_perm\",y=\"Receita mensal\",hue=\"Churn\",ax=ax);\n",
    "df[[\"Receita mensal\"]].describe()"
   ]
  },
  {
   "cell_type": "markdown",
   "metadata": {},
   "source": [
    "Podemos observar que empresas que fazem o Churn tendem a ter mais receita mensal e inclusive maior que 70.0 até nos primeiros meses, contudo, lembre-se que empresas com menor tempo de permância tem maior tendência a sair. Logo, será que quem tem receita mensal maior que 70.0 nos primeiros meses tende a sair?"
   ]
  },
  {
   "cell_type": "code",
   "execution_count": 9,
   "metadata": {},
   "outputs": [
    {
     "name": "stdout",
     "output_type": "stream",
     "text": [
      "% de empresas com renda maior ou igual a 70.0: 50.98679539968764\n"
     ]
    },
    {
     "data": {
      "image/png": "[encoded data removed]",
      "text/plain": [
       "<Figure size 1200x800 with 1 Axes>"
      ]
     },
     "metadata": {},
     "output_type": "display_data"
    }
   ],
   "source": [
    "fig,ax = plt.subplots(figsize=(12,8))\n",
    "print(\"% de empresas com renda maior ou igual a 70.0:\",(df[df[\"Receita mensal\"]>=70.0].shape[0]/df.shape[0])*100.0)\n",
    "sns.countplot(data=df[df[\"Receita mensal\"]>=70.0],x=\"cat_meses_perm\",hue=\"Churn\",ax=ax);"
   ]
  },
  {
   "cell_type": "markdown",
   "metadata": {},
   "source": [
    "Pelo gráfico acima, percebemos que empresas com receita maior ou igual a 70.0 correspondem a praticamente 51% dos valores e dentro disso quem tem esse valor a menos de 1 ano tem maior tendência ao churn. Isso o torna um dado importante que podemos acrescentar como uma feature."
   ]
  },
  {
   "cell_type": "code",
   "execution_count": 10,
   "metadata": {},
   "outputs": [],
   "source": [
    "df[\"is_receita_mensal_maior_ou_igual_70\"] = df[\"Receita mensal\"].gt(70.0)|df[\"Receita mensal\"].eq(70.0)"
   ]
  },
  {
   "cell_type": "markdown",
   "metadata": {},
   "source": [
    "Podemos também construir features a partir das features categóricas. Temos 6 features que falam sobre a frequência de uso da plataforma e vimos na EDA que empresas com \"Pouco uso\" tem maior tendência ao Churn e empresas com \"Uso frequente\" tem menor tendência de Churn. Dessa forma, podemos reunir essas informações em duas features."
   ]
  },
  {
   "cell_type": "code",
   "execution_count": 11,
   "metadata": {},
   "outputs": [],
   "source": [
    "cols_freq = [\n",
    "\"Frequência de utilização de feature do sistema: Módulo financeiro\",\n",
    "\"Frequência de utilização de feature do sistema: Emissão de nota fiscal\",\n",
    "\"Frequência de utilização de feature do sistema: Integração bancária\",\n",
    "\"Frequência de utilização de feature do sistema: Módulo de vendas\",\n",
    "\"Frequência de utilização de feature do sistema: Relatórios\",\n",
    "\"Frequência de utilização de feature do sistema: Utilização de APIs de integração\"\n",
    "]\n",
    "df[\"quantidade_PoucoUso_features\"] = df[cols_freq].map(\n",
    "    func=lambda d: 1 if d==\"Pouco uso\" else 0,\n",
    ").agg(\"sum\",axis=1)\n",
    "\n",
    "df[\"quantidade_Usofrequente_features\"]=df[cols_freq].map(\n",
    "    func=lambda d: 1 if d==\"Uso frequente\" else 0,\n",
    ").agg(\"sum\",axis=1)"
   ]
  },
  {
   "cell_type": "code",
   "execution_count": 12,
   "metadata": {},
   "outputs": [
    {
     "data": {
      "image/png": "[encoded data removed]",
      "text/plain": [
       "<Figure size 1200x800 with 1 Axes>"
      ]
     },
     "metadata": {},
     "output_type": "display_data"
    }
   ],
   "source": [
    "fig,ax = plt.subplots(figsize=(12,8))\n",
    "sns.countplot(data=df,x=\"quantidade_PoucoUso_features\",hue=\"Churn\",ax=ax);"
   ]
  },
  {
   "cell_type": "code",
   "execution_count": 14,
   "metadata": {},
   "outputs": [
    {
     "data": {
      "image/png": "[encoded data removed]",
      "text/plain": [
       "<Figure size 1200x800 with 1 Axes>"
      ]
     },
     "metadata": {},
     "output_type": "display_data"
    }
   ],
   "source": [
    "fig,ax = plt.subplots(figsize=(12,8))\n",
    "sns.countplot(data=df,x=\"quantidade_Usofrequente_features\",hue=\"Churn\",ax=ax);"
   ]
  },
  {
   "cell_type": "markdown",
   "metadata": {},
   "source": [
    "Por fim, vimos pelo notebook da EDA que Receita total possui valores nulos, vamos investigar porque isso acontece."
   ]
  },
  {
   "cell_type": "code",
   "execution_count": null,
   "metadata": {},
   "outputs": [],
   "source": [
    "df[df[\"Receita total\"].isnull()]"
   ]
  },
  {
   "cell_type": "markdown",
   "metadata": {},
   "source": [
    "Veja que `Receita total` possui valor nulo quando a empresa está no Mês de permanância 0 podemos substituir seu valor pela mediana dos dados, contudo, é interessante para o modelo informar que esse valor não está presente, nesse caso, ele consegue ter mais contexto, entendendo que aquele dado pertence ao mês 0"
   ]
  },
  {
   "cell_type": "code",
   "execution_count": null,
   "metadata": {},
   "outputs": [],
   "source": [
    "df[\"is_Receitatotal_null\"] = df[\"Receita total\"].isnull()\n",
    "df[df[\"is_Receitatotal_null\"]==True].shape[0]"
   ]
  },
  {
   "cell_type": "markdown",
   "metadata": {},
   "source": [
    "## 4 - Arrumando features categóricas\n",
    "\n",
    "Conforme vimos na EDA, as features categóricas apresentam informações importantes a respeito do Churn. Contudo, a feature `PossuiContador` possui uma grande quantidade de valores nulos, quase próximo de 10% do total. No modelo, é necessário substituir por um valor, contudo, para sinalizar que essa variável é nula, podemos contruir uma variavel booleana indicando a falta dessa informação"
   ]
  },
  {
   "cell_type": "code",
   "execution_count": null,
   "metadata": {},
   "outputs": [],
   "source": [
    "df[\"is_PossuiContador_null\"] = df[\"PossuiContador\"].isnull()\n",
    "df[df[\"is_PossuiContador_null\"]==True].shape[0]"
   ]
  },
  {
   "cell_type": "markdown",
   "metadata": {},
   "source": [
    "## 5 -Conclusão"
   ]
  },
  {
   "cell_type": "markdown",
   "metadata": {},
   "source": [
    "- Conseguimos construir seis novas features: `cat_meses_perm` que coloca os valores de `Meses permanância` em categorias, `is_receita_mensal_maior_ou_igual_70` que verifica se a `receita mensal` é maior ou 70, `is_PossuiContador_null` e `is_ReceitaTotal_null` que indica a falta desses valores e `quantidade_PoucoUso_features` e `quantidade_Usofrequente_features` que reune dados sobre o uso das features.\n",
    "- As variáveis categóricas estão com boa qualidade e também são importantes para distinguir quem faz ou não o Churn, prinicpalmente, quando consideradas em conjunto com as variáveis numéricas.\n",
    "- As variáveis numéricas apesar de poucas ilustram bons padrões nos dados. A feature `Meses de permanância` quando categorizada consegue resumir bem a informação que quanto maior esse valor menor é a chance de Churn, além disso, pelos nossos dados vimos que quem tem `Receita mensal` acima de 70.0 nos três primeiros meses apresenta maior chance de Churn.\n",
    "- Para o modelo podemos tratar os dados faltantes a partir de inserção de valores mas também é importante sinalizar sua falta assim o modelo consegue ter maior contexto dessa informação."
   ]
  }
 ],
 "metadata": {
  "kernelspec": {
   "display_name": "churn_pred_env",
   "language": "python",
   "name": "python3"
  },
  "language_info": {
   "codemirror_mode": {
    "name": "ipython",
    "version": 3
   },
   "file_extension": ".py",
   "mimetype": "text/x-python",
   "name": "python",
   "nbconvert_exporter": "python",
   "pygments_lexer": "ipython3",
   "version": "3.11.8"
  }
 },
 "nbformat": 4,
 "nbformat_minor": 2
}
