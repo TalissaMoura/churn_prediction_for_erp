{
 "cells": [
  {
   "cell_type": "markdown",
   "metadata": {},
   "source": [
    "# Define baseline model\n",
    "\n",
    "Com base nas nossas regras de negócio vamos definir o modelo baseline, vamos aplicar um modelo simples e analisar como ele prever nossas variáveis. "
   ]
  },
  {
   "cell_type": "code",
   "execution_count": 23,
   "metadata": {},
   "outputs": [],
   "source": [
    "import pandas as pd\n",
    "import numpy as np\n",
    "import seaborn as sns\n",
    "import matplotlib.pyplot as plt\n",
    "\n",
    "\n",
    "from sklearn.model_selection import train_test_split\n",
    "from sklearn.metrics import classification_report,confusion_matrix, ConfusionMatrixDisplay\n",
    "from sklearn.tree import DecisionTreeClassifier\n",
    "from sklearn.compose import ColumnTransformer\n",
    "from sklearn.preprocessing import OneHotEncoder\n",
    "from sklearn.pipeline import Pipeline\n",
    "from sklearn.impute import SimpleImputer\n",
    "\n",
    "from typing import Union"
   ]
  },
  {
   "cell_type": "markdown",
   "metadata": {},
   "source": [
    "## 1 - Leitura dos dados"
   ]
  },
  {
   "cell_type": "code",
   "execution_count": 2,
   "metadata": {},
   "outputs": [
    {
     "name": "stdout",
     "output_type": "stream",
     "text": [
      "DataFrame shape:  (7043, 22)\n"
     ]
    },
    {
     "data": {
      "text/html": [
       "<div>\n",
       "<style scoped>\n",
       "    .dataframe tbody tr th:only-of-type {\n",
       "        vertical-align: middle;\n",
       "    }\n",
       "\n",
       "    .dataframe tbody tr th {\n",
       "        vertical-align: top;\n",
       "    }\n",
       "\n",
       "    .dataframe thead th {\n",
       "        text-align: right;\n",
       "    }\n",
       "</style>\n",
       "<table border=\"1\" class=\"dataframe\">\n",
       "  <thead>\n",
       "    <tr style=\"text-align: right;\">\n",
       "      <th></th>\n",
       "      <th>ID</th>\n",
       "      <th>Tipo de empresa</th>\n",
       "      <th>Fundação da empresa</th>\n",
       "      <th>Possui mais de um sócio</th>\n",
       "      <th>Funcionários</th>\n",
       "      <th>Meses de permanência</th>\n",
       "      <th>Utiliza serviços financeiros</th>\n",
       "      <th>PossuiContador</th>\n",
       "      <th>Faz conciliação bancária</th>\n",
       "      <th>Frequência de utilização de feature do sistema: Módulo financeiro</th>\n",
       "      <th>...</th>\n",
       "      <th>Frequência de utilização de feature do sistema: Módulo de vendas</th>\n",
       "      <th>Frequência de utilização de feature do sistema: Relatórios</th>\n",
       "      <th>Frequência de utilização de feature do sistema: Utilização de APIs de integração</th>\n",
       "      <th>Contrato</th>\n",
       "      <th>Emite boletos</th>\n",
       "      <th>Emite boletos.1</th>\n",
       "      <th>Tipo de pagamento</th>\n",
       "      <th>Receita mensal</th>\n",
       "      <th>Receita total</th>\n",
       "      <th>Churn</th>\n",
       "    </tr>\n",
       "  </thead>\n",
       "  <tbody>\n",
       "    <tr>\n",
       "      <th>0</th>\n",
       "      <td>1</td>\n",
       "      <td>Micro empresa</td>\n",
       "      <td>2016</td>\n",
       "      <td>Sim</td>\n",
       "      <td>até 5 funcionários</td>\n",
       "      <td>1</td>\n",
       "      <td>Não</td>\n",
       "      <td>NaN</td>\n",
       "      <td>automática</td>\n",
       "      <td>Pouco uso</td>\n",
       "      <td>...</td>\n",
       "      <td>Pouco uso</td>\n",
       "      <td>Pouco uso</td>\n",
       "      <td>Pouco uso</td>\n",
       "      <td>Mês-a-mês</td>\n",
       "      <td>1</td>\n",
       "      <td>Yes</td>\n",
       "      <td>Boleto - pagamento único</td>\n",
       "      <td>R$ 29,85</td>\n",
       "      <td>R$ 29,85</td>\n",
       "      <td>Não</td>\n",
       "    </tr>\n",
       "    <tr>\n",
       "      <th>1</th>\n",
       "      <td>2</td>\n",
       "      <td>Pequena empresa</td>\n",
       "      <td>2018</td>\n",
       "      <td>Não</td>\n",
       "      <td>até 5 funcionários</td>\n",
       "      <td>34</td>\n",
       "      <td>Sim</td>\n",
       "      <td>Não</td>\n",
       "      <td>automática</td>\n",
       "      <td>Uso frequente</td>\n",
       "      <td>...</td>\n",
       "      <td>Pouco uso</td>\n",
       "      <td>Pouco uso</td>\n",
       "      <td>Pouco uso</td>\n",
       "      <td>Trimestral</td>\n",
       "      <td>0</td>\n",
       "      <td>No</td>\n",
       "      <td>Boleto - mês a mês</td>\n",
       "      <td>R$ 56,95</td>\n",
       "      <td>R$ 1.889,50</td>\n",
       "      <td>Não</td>\n",
       "    </tr>\n",
       "    <tr>\n",
       "      <th>2</th>\n",
       "      <td>3</td>\n",
       "      <td>Pequena empresa</td>\n",
       "      <td>2021</td>\n",
       "      <td>Não</td>\n",
       "      <td>até 5 funcionários</td>\n",
       "      <td>2</td>\n",
       "      <td>Sim</td>\n",
       "      <td>Não</td>\n",
       "      <td>automática</td>\n",
       "      <td>Uso frequente</td>\n",
       "      <td>...</td>\n",
       "      <td>Pouco uso</td>\n",
       "      <td>Pouco uso</td>\n",
       "      <td>Pouco uso</td>\n",
       "      <td>Mês-a-mês</td>\n",
       "      <td>1</td>\n",
       "      <td>Yes</td>\n",
       "      <td>Boleto - mês a mês</td>\n",
       "      <td>R$ 53,85</td>\n",
       "      <td>R$ 108,15</td>\n",
       "      <td>Sim</td>\n",
       "    </tr>\n",
       "    <tr>\n",
       "      <th>3</th>\n",
       "      <td>4</td>\n",
       "      <td>Pequena empresa</td>\n",
       "      <td>2016</td>\n",
       "      <td>Não</td>\n",
       "      <td>até 5 funcionários</td>\n",
       "      <td>45</td>\n",
       "      <td>Não</td>\n",
       "      <td>NaN</td>\n",
       "      <td>automática</td>\n",
       "      <td>Uso frequente</td>\n",
       "      <td>...</td>\n",
       "      <td>Uso frequente</td>\n",
       "      <td>Pouco uso</td>\n",
       "      <td>Pouco uso</td>\n",
       "      <td>Trimestral</td>\n",
       "      <td>0</td>\n",
       "      <td>No</td>\n",
       "      <td>Cartão de crédito - pagamento único</td>\n",
       "      <td>R$ 42,30</td>\n",
       "      <td>R$ 1.840,75</td>\n",
       "      <td>Não</td>\n",
       "    </tr>\n",
       "    <tr>\n",
       "      <th>4</th>\n",
       "      <td>5</td>\n",
       "      <td>Micro empresa</td>\n",
       "      <td>2017</td>\n",
       "      <td>Não</td>\n",
       "      <td>até 5 funcionários</td>\n",
       "      <td>2</td>\n",
       "      <td>Sim</td>\n",
       "      <td>Não</td>\n",
       "      <td>manual</td>\n",
       "      <td>Pouco uso</td>\n",
       "      <td>...</td>\n",
       "      <td>Pouco uso</td>\n",
       "      <td>Pouco uso</td>\n",
       "      <td>Pouco uso</td>\n",
       "      <td>Mês-a-mês</td>\n",
       "      <td>1</td>\n",
       "      <td>Yes</td>\n",
       "      <td>Boleto - pagamento único</td>\n",
       "      <td>R$ 70,70</td>\n",
       "      <td>R$ 151,65</td>\n",
       "      <td>Sim</td>\n",
       "    </tr>\n",
       "  </tbody>\n",
       "</table>\n",
       "<p>5 rows × 22 columns</p>\n",
       "</div>"
      ],
      "text/plain": [
       "   ID  Tipo de empresa  Fundação da empresa Possui mais de um sócio  \\\n",
       "0   1    Micro empresa                 2016                     Sim   \n",
       "1   2  Pequena empresa                 2018                     Não   \n",
       "2   3  Pequena empresa                 2021                     Não   \n",
       "3   4  Pequena empresa                 2016                     Não   \n",
       "4   5    Micro empresa                 2017                     Não   \n",
       "\n",
       "         Funcionários  Meses de permanência  Utiliza serviços financeiros  \\\n",
       "0  até 5 funcionários                      1                          Não   \n",
       "1  até 5 funcionários                     34                          Sim   \n",
       "2  até 5 funcionários                      2                          Sim   \n",
       "3  até 5 funcionários                     45                          Não   \n",
       "4  até 5 funcionários                      2                          Sim   \n",
       "\n",
       "  PossuiContador Faz conciliação bancária  \\\n",
       "0            NaN               automática   \n",
       "1           Não                automática   \n",
       "2           Não                automática   \n",
       "3            NaN               automática   \n",
       "4           Não                    manual   \n",
       "\n",
       "  Frequência de utilização de feature do sistema: Módulo financeiro  ...  \\\n",
       "0                                          Pouco uso                 ...   \n",
       "1                                      Uso frequente                 ...   \n",
       "2                                      Uso frequente                 ...   \n",
       "3                                      Uso frequente                 ...   \n",
       "4                                          Pouco uso                 ...   \n",
       "\n",
       "  Frequência de utilização de feature do sistema: Módulo de vendas  \\\n",
       "0                                          Pouco uso                 \n",
       "1                                          Pouco uso                 \n",
       "2                                          Pouco uso                 \n",
       "3                                      Uso frequente                 \n",
       "4                                          Pouco uso                 \n",
       "\n",
       "  Frequência de utilização de feature do sistema: Relatórios  \\\n",
       "0                                          Pouco uso           \n",
       "1                                          Pouco uso           \n",
       "2                                          Pouco uso           \n",
       "3                                          Pouco uso           \n",
       "4                                          Pouco uso           \n",
       "\n",
       "  Frequência de utilização de feature do sistema: Utilização de APIs de integração  \\\n",
       "0                                          Pouco uso                                 \n",
       "1                                          Pouco uso                                 \n",
       "2                                          Pouco uso                                 \n",
       "3                                          Pouco uso                                 \n",
       "4                                          Pouco uso                                 \n",
       "\n",
       "     Contrato Emite boletos Emite boletos.1  \\\n",
       "0   Mês-a-mês             1             Yes   \n",
       "1  Trimestral             0              No   \n",
       "2   Mês-a-mês             1             Yes   \n",
       "3  Trimestral             0              No   \n",
       "4   Mês-a-mês             1             Yes   \n",
       "\n",
       "                     Tipo de pagamento Receita mensal Receita total Churn  \n",
       "0             Boleto - pagamento único       R$ 29,85      R$ 29,85   Não  \n",
       "1                   Boleto - mês a mês       R$ 56,95   R$ 1.889,50   Não  \n",
       "2                   Boleto - mês a mês       R$ 53,85     R$ 108,15   Sim  \n",
       "3  Cartão de crédito - pagamento único       R$ 42,30   R$ 1.840,75   Não  \n",
       "4             Boleto - pagamento único       R$ 70,70     R$ 151,65   Sim  \n",
       "\n",
       "[5 rows x 22 columns]"
      ]
     },
     "execution_count": 2,
     "metadata": {},
     "output_type": "execute_result"
    }
   ],
   "source": [
    "df = pd.read_csv(\"../data/raw/customer_churn_data - customer_churn_data.csv\",decimal=\",\")\n",
    "print(\"DataFrame shape: \",df.shape)\n",
    "df.head()"
   ]
  },
  {
   "cell_type": "markdown",
   "metadata": {},
   "source": [
    "## 2 - Limpando e tratando dados"
   ]
  },
  {
   "cell_type": "code",
   "execution_count": 3,
   "metadata": {},
   "outputs": [
    {
     "data": {
      "text/html": [
       "<div>\n",
       "<style scoped>\n",
       "    .dataframe tbody tr th:only-of-type {\n",
       "        vertical-align: middle;\n",
       "    }\n",
       "\n",
       "    .dataframe tbody tr th {\n",
       "        vertical-align: top;\n",
       "    }\n",
       "\n",
       "    .dataframe thead th {\n",
       "        text-align: right;\n",
       "    }\n",
       "</style>\n",
       "<table border=\"1\" class=\"dataframe\">\n",
       "  <thead>\n",
       "    <tr style=\"text-align: right;\">\n",
       "      <th></th>\n",
       "      <th>ID</th>\n",
       "      <th>Tipo de empresa</th>\n",
       "      <th>Fundação da empresa</th>\n",
       "      <th>Possui mais de um sócio</th>\n",
       "      <th>Funcionários</th>\n",
       "      <th>Meses de permanência</th>\n",
       "      <th>Utiliza serviços financeiros</th>\n",
       "      <th>PossuiContador</th>\n",
       "      <th>Faz conciliação bancária</th>\n",
       "      <th>Frequência de utilização de feature do sistema: Módulo financeiro</th>\n",
       "      <th>...</th>\n",
       "      <th>Frequência de utilização de feature do sistema: Integração bancária</th>\n",
       "      <th>Frequência de utilização de feature do sistema: Módulo de vendas</th>\n",
       "      <th>Frequência de utilização de feature do sistema: Relatórios</th>\n",
       "      <th>Frequência de utilização de feature do sistema: Utilização de APIs de integração</th>\n",
       "      <th>Contrato</th>\n",
       "      <th>Emite boletos.1</th>\n",
       "      <th>Tipo de pagamento</th>\n",
       "      <th>Receita mensal</th>\n",
       "      <th>Receita total</th>\n",
       "      <th>Churn</th>\n",
       "    </tr>\n",
       "  </thead>\n",
       "  <tbody>\n",
       "    <tr>\n",
       "      <th>0</th>\n",
       "      <td>1</td>\n",
       "      <td>Micro empresa</td>\n",
       "      <td>2016</td>\n",
       "      <td>Sim</td>\n",
       "      <td>até 5 funcionários</td>\n",
       "      <td>1</td>\n",
       "      <td>Não</td>\n",
       "      <td>NaN</td>\n",
       "      <td>automática</td>\n",
       "      <td>Pouco uso</td>\n",
       "      <td>...</td>\n",
       "      <td>Pouco uso</td>\n",
       "      <td>Pouco uso</td>\n",
       "      <td>Pouco uso</td>\n",
       "      <td>Pouco uso</td>\n",
       "      <td>Mês-a-mês</td>\n",
       "      <td>Yes</td>\n",
       "      <td>Boleto - pagamento único</td>\n",
       "      <td>29.85</td>\n",
       "      <td>29.85</td>\n",
       "      <td>Não</td>\n",
       "    </tr>\n",
       "    <tr>\n",
       "      <th>1</th>\n",
       "      <td>2</td>\n",
       "      <td>Pequena empresa</td>\n",
       "      <td>2018</td>\n",
       "      <td>Não</td>\n",
       "      <td>até 5 funcionários</td>\n",
       "      <td>34</td>\n",
       "      <td>Sim</td>\n",
       "      <td>Não</td>\n",
       "      <td>automática</td>\n",
       "      <td>Uso frequente</td>\n",
       "      <td>...</td>\n",
       "      <td>Uso frequente</td>\n",
       "      <td>Pouco uso</td>\n",
       "      <td>Pouco uso</td>\n",
       "      <td>Pouco uso</td>\n",
       "      <td>Trimestral</td>\n",
       "      <td>No</td>\n",
       "      <td>Boleto - mês a mês</td>\n",
       "      <td>56.95</td>\n",
       "      <td>1889.50</td>\n",
       "      <td>Não</td>\n",
       "    </tr>\n",
       "    <tr>\n",
       "      <th>2</th>\n",
       "      <td>3</td>\n",
       "      <td>Pequena empresa</td>\n",
       "      <td>2021</td>\n",
       "      <td>Não</td>\n",
       "      <td>até 5 funcionários</td>\n",
       "      <td>2</td>\n",
       "      <td>Sim</td>\n",
       "      <td>Não</td>\n",
       "      <td>automática</td>\n",
       "      <td>Uso frequente</td>\n",
       "      <td>...</td>\n",
       "      <td>Pouco uso</td>\n",
       "      <td>Pouco uso</td>\n",
       "      <td>Pouco uso</td>\n",
       "      <td>Pouco uso</td>\n",
       "      <td>Mês-a-mês</td>\n",
       "      <td>Yes</td>\n",
       "      <td>Boleto - mês a mês</td>\n",
       "      <td>53.85</td>\n",
       "      <td>108.15</td>\n",
       "      <td>Sim</td>\n",
       "    </tr>\n",
       "    <tr>\n",
       "      <th>3</th>\n",
       "      <td>4</td>\n",
       "      <td>Pequena empresa</td>\n",
       "      <td>2016</td>\n",
       "      <td>Não</td>\n",
       "      <td>até 5 funcionários</td>\n",
       "      <td>45</td>\n",
       "      <td>Não</td>\n",
       "      <td>NaN</td>\n",
       "      <td>automática</td>\n",
       "      <td>Uso frequente</td>\n",
       "      <td>...</td>\n",
       "      <td>Uso frequente</td>\n",
       "      <td>Uso frequente</td>\n",
       "      <td>Pouco uso</td>\n",
       "      <td>Pouco uso</td>\n",
       "      <td>Trimestral</td>\n",
       "      <td>No</td>\n",
       "      <td>Cartão de crédito - pagamento único</td>\n",
       "      <td>42.30</td>\n",
       "      <td>1840.75</td>\n",
       "      <td>Não</td>\n",
       "    </tr>\n",
       "    <tr>\n",
       "      <th>4</th>\n",
       "      <td>5</td>\n",
       "      <td>Micro empresa</td>\n",
       "      <td>2017</td>\n",
       "      <td>Não</td>\n",
       "      <td>até 5 funcionários</td>\n",
       "      <td>2</td>\n",
       "      <td>Sim</td>\n",
       "      <td>Não</td>\n",
       "      <td>manual</td>\n",
       "      <td>Pouco uso</td>\n",
       "      <td>...</td>\n",
       "      <td>Pouco uso</td>\n",
       "      <td>Pouco uso</td>\n",
       "      <td>Pouco uso</td>\n",
       "      <td>Pouco uso</td>\n",
       "      <td>Mês-a-mês</td>\n",
       "      <td>Yes</td>\n",
       "      <td>Boleto - pagamento único</td>\n",
       "      <td>70.70</td>\n",
       "      <td>151.65</td>\n",
       "      <td>Sim</td>\n",
       "    </tr>\n",
       "  </tbody>\n",
       "</table>\n",
       "<p>5 rows × 21 columns</p>\n",
       "</div>"
      ],
      "text/plain": [
       "   ID  Tipo de empresa  Fundação da empresa Possui mais de um sócio  \\\n",
       "0   1    Micro empresa                 2016                     Sim   \n",
       "1   2  Pequena empresa                 2018                     Não   \n",
       "2   3  Pequena empresa                 2021                     Não   \n",
       "3   4  Pequena empresa                 2016                     Não   \n",
       "4   5    Micro empresa                 2017                     Não   \n",
       "\n",
       "         Funcionários  Meses de permanência  Utiliza serviços financeiros  \\\n",
       "0  até 5 funcionários                      1                          Não   \n",
       "1  até 5 funcionários                     34                          Sim   \n",
       "2  até 5 funcionários                      2                          Sim   \n",
       "3  até 5 funcionários                     45                          Não   \n",
       "4  até 5 funcionários                      2                          Sim   \n",
       "\n",
       "  PossuiContador Faz conciliação bancária  \\\n",
       "0            NaN               automática   \n",
       "1           Não                automática   \n",
       "2           Não                automática   \n",
       "3            NaN               automática   \n",
       "4           Não                    manual   \n",
       "\n",
       "  Frequência de utilização de feature do sistema: Módulo financeiro  ...  \\\n",
       "0                                          Pouco uso                 ...   \n",
       "1                                      Uso frequente                 ...   \n",
       "2                                      Uso frequente                 ...   \n",
       "3                                      Uso frequente                 ...   \n",
       "4                                          Pouco uso                 ...   \n",
       "\n",
       "  Frequência de utilização de feature do sistema: Integração bancária  \\\n",
       "0                                          Pouco uso                    \n",
       "1                                      Uso frequente                    \n",
       "2                                          Pouco uso                    \n",
       "3                                      Uso frequente                    \n",
       "4                                          Pouco uso                    \n",
       "\n",
       "  Frequência de utilização de feature do sistema: Módulo de vendas  \\\n",
       "0                                          Pouco uso                 \n",
       "1                                          Pouco uso                 \n",
       "2                                          Pouco uso                 \n",
       "3                                      Uso frequente                 \n",
       "4                                          Pouco uso                 \n",
       "\n",
       "  Frequência de utilização de feature do sistema: Relatórios  \\\n",
       "0                                          Pouco uso           \n",
       "1                                          Pouco uso           \n",
       "2                                          Pouco uso           \n",
       "3                                          Pouco uso           \n",
       "4                                          Pouco uso           \n",
       "\n",
       "  Frequência de utilização de feature do sistema: Utilização de APIs de integração  \\\n",
       "0                                          Pouco uso                                 \n",
       "1                                          Pouco uso                                 \n",
       "2                                          Pouco uso                                 \n",
       "3                                          Pouco uso                                 \n",
       "4                                          Pouco uso                                 \n",
       "\n",
       "     Contrato Emite boletos.1                    Tipo de pagamento  \\\n",
       "0   Mês-a-mês             Yes             Boleto - pagamento único   \n",
       "1  Trimestral              No                   Boleto - mês a mês   \n",
       "2   Mês-a-mês             Yes                   Boleto - mês a mês   \n",
       "3  Trimestral              No  Cartão de crédito - pagamento único   \n",
       "4   Mês-a-mês             Yes             Boleto - pagamento único   \n",
       "\n",
       "  Receita mensal  Receita total  Churn  \n",
       "0          29.85          29.85    Não  \n",
       "1          56.95        1889.50    Não  \n",
       "2          53.85         108.15    Sim  \n",
       "3          42.30        1840.75    Não  \n",
       "4          70.70         151.65    Sim  \n",
       "\n",
       "[5 rows x 21 columns]"
      ]
     },
     "execution_count": 3,
     "metadata": {},
     "output_type": "execute_result"
    }
   ],
   "source": [
    "def clear_numeric_strings(dataframe:pd.DataFrame,subset=Union[str,list]):\n",
    "    new_df = dataframe.copy()\n",
    "    if isinstance(subset,str):\n",
    "        new_df[subset] = new_df[subset].str.replace(pat=r\"([R$])|([.])\",repl=\"\",regex=True)\\\n",
    "                                               .str.strip()\\\n",
    "                                               .str.replace(pat=\",\",repl=\".\")\n",
    "    else:\n",
    "        new_df[subset] = new_df[subset].apply(\n",
    "            func=lambda s: s.str.replace(pat=r\"([R$])|([.])\",repl=\"\",regex=True)\\\n",
    "                                               .str.strip()\\\n",
    "                                               .str.replace(pat=\",\",repl=\".\"),\n",
    "            axis=1,\n",
    "        )\n",
    "    return new_df\n",
    "        \n",
    "def convert_to_numeric(dataframe:pd.DataFrame,subset:Union[str,list]):\n",
    "    new_df = dataframe.copy()\n",
    "    new_df[subset]=new_df[subset].astype(\"float\")\n",
    "    return new_df\n",
    "\n",
    "\n",
    "conv_cols = [\"Receita mensal\",\"Receita total\"]\n",
    "df = clear_numeric_strings(dataframe=df,subset=conv_cols)\n",
    "df = convert_to_numeric(dataframe=df,subset=conv_cols)\n",
    "df = df.drop(\"Emite boletos\",axis=1)\n",
    "df.head()"
   ]
  },
  {
   "cell_type": "code",
   "execution_count": 4,
   "metadata": {},
   "outputs": [
    {
     "data": {
      "text/plain": [
       "ID                                                                                     int64\n",
       "Tipo de empresa                                                                     category\n",
       "Fundação da empresa                                                                    int64\n",
       "Possui mais de um sócio                                                             category\n",
       "Funcionários                                                                        category\n",
       "Meses de permanência                                                                   int64\n",
       "Utiliza serviços financeiros                                                        category\n",
       "PossuiContador                                                                      category\n",
       "Faz conciliação bancária                                                            category\n",
       "Frequência de utilização de feature do sistema: Módulo financeiro                   category\n",
       "Frequência de utilização de feature do sistema: Emissão de nota fiscal              category\n",
       "Frequência de utilização de feature do sistema: Integração bancária                 category\n",
       "Frequência de utilização de feature do sistema: Módulo de vendas                    category\n",
       "Frequência de utilização de feature do sistema: Relatórios                          category\n",
       "Frequência de utilização de feature do sistema: Utilização de APIs de integração    category\n",
       "Contrato                                                                            category\n",
       "Emite boletos.1                                                                     category\n",
       "Tipo de pagamento                                                                   category\n",
       "Receita mensal                                                                       float64\n",
       "Receita total                                                                        float64\n",
       "Churn                                                                               category\n",
       "dtype: object"
      ]
     },
     "execution_count": 4,
     "metadata": {},
     "output_type": "execute_result"
    }
   ],
   "source": [
    "def convert_to_categoric(dataframe:pd.DataFrame,subset:Union[str,list]):\n",
    "    new_df = dataframe.copy()\n",
    "    new_df[subset]=new_df[subset].astype(\"category\")\n",
    "    return new_df\n",
    "\n",
    "cat_columns = list(df.select_dtypes(include=\"object\",exclude=[\"float64\",\"int64\"]).columns)\n",
    "df = convert_to_categoric(dataframe=df,subset=cat_columns)\n",
    "df.dtypes"
   ]
  },
  {
   "cell_type": "markdown",
   "metadata": {},
   "source": [
    "## 3 - Agregando algumas features"
   ]
  },
  {
   "cell_type": "markdown",
   "metadata": {},
   "source": [
    "Agrupando dados da feature `Meses de permanência`"
   ]
  },
  {
   "cell_type": "code",
   "execution_count": 5,
   "metadata": {},
   "outputs": [],
   "source": [
    "def classify_col(dataframe:pd.DataFrame,col_to_clf:str,new_col_name:str,map:dict):\n",
    "    new_df = df.copy()\n",
    "    new_df[new_col_name]=np.nan\n",
    "    for cat,range in map.items():\n",
    "        values = dataframe[col_to_clf].isin(range)\n",
    "        new_df[new_col_name]=new_df[new_col_name].mask(values,cat)\n",
    "    return new_df"
   ]
  },
  {
   "cell_type": "code",
   "execution_count": 6,
   "metadata": {},
   "outputs": [
    {
     "data": {
      "text/plain": [
       "clf_meses_permanência\n",
       "Maior que 36 meses     3051\n",
       "Entre 12 a 36 meses    1923\n",
       "Entre 3 a 12 meses     1207\n",
       "Menor que 3 meses       862\n",
       "Name: count, dtype: int64"
      ]
     },
     "execution_count": 6,
     "metadata": {},
     "output_type": "execute_result"
    }
   ],
   "source": [
    "map_temp_perm = {\n",
    "    \"Menor que 3 meses\":range(0,3),\n",
    "    \"Entre 3 a 12 meses\":range(3,12),\n",
    "    \"Entre 12 a 36 meses\":range(12,36),\n",
    "    \"Maior que 36 meses\":range(36,100),\n",
    "}\n",
    "\n",
    "df = classify_col(dataframe=df,col_to_clf=\"Meses de permanência \",new_col_name=\"clf_meses_permanência\",map=map_temp_perm)\n",
    "df = convert_to_categoric(dataframe=df,subset=\"clf_meses_permanência\")\n",
    "df[\"clf_meses_permanência\"].value_counts()"
   ]
  },
  {
   "cell_type": "code",
   "execution_count": 7,
   "metadata": {},
   "outputs": [
    {
     "data": {
      "text/plain": [
       "quantidade_PoucoUso_features\n",
       "0    1810\n",
       "3    1118\n",
       "4    1033\n",
       "5     966\n",
       "2     852\n",
       "6     693\n",
       "1     571\n",
       "Name: count, dtype: int64"
      ]
     },
     "execution_count": 7,
     "metadata": {},
     "output_type": "execute_result"
    }
   ],
   "source": [
    "cols_freq = [\n",
    "\"Frequência de utilização de feature do sistema: Módulo financeiro\",\n",
    "\"Frequência de utilização de feature do sistema: Emissão de nota fiscal\",\n",
    "\"Frequência de utilização de feature do sistema: Integração bancária\",\n",
    "\"Frequência de utilização de feature do sistema: Módulo de vendas\",\n",
    "\"Frequência de utilização de feature do sistema: Relatórios\",\n",
    "\"Frequência de utilização de feature do sistema: Utilização de APIs de integração\"\n",
    "]\n",
    "df[\"quantidade_PoucoUso_features\"] = df[cols_freq].map(\n",
    "    func=lambda d: 1 if d==\"Pouco uso\" else 0,\n",
    ").agg(\"sum\",axis=1)\n",
    "\n",
    "df[\"quantidade_PoucoUso_features\"].value_counts()"
   ]
  },
  {
   "cell_type": "code",
   "execution_count": 8,
   "metadata": {},
   "outputs": [
    {
     "data": {
      "text/plain": [
       "Index(['Tipo de empresa', 'Fundação da empresa', 'Possui mais de um sócio',\n",
       "       'Funcionários', 'Utiliza serviços financeiros', 'PossuiContador',\n",
       "       'Faz conciliação bancária', 'Contrato', 'Emite boletos.1',\n",
       "       'Tipo de pagamento', 'Receita mensal', 'Receita total', 'Churn',\n",
       "       'clf_meses_permanência', 'quantidade_PoucoUso_features'],\n",
       "      dtype='object')"
      ]
     },
     "execution_count": 8,
     "metadata": {},
     "output_type": "execute_result"
    }
   ],
   "source": [
    "# Vamos remover algumas variavéis para remover dados repetidos \n",
    "\n",
    "df = df.drop(labels=cols_freq+[\"Meses de permanência \",\"ID\"],axis=1)\n",
    "df.columns"
   ]
  },
  {
   "cell_type": "markdown",
   "metadata": {},
   "source": [
    "## 4 - Separando os dados de treinamento e validação"
   ]
  },
  {
   "cell_type": "code",
   "execution_count": 9,
   "metadata": {},
   "outputs": [],
   "source": [
    "TARGET = \"Churn\"\n",
    "CAT_FEATURES = list(df.select_dtypes(include=[\"category\"],exclude=[\"int64\",\"float64\"]).columns)\n",
    "CAT_FEATURES.remove(TARGET)\n",
    "NUM_FEATURES = list(df.select_dtypes(include=[\"int64\",\"float64\"],exclude=[\"category\"]).columns)\n",
    "FEATURES = CAT_FEATURES+NUM_FEATURES"
   ]
  },
  {
   "cell_type": "code",
   "execution_count": 10,
   "metadata": {},
   "outputs": [
    {
     "name": "stdout",
     "output_type": "stream",
     "text": [
      "X_train, y_train shape: ((5634, 14), (5634,))\n",
      "X_test, y_test: ((1409, 14), (1409,))\n"
     ]
    }
   ],
   "source": [
    "X = df[FEATURES]\n",
    "y = df[TARGET]\n",
    "X_train, X_test, y_train, y_test = train_test_split(X, y, test_size=0.2, random_state=42)\n",
    "\n",
    "print(\"X_train, y_train shape:\",(X_train.shape,y_train.shape))\n",
    "print(\"X_test, y_test:\",(X_test.shape,y_test.shape))"
   ]
  },
  {
   "cell_type": "markdown",
   "metadata": {},
   "source": [
    "## 5 - Aplicando regra de negócio\n",
    "\n",
    "Vamos considerar que o Churn será feito para empresas com menos de 12 meses de tempo de permanância e a quantidade de features com pouco uso é maior do que 3."
   ]
  },
  {
   "cell_type": "code",
   "execution_count": 11,
   "metadata": {},
   "outputs": [
    {
     "name": "stdout",
     "output_type": "stream",
     "text": [
      "Proporção de Churn nos dados de treino:\n"
     ]
    },
    {
     "data": {
      "text/plain": [
       "Churn\n",
       "Não    0.734469\n",
       "Sim    0.265531\n",
       "Name: proportion, dtype: float64"
      ]
     },
     "execution_count": 11,
     "metadata": {},
     "output_type": "execute_result"
    }
   ],
   "source": [
    "print(\"Proporção de Churn nos dados de treino:\")\n",
    "y_train.value_counts(normalize=True)"
   ]
  },
  {
   "cell_type": "code",
   "execution_count": 17,
   "metadata": {},
   "outputs": [
    {
     "data": {
      "text/plain": [
       "Não    0.882896\n",
       "Sim    0.117104\n",
       "Name: proportion, dtype: float64"
      ]
     },
     "execution_count": 17,
     "metadata": {},
     "output_type": "execute_result"
    }
   ],
   "source": [
    "heuristic_predict = ((X_test[\"quantidade_PoucoUso_features\"]>=3)&(\n",
    "    (X_test[\"clf_meses_permanência\"]==\"Menos que 3 meses\")|\n",
    "    (X_test[\"clf_meses_permanência\"]==\"Entre 3 a 12 meses\")\n",
    ")).map({False:\"Não\",True:\"Sim\"})\n",
    "\n",
    "heuristic_predict.value_counts(normalize=True)"
   ]
  },
  {
   "cell_type": "code",
   "execution_count": 18,
   "metadata": {},
   "outputs": [
    {
     "name": "stdout",
     "output_type": "stream",
     "text": [
      "              precision    recall  f1-score   support\n",
      "\n",
      "   non-churn       0.76      0.92      0.83      1036\n",
      "       churn       0.48      0.21      0.30       373\n",
      "\n",
      "    accuracy                           0.73      1409\n",
      "   macro avg       0.62      0.57      0.57      1409\n",
      "weighted avg       0.69      0.73      0.69      1409\n",
      "\n"
     ]
    }
   ],
   "source": [
    "print(classification_report(y_test, heuristic_predict, target_names=['non-churn', 'churn']))"
   ]
  },
  {
   "cell_type": "code",
   "execution_count": 19,
   "metadata": {},
   "outputs": [
    {
     "data": {
      "image/png": "[encoded data removed]",
      "text/plain": [
       "<Figure size 640x480 with 2 Axes>"
      ]
     },
     "metadata": {},
     "output_type": "display_data"
    }
   ],
   "source": [
    "# Compute the confusion matrix\n",
    "cm = confusion_matrix(y_test, heuristic_predict, normalize='true')\n",
    "\n",
    "# Define the class labels\n",
    "labels = ['Non-churn', \"Churn\"]  # Replace with your class labels\n",
    "\n",
    "# Create a confusion matrix display\n",
    "cm_display = ConfusionMatrixDisplay(confusion_matrix=cm, display_labels=labels)\n",
    "\n",
    "# Plot the confusion matrix\n",
    "cm_display.plot(cmap='Blues')\n",
    "plt.title('Confusion Matrix')\n",
    "plt.xlabel('Predicted Label')\n",
    "plt.ylabel('True Label')\n",
    "plt.show()"
   ]
  },
  {
   "cell_type": "markdown",
   "metadata": {},
   "source": [
    "## 6 - Decision Tree com as features atuais"
   ]
  },
  {
   "cell_type": "code",
   "execution_count": 24,
   "metadata": {},
   "outputs": [
    {
     "data": {
      "text/html": [
       "<style>#sk-container-id-1 {color: black;background-color: white;}#sk-container-id-1 pre{padding: 0;}#sk-container-id-1 div.sk-toggleable {background-color: white;}#sk-container-id-1 label.sk-toggleable__label {cursor: pointer;display: block;width: 100%;margin-bottom: 0;padding: 0.3em;box-sizing: border-box;text-align: center;}#sk-container-id-1 label.sk-toggleable__label-arrow:before {content: \"▸\";float: left;margin-right: 0.25em;color: #696969;}#sk-container-id-1 label.sk-toggleable__label-arrow:hover:before {color: black;}#sk-container-id-1 div.sk-estimator:hover label.sk-toggleable__label-arrow:before {color: black;}#sk-container-id-1 div.sk-toggleable__content {max-height: 0;max-width: 0;overflow: hidden;text-align: left;background-color: #f0f8ff;}#sk-container-id-1 div.sk-toggleable__content pre {margin: 0.2em;color: black;border-radius: 0.25em;background-color: #f0f8ff;}#sk-container-id-1 input.sk-toggleable__control:checked~div.sk-toggleable__content {max-height: 200px;max-width: 100%;overflow: auto;}#sk-container-id-1 input.sk-toggleable__control:checked~label.sk-toggleable__label-arrow:before {content: \"▾\";}#sk-container-id-1 div.sk-estimator input.sk-toggleable__control:checked~label.sk-toggleable__label {background-color: #d4ebff;}#sk-container-id-1 div.sk-label input.sk-toggleable__control:checked~label.sk-toggleable__label {background-color: #d4ebff;}#sk-container-id-1 input.sk-hidden--visually {border: 0;clip: rect(1px 1px 1px 1px);clip: rect(1px, 1px, 1px, 1px);height: 1px;margin: -1px;overflow: hidden;padding: 0;position: absolute;width: 1px;}#sk-container-id-1 div.sk-estimator {font-family: monospace;background-color: #f0f8ff;border: 1px dotted black;border-radius: 0.25em;box-sizing: border-box;margin-bottom: 0.5em;}#sk-container-id-1 div.sk-estimator:hover {background-color: #d4ebff;}#sk-container-id-1 div.sk-parallel-item::after {content: \"\";width: 100%;border-bottom: 1px solid gray;flex-grow: 1;}#sk-container-id-1 div.sk-label:hover label.sk-toggleable__label {background-color: #d4ebff;}#sk-container-id-1 div.sk-serial::before {content: \"\";position: absolute;border-left: 1px solid gray;box-sizing: border-box;top: 0;bottom: 0;left: 50%;z-index: 0;}#sk-container-id-1 div.sk-serial {display: flex;flex-direction: column;align-items: center;background-color: white;padding-right: 0.2em;padding-left: 0.2em;position: relative;}#sk-container-id-1 div.sk-item {position: relative;z-index: 1;}#sk-container-id-1 div.sk-parallel {display: flex;align-items: stretch;justify-content: center;background-color: white;position: relative;}#sk-container-id-1 div.sk-item::before, #sk-container-id-1 div.sk-parallel-item::before {content: \"\";position: absolute;border-left: 1px solid gray;box-sizing: border-box;top: 0;bottom: 0;left: 50%;z-index: -1;}#sk-container-id-1 div.sk-parallel-item {display: flex;flex-direction: column;z-index: 1;position: relative;background-color: white;}#sk-container-id-1 div.sk-parallel-item:first-child::after {align-self: flex-end;width: 50%;}#sk-container-id-1 div.sk-parallel-item:last-child::after {align-self: flex-start;width: 50%;}#sk-container-id-1 div.sk-parallel-item:only-child::after {width: 0;}#sk-container-id-1 div.sk-dashed-wrapped {border: 1px dashed gray;margin: 0 0.4em 0.5em 0.4em;box-sizing: border-box;padding-bottom: 0.4em;background-color: white;}#sk-container-id-1 div.sk-label label {font-family: monospace;font-weight: bold;display: inline-block;line-height: 1.2em;}#sk-container-id-1 div.sk-label-container {text-align: center;}#sk-container-id-1 div.sk-container {/* jupyter's `normalize.less` sets `[hidden] { display: none; }` but bootstrap.min.css set `[hidden] { display: none !important; }` so we also need the `!important` here to be able to override the default hidden behavior on the sphinx rendered scikit-learn.org. See: https://github.com/scikit-learn/scikit-learn/issues/21755 */display: inline-block !important;position: relative;}#sk-container-id-1 div.sk-text-repr-fallback {display: none;}</style><div id=\"sk-container-id-1\" class=\"sk-top-container\"><div class=\"sk-text-repr-fallback\"><pre>Pipeline(steps=[(&#x27;preprocessor&#x27;,\n",
       "                 ColumnTransformer(transformers=[(&#x27;num&#x27;,\n",
       "                                                  SimpleImputer(strategy=&#x27;median&#x27;),\n",
       "                                                  [&#x27;Fundação da empresa&#x27;,\n",
       "                                                   &#x27;Receita mensal&#x27;,\n",
       "                                                   &#x27;Receita total&#x27;,\n",
       "                                                   &#x27;quantidade_PoucoUso_features&#x27;]),\n",
       "                                                 (&#x27;cat&#x27;, OneHotEncoder(),\n",
       "                                                  [&#x27;Tipo de empresa&#x27;,\n",
       "                                                   &#x27;Possui mais de um sócio&#x27;,\n",
       "                                                   &#x27;Funcionários&#x27;,\n",
       "                                                   &#x27;Utiliza serviços &#x27;\n",
       "                                                   &#x27;financeiros&#x27;,\n",
       "                                                   &#x27;PossuiContador&#x27;,\n",
       "                                                   &#x27;Faz conciliação bancária&#x27;,\n",
       "                                                   &#x27;Contrato&#x27;,\n",
       "                                                   &#x27;Emite boletos.1&#x27;,\n",
       "                                                   &#x27;Tipo de pagamento&#x27;,\n",
       "                                                   &#x27;clf_meses_permanência&#x27;])])),\n",
       "                (&#x27;model&#x27;, DecisionTreeClassifier(class_weight=&#x27;balanced&#x27;))])</pre><b>In a Jupyter environment, please rerun this cell to show the HTML representation or trust the notebook. <br />On GitHub, the HTML representation is unable to render, please try loading this page with nbviewer.org.</b></div><div class=\"sk-container\" hidden><div class=\"sk-item sk-dashed-wrapped\"><div class=\"sk-label-container\"><div class=\"sk-label sk-toggleable\"><input class=\"sk-toggleable__control sk-hidden--visually\" id=\"sk-estimator-id-1\" type=\"checkbox\" ><label for=\"sk-estimator-id-1\" class=\"sk-toggleable__label sk-toggleable__label-arrow\">Pipeline</label><div class=\"sk-toggleable__content\"><pre>Pipeline(steps=[(&#x27;preprocessor&#x27;,\n",
       "                 ColumnTransformer(transformers=[(&#x27;num&#x27;,\n",
       "                                                  SimpleImputer(strategy=&#x27;median&#x27;),\n",
       "                                                  [&#x27;Fundação da empresa&#x27;,\n",
       "                                                   &#x27;Receita mensal&#x27;,\n",
       "                                                   &#x27;Receita total&#x27;,\n",
       "                                                   &#x27;quantidade_PoucoUso_features&#x27;]),\n",
       "                                                 (&#x27;cat&#x27;, OneHotEncoder(),\n",
       "                                                  [&#x27;Tipo de empresa&#x27;,\n",
       "                                                   &#x27;Possui mais de um sócio&#x27;,\n",
       "                                                   &#x27;Funcionários&#x27;,\n",
       "                                                   &#x27;Utiliza serviços &#x27;\n",
       "                                                   &#x27;financeiros&#x27;,\n",
       "                                                   &#x27;PossuiContador&#x27;,\n",
       "                                                   &#x27;Faz conciliação bancária&#x27;,\n",
       "                                                   &#x27;Contrato&#x27;,\n",
       "                                                   &#x27;Emite boletos.1&#x27;,\n",
       "                                                   &#x27;Tipo de pagamento&#x27;,\n",
       "                                                   &#x27;clf_meses_permanência&#x27;])])),\n",
       "                (&#x27;model&#x27;, DecisionTreeClassifier(class_weight=&#x27;balanced&#x27;))])</pre></div></div></div><div class=\"sk-serial\"><div class=\"sk-item sk-dashed-wrapped\"><div class=\"sk-label-container\"><div class=\"sk-label sk-toggleable\"><input class=\"sk-toggleable__control sk-hidden--visually\" id=\"sk-estimator-id-2\" type=\"checkbox\" ><label for=\"sk-estimator-id-2\" class=\"sk-toggleable__label sk-toggleable__label-arrow\">preprocessor: ColumnTransformer</label><div class=\"sk-toggleable__content\"><pre>ColumnTransformer(transformers=[(&#x27;num&#x27;, SimpleImputer(strategy=&#x27;median&#x27;),\n",
       "                                 [&#x27;Fundação da empresa&#x27;, &#x27;Receita mensal&#x27;,\n",
       "                                  &#x27;Receita total&#x27;,\n",
       "                                  &#x27;quantidade_PoucoUso_features&#x27;]),\n",
       "                                (&#x27;cat&#x27;, OneHotEncoder(),\n",
       "                                 [&#x27;Tipo de empresa&#x27;, &#x27;Possui mais de um sócio&#x27;,\n",
       "                                  &#x27;Funcionários&#x27;,\n",
       "                                  &#x27;Utiliza serviços financeiros&#x27;,\n",
       "                                  &#x27;PossuiContador&#x27;, &#x27;Faz conciliação bancária&#x27;,\n",
       "                                  &#x27;Contrato&#x27;, &#x27;Emite boletos.1&#x27;,\n",
       "                                  &#x27;Tipo de pagamento&#x27;,\n",
       "                                  &#x27;clf_meses_permanência&#x27;])])</pre></div></div></div><div class=\"sk-parallel\"><div class=\"sk-parallel-item\"><div class=\"sk-item\"><div class=\"sk-label-container\"><div class=\"sk-label sk-toggleable\"><input class=\"sk-toggleable__control sk-hidden--visually\" id=\"sk-estimator-id-3\" type=\"checkbox\" ><label for=\"sk-estimator-id-3\" class=\"sk-toggleable__label sk-toggleable__label-arrow\">num</label><div class=\"sk-toggleable__content\"><pre>[&#x27;Fundação da empresa&#x27;, &#x27;Receita mensal&#x27;, &#x27;Receita total&#x27;, &#x27;quantidade_PoucoUso_features&#x27;]</pre></div></div></div><div class=\"sk-serial\"><div class=\"sk-item\"><div class=\"sk-estimator sk-toggleable\"><input class=\"sk-toggleable__control sk-hidden--visually\" id=\"sk-estimator-id-4\" type=\"checkbox\" ><label for=\"sk-estimator-id-4\" class=\"sk-toggleable__label sk-toggleable__label-arrow\">SimpleImputer</label><div class=\"sk-toggleable__content\"><pre>SimpleImputer(strategy=&#x27;median&#x27;)</pre></div></div></div></div></div></div><div class=\"sk-parallel-item\"><div class=\"sk-item\"><div class=\"sk-label-container\"><div class=\"sk-label sk-toggleable\"><input class=\"sk-toggleable__control sk-hidden--visually\" id=\"sk-estimator-id-5\" type=\"checkbox\" ><label for=\"sk-estimator-id-5\" class=\"sk-toggleable__label sk-toggleable__label-arrow\">cat</label><div class=\"sk-toggleable__content\"><pre>[&#x27;Tipo de empresa&#x27;, &#x27;Possui mais de um sócio&#x27;, &#x27;Funcionários&#x27;, &#x27;Utiliza serviços financeiros&#x27;, &#x27;PossuiContador&#x27;, &#x27;Faz conciliação bancária&#x27;, &#x27;Contrato&#x27;, &#x27;Emite boletos.1&#x27;, &#x27;Tipo de pagamento&#x27;, &#x27;clf_meses_permanência&#x27;]</pre></div></div></div><div class=\"sk-serial\"><div class=\"sk-item\"><div class=\"sk-estimator sk-toggleable\"><input class=\"sk-toggleable__control sk-hidden--visually\" id=\"sk-estimator-id-6\" type=\"checkbox\" ><label for=\"sk-estimator-id-6\" class=\"sk-toggleable__label sk-toggleable__label-arrow\">OneHotEncoder</label><div class=\"sk-toggleable__content\"><pre>OneHotEncoder()</pre></div></div></div></div></div></div></div></div><div class=\"sk-item\"><div class=\"sk-estimator sk-toggleable\"><input class=\"sk-toggleable__control sk-hidden--visually\" id=\"sk-estimator-id-7\" type=\"checkbox\" ><label for=\"sk-estimator-id-7\" class=\"sk-toggleable__label sk-toggleable__label-arrow\">DecisionTreeClassifier</label><div class=\"sk-toggleable__content\"><pre>DecisionTreeClassifier(class_weight=&#x27;balanced&#x27;)</pre></div></div></div></div></div></div></div>"
      ],
      "text/plain": [
       "Pipeline(steps=[('preprocessor',\n",
       "                 ColumnTransformer(transformers=[('num',\n",
       "                                                  SimpleImputer(strategy='median'),\n",
       "                                                  ['Fundação da empresa',\n",
       "                                                   'Receita mensal',\n",
       "                                                   'Receita total',\n",
       "                                                   'quantidade_PoucoUso_features']),\n",
       "                                                 ('cat', OneHotEncoder(),\n",
       "                                                  ['Tipo de empresa',\n",
       "                                                   'Possui mais de um sócio',\n",
       "                                                   'Funcionários',\n",
       "                                                   'Utiliza serviços '\n",
       "                                                   'financeiros',\n",
       "                                                   'PossuiContador',\n",
       "                                                   'Faz conciliação bancária',\n",
       "                                                   'Contrato',\n",
       "                                                   'Emite boletos.1',\n",
       "                                                   'Tipo de pagamento',\n",
       "                                                   'clf_meses_permanência'])])),\n",
       "                ('model', DecisionTreeClassifier(class_weight='balanced'))])"
      ]
     },
     "execution_count": 24,
     "metadata": {},
     "output_type": "execute_result"
    }
   ],
   "source": [
    "# Define the pipeline\n",
    "# Create the column transformer\n",
    "preprocessor = ColumnTransformer(\n",
    "    transformers=[\n",
    "        ('num', SimpleImputer(strategy='median'), NUM_FEATURES),\n",
    "        ('cat', OneHotEncoder(), CAT_FEATURES)])\n",
    "\n",
    "# Define the pipeline\n",
    "pipeline = Pipeline(steps=[\n",
    "    ('preprocessor', preprocessor),  # Preprocessing (imputation + one-hot encoding)\n",
    "    ('model', DecisionTreeClassifier(class_weight='balanced'))  # Model\n",
    "])\n",
    "\n",
    "# Fit the pipeline to the training data\n",
    "pipeline.fit(X_train, y_train)"
   ]
  },
  {
   "cell_type": "code",
   "execution_count": 25,
   "metadata": {},
   "outputs": [
    {
     "name": "stdout",
     "output_type": "stream",
     "text": [
      "              precision    recall  f1-score   support\n",
      "\n",
      "         Não       0.81      0.81      0.81      1036\n",
      "         Sim       0.47      0.46      0.47       373\n",
      "\n",
      "    accuracy                           0.72      1409\n",
      "   macro avg       0.64      0.64      0.64      1409\n",
      "weighted avg       0.72      0.72      0.72      1409\n",
      "\n"
     ]
    }
   ],
   "source": [
    "y_pred_class = pipeline.predict(X_test)\n",
    "y_pred_proba = pipeline.predict_proba(X_test)[:,1]\n",
    "\n",
    "print(classification_report(y_test, y_pred_class))"
   ]
  },
  {
   "cell_type": "code",
   "execution_count": 29,
   "metadata": {},
   "outputs": [
    {
     "name": "stdout",
     "output_type": "stream",
     "text": [
      "Não:0.7388218594748048\n",
      "Sim:0.26117814052519517\n"
     ]
    }
   ],
   "source": [
    "cat,ncat = np.unique(y_pred_class,return_counts=True)\n",
    "for cat, qty in zip(cat,ncat):\n",
    "    print(f\"{cat}:{qty/np.sum(ncat,axis=0)}\")"
   ]
  },
  {
   "cell_type": "code",
   "execution_count": 28,
   "metadata": {},
   "outputs": [
    {
     "data": {
      "image/png": "[encoded data removed]",
      "text/plain": [
       "<Figure size 640x480 with 2 Axes>"
      ]
     },
     "metadata": {},
     "output_type": "display_data"
    }
   ],
   "source": [
    "# Compute the confusion matrix\n",
    "cm = confusion_matrix(y_test, y_pred_class, normalize='true')\n",
    "\n",
    "# Define the class labels\n",
    "labels = ['Non-churn', \"Churn\"]  # Replace with your class labels\n",
    "\n",
    "# Create a confusion matrix display\n",
    "cm_display = ConfusionMatrixDisplay(confusion_matrix=cm, display_labels=labels)\n",
    "\n",
    "# Plot the confusion matrix\n",
    "cm_display.plot(cmap='Blues')\n",
    "plt.title('Confusion Matrix')\n",
    "plt.xlabel('Predicted Label')\n",
    "plt.ylabel('True Label')\n",
    "plt.show()"
   ]
  },
  {
   "cell_type": "markdown",
   "metadata": {},
   "source": [
    "## 7 - Conclusão"
   ]
  },
  {
   "cell_type": "markdown",
   "metadata": {},
   "source": [
    "- Construímos duas baselines: 1 - a partir do modelo de negócio e 2 - com uma decision tree simples e features base ('Tipo de empresa','Fundação da empresa', 'Possui mais de um sócio', 'Funcionários', 'Utiliza serviços financeiros', 'PossuiContador','Faz conciliação bancária', 'Contrato', 'Emite boletos.1','Tipo de pagamento', 'Receita mensal', 'Receita total', 'Churn','clf_meses_permanência', 'quantidade_PoucoUso_features')\n",
    "- A principal métrica para se acompanhar aqui é a f1-score: em problemas de Churn queremos um balanço entre precision e recall. Precision pois ela diminui a quantidade de falsos positivos (nesse caso, se previu o Churn mas a empresa não fez Churn) isso diminui o custo de manter um cliente, já o recall é importante pois ele diminui a quantidade de falsos negativos (não se prevê o Churn mas ocorre Churn) o que diminui a quantidade de perdas por desligamentos. Sendo assim, ambos os casos são importantes de evitar por isso se escolhe a f1-score para melhorar.\n",
    "- o modelo 1 baseado em regra de negócio vimos que temos um forte bias para não classificar o Churn, logo, para previsão de Churn obtemos: precision: 0.48, recall: 0.21 e f1-score:0.3\n",
    "- O modelo 2 baseado em ML e features base já apresentou uma melhora no recall e f1-score para previsão de Churn, os resultados obtidos (precision: 0.47, recall: 0.46 e f1-score:0.47) mostram que realizando um tunning e obter resultados ainda melhores."
   ]
  },
  {
   "cell_type": "code",
   "execution_count": null,
   "metadata": {},
   "outputs": [],
   "source": []
  },
  {
   "cell_type": "code",
   "execution_count": null,
   "metadata": {},
   "outputs": [],
   "source": []
  },
  {
   "cell_type": "code",
   "execution_count": null,
   "metadata": {},
   "outputs": [],
   "source": []
  },
  {
   "cell_type": "code",
   "execution_count": null,
   "metadata": {},
   "outputs": [],
   "source": []
  },
  {
   "cell_type": "code",
   "execution_count": null,
   "metadata": {},
   "outputs": [],
   "source": []
  },
  {
   "cell_type": "code",
   "execution_count": null,
   "metadata": {},
   "outputs": [],
   "source": []
  }
 ],
 "metadata": {
  "kernelspec": {
   "display_name": "churn_pred_env",
   "language": "python",
   "name": "python3"
  },
  "language_info": {
   "codemirror_mode": {
    "name": "ipython",
    "version": 3
   },
   "file_extension": ".py",
   "mimetype": "text/x-python",
   "name": "python",
   "nbconvert_exporter": "python",
   "pygments_lexer": "ipython3",
   "version": "3.11.8"
  }
 },
 "nbformat": 4,
 "nbformat_minor": 2
}
