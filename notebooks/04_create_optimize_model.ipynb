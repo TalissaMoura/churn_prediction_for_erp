{
 "cells": [
  {
   "cell_type": "markdown",
   "metadata": {},
   "source": [
    "# Criando modelo de otimização\n",
    "\n",
    "Nesse notebook, vamos criar um novo modelo agora trabalhando com as features do notebook `02_feat_engineering`. O algortimo escolhido para otimizar é a Random Forest por ser baseada em ensemble ela constrói diversas árvores de decisão \"fracas\" mas que quando visto seus resultados combinados acaba por gerar um modelo forte.\n",
    "\n",
    "Para faciliar a leitura dessa parte, o código de construção do dataset se encontra em `src/data/make_dataset` e a de construção de features em `src/features/build_features`"
   ]
  },
  {
   "cell_type": "code",
   "execution_count": 1,
   "metadata": {},
   "outputs": [
    {
     "name": "stderr",
     "output_type": "stream",
     "text": [
      "/home/talissa/miniconda3/envs/churn_pred_env/lib/python3.11/site-packages/tqdm/auto.py:21: TqdmWarning: IProgress not found. Please update jupyter and ipywidgets. See https://ipywidgets.readthedocs.io/en/stable/user_install.html\n",
      "  from .autonotebook import tqdm as notebook_tqdm\n"
     ]
    }
   ],
   "source": [
    "import pandas as pd\n",
    "import numpy as np\n",
    "import seaborn as sns\n",
    "import matplotlib.pyplot as plt\n",
    "import optuna\n",
    "import yaml\n",
    "import os \n",
    "\n",
    "\n",
    "\n",
    "from sklearn.model_selection import train_test_split,KFold\n",
    "from sklearn.ensemble import RandomForestClassifier\n",
    "from sklearn.compose import ColumnTransformer\n",
    "from sklearn.preprocessing import OneHotEncoder\n",
    "from sklearn.pipeline import Pipeline\n",
    "from sklearn.impute import SimpleImputer\n",
    "from sklearn.metrics import roc_auc_score,f1_score,classification_report\n",
    "from sklearn.feature_selection import RFECV\n",
    "\n",
    "from typing import Union\n",
    "from pathlib import Path\n",
    "from helper import *"
   ]
  },
  {
   "cell_type": "code",
   "execution_count": 2,
   "metadata": {},
   "outputs": [],
   "source": [
    "\n",
    "## Change to root dir\n",
    "os.chdir(\"../\")"
   ]
  },
  {
   "cell_type": "markdown",
   "metadata": {},
   "source": [
    "## 2 - Leitura dos dados"
   ]
  },
  {
   "cell_type": "code",
   "execution_count": 3,
   "metadata": {},
   "outputs": [
    {
     "data": {
      "text/html": [
       "<div>\n",
       "<style scoped>\n",
       "    .dataframe tbody tr th:only-of-type {\n",
       "        vertical-align: middle;\n",
       "    }\n",
       "\n",
       "    .dataframe tbody tr th {\n",
       "        vertical-align: top;\n",
       "    }\n",
       "\n",
       "    .dataframe thead th {\n",
       "        text-align: right;\n",
       "    }\n",
       "</style>\n",
       "<table border=\"1\" class=\"dataframe\">\n",
       "  <thead>\n",
       "    <tr style=\"text-align: right;\">\n",
       "      <th></th>\n",
       "      <th>tipo_de_empresa</th>\n",
       "      <th>fundação_da_empresa</th>\n",
       "      <th>possui_mais_de_um_sócio</th>\n",
       "      <th>funcionários</th>\n",
       "      <th>meses_de_permanência</th>\n",
       "      <th>utiliza_serviços_financeiros</th>\n",
       "      <th>possuicontador</th>\n",
       "      <th>faz_conciliação_bancária</th>\n",
       "      <th>frequência_de_utilização_de_feature_do_sistema_módulo_financeiro</th>\n",
       "      <th>frequência_de_utilização_de_feature_do_sistema_emissão_de_nota_fiscal</th>\n",
       "      <th>frequência_de_utilização_de_feature_do_sistema_integração_bancária</th>\n",
       "      <th>frequência_de_utilização_de_feature_do_sistema_módulo_de_vendas</th>\n",
       "      <th>frequência_de_utilização_de_feature_do_sistema_relatórios</th>\n",
       "      <th>frequência_de_utilização_de_feature_do_sistema_utilização_de_apis_de_integração</th>\n",
       "      <th>contrato</th>\n",
       "      <th>emite_boletos</th>\n",
       "      <th>tipo_de_pagamento</th>\n",
       "      <th>receita_mensal</th>\n",
       "      <th>receita_total</th>\n",
       "      <th>churn</th>\n",
       "    </tr>\n",
       "  </thead>\n",
       "  <tbody>\n",
       "    <tr>\n",
       "      <th>0</th>\n",
       "      <td>Micro empresa</td>\n",
       "      <td>2016</td>\n",
       "      <td>Sim</td>\n",
       "      <td>até 5 funcionários</td>\n",
       "      <td>1</td>\n",
       "      <td>Não</td>\n",
       "      <td>NaN</td>\n",
       "      <td>automática</td>\n",
       "      <td>Pouco uso</td>\n",
       "      <td>Uso frequente</td>\n",
       "      <td>Pouco uso</td>\n",
       "      <td>Pouco uso</td>\n",
       "      <td>Pouco uso</td>\n",
       "      <td>Pouco uso</td>\n",
       "      <td>Mês-a-mês</td>\n",
       "      <td>1</td>\n",
       "      <td>Boleto - pagamento único</td>\n",
       "      <td>29.85</td>\n",
       "      <td>29.85</td>\n",
       "      <td>Não</td>\n",
       "    </tr>\n",
       "    <tr>\n",
       "      <th>1</th>\n",
       "      <td>Pequena empresa</td>\n",
       "      <td>2018</td>\n",
       "      <td>Não</td>\n",
       "      <td>até 5 funcionários</td>\n",
       "      <td>34</td>\n",
       "      <td>Sim</td>\n",
       "      <td>Não</td>\n",
       "      <td>automática</td>\n",
       "      <td>Uso frequente</td>\n",
       "      <td>Pouco uso</td>\n",
       "      <td>Uso frequente</td>\n",
       "      <td>Pouco uso</td>\n",
       "      <td>Pouco uso</td>\n",
       "      <td>Pouco uso</td>\n",
       "      <td>Trimestral</td>\n",
       "      <td>0</td>\n",
       "      <td>Boleto - mês a mês</td>\n",
       "      <td>56.95</td>\n",
       "      <td>1889.50</td>\n",
       "      <td>Não</td>\n",
       "    </tr>\n",
       "    <tr>\n",
       "      <th>2</th>\n",
       "      <td>Pequena empresa</td>\n",
       "      <td>2021</td>\n",
       "      <td>Não</td>\n",
       "      <td>até 5 funcionários</td>\n",
       "      <td>2</td>\n",
       "      <td>Sim</td>\n",
       "      <td>Não</td>\n",
       "      <td>automática</td>\n",
       "      <td>Uso frequente</td>\n",
       "      <td>Uso frequente</td>\n",
       "      <td>Pouco uso</td>\n",
       "      <td>Pouco uso</td>\n",
       "      <td>Pouco uso</td>\n",
       "      <td>Pouco uso</td>\n",
       "      <td>Mês-a-mês</td>\n",
       "      <td>1</td>\n",
       "      <td>Boleto - mês a mês</td>\n",
       "      <td>53.85</td>\n",
       "      <td>108.15</td>\n",
       "      <td>Sim</td>\n",
       "    </tr>\n",
       "    <tr>\n",
       "      <th>3</th>\n",
       "      <td>Pequena empresa</td>\n",
       "      <td>2016</td>\n",
       "      <td>Não</td>\n",
       "      <td>até 5 funcionários</td>\n",
       "      <td>45</td>\n",
       "      <td>Não</td>\n",
       "      <td>NaN</td>\n",
       "      <td>automática</td>\n",
       "      <td>Uso frequente</td>\n",
       "      <td>Pouco uso</td>\n",
       "      <td>Uso frequente</td>\n",
       "      <td>Uso frequente</td>\n",
       "      <td>Pouco uso</td>\n",
       "      <td>Pouco uso</td>\n",
       "      <td>Trimestral</td>\n",
       "      <td>0</td>\n",
       "      <td>Cartão de crédito - pagamento único</td>\n",
       "      <td>42.30</td>\n",
       "      <td>1840.75</td>\n",
       "      <td>Não</td>\n",
       "    </tr>\n",
       "    <tr>\n",
       "      <th>4</th>\n",
       "      <td>Micro empresa</td>\n",
       "      <td>2017</td>\n",
       "      <td>Não</td>\n",
       "      <td>até 5 funcionários</td>\n",
       "      <td>2</td>\n",
       "      <td>Sim</td>\n",
       "      <td>Não</td>\n",
       "      <td>manual</td>\n",
       "      <td>Pouco uso</td>\n",
       "      <td>Pouco uso</td>\n",
       "      <td>Pouco uso</td>\n",
       "      <td>Pouco uso</td>\n",
       "      <td>Pouco uso</td>\n",
       "      <td>Pouco uso</td>\n",
       "      <td>Mês-a-mês</td>\n",
       "      <td>1</td>\n",
       "      <td>Boleto - pagamento único</td>\n",
       "      <td>70.70</td>\n",
       "      <td>151.65</td>\n",
       "      <td>Sim</td>\n",
       "    </tr>\n",
       "  </tbody>\n",
       "</table>\n",
       "</div>"
      ],
      "text/plain": [
       "   tipo_de_empresa  fundação_da_empresa possui_mais_de_um_sócio  \\\n",
       "0    Micro empresa                 2016                     Sim   \n",
       "1  Pequena empresa                 2018                     Não   \n",
       "2  Pequena empresa                 2021                     Não   \n",
       "3  Pequena empresa                 2016                     Não   \n",
       "4    Micro empresa                 2017                     Não   \n",
       "\n",
       "         funcionários  meses_de_permanência utiliza_serviços_financeiros  \\\n",
       "0  até 5 funcionários                     1                          Não   \n",
       "1  até 5 funcionários                    34                          Sim   \n",
       "2  até 5 funcionários                     2                          Sim   \n",
       "3  até 5 funcionários                    45                          Não   \n",
       "4  até 5 funcionários                     2                          Sim   \n",
       "\n",
       "  possuicontador faz_conciliação_bancária  \\\n",
       "0            NaN               automática   \n",
       "1           Não                automática   \n",
       "2           Não                automática   \n",
       "3            NaN               automática   \n",
       "4           Não                    manual   \n",
       "\n",
       "  frequência_de_utilização_de_feature_do_sistema_módulo_financeiro  \\\n",
       "0                                          Pouco uso                 \n",
       "1                                      Uso frequente                 \n",
       "2                                      Uso frequente                 \n",
       "3                                      Uso frequente                 \n",
       "4                                          Pouco uso                 \n",
       "\n",
       "  frequência_de_utilização_de_feature_do_sistema_emissão_de_nota_fiscal  \\\n",
       "0                                      Uso frequente                      \n",
       "1                                          Pouco uso                      \n",
       "2                                      Uso frequente                      \n",
       "3                                          Pouco uso                      \n",
       "4                                          Pouco uso                      \n",
       "\n",
       "  frequência_de_utilização_de_feature_do_sistema_integração_bancária  \\\n",
       "0                                          Pouco uso                   \n",
       "1                                      Uso frequente                   \n",
       "2                                          Pouco uso                   \n",
       "3                                      Uso frequente                   \n",
       "4                                          Pouco uso                   \n",
       "\n",
       "  frequência_de_utilização_de_feature_do_sistema_módulo_de_vendas  \\\n",
       "0                                          Pouco uso                \n",
       "1                                          Pouco uso                \n",
       "2                                          Pouco uso                \n",
       "3                                      Uso frequente                \n",
       "4                                          Pouco uso                \n",
       "\n",
       "  frequência_de_utilização_de_feature_do_sistema_relatórios  \\\n",
       "0                                          Pouco uso          \n",
       "1                                          Pouco uso          \n",
       "2                                          Pouco uso          \n",
       "3                                          Pouco uso          \n",
       "4                                          Pouco uso          \n",
       "\n",
       "  frequência_de_utilização_de_feature_do_sistema_utilização_de_apis_de_integração  \\\n",
       "0                                          Pouco uso                                \n",
       "1                                          Pouco uso                                \n",
       "2                                          Pouco uso                                \n",
       "3                                          Pouco uso                                \n",
       "4                                          Pouco uso                                \n",
       "\n",
       "     contrato emite_boletos                    tipo_de_pagamento  \\\n",
       "0   Mês-a-mês             1             Boleto - pagamento único   \n",
       "1  Trimestral             0                   Boleto - mês a mês   \n",
       "2   Mês-a-mês             1                   Boleto - mês a mês   \n",
       "3  Trimestral             0  Cartão de crédito - pagamento único   \n",
       "4   Mês-a-mês             1             Boleto - pagamento único   \n",
       "\n",
       "   receita_mensal  receita_total churn  \n",
       "0           29.85          29.85   Não  \n",
       "1           56.95        1889.50   Não  \n",
       "2           53.85         108.15   Sim  \n",
       "3           42.30        1840.75   Não  \n",
       "4           70.70         151.65   Sim  "
      ]
     },
     "execution_count": 3,
     "metadata": {},
     "output_type": "execute_result"
    }
   ],
   "source": [
    "CAT_FEATS = [\n",
    "    \"tipo_de_empresa\",\n",
    "    \"possui_mais_de_um_sócio\",\n",
    "    \"funcionários\",\n",
    "    \"utiliza_serviços_financeiros\",\n",
    "    \"possuicontador\",\n",
    "    \"faz_conciliação_bancária\",\n",
    "    \"frequência_de_utilização_de_feature_do_sistema_módulo_financeiro\",\n",
    "    \"frequência_de_utilização_de_feature_do_sistema_emissão_de_nota_fiscal\",\n",
    "    \"frequência_de_utilização_de_feature_do_sistema_integração_bancária\",\n",
    "    \"frequência_de_utilização_de_feature_do_sistema_módulo_de_vendas\",\n",
    "    \"frequência_de_utilização_de_feature_do_sistema_relatórios\",\n",
    "    \"frequência_de_utilização_de_feature_do_sistema_utilização_de_apis_de_integração\",\n",
    "    \"contrato\",\n",
    "    \"emite_boletos\",\n",
    "    \"tipo_de_pagamento\",\n",
    "    \"churn\"\n",
    "]\n",
    "\n",
    "cat_dtypes = {c:\"category\" for c in CAT_FEATS}\n",
    "\n",
    "df = pd.read_csv(\"./data/processed/cleared_df.csv\",dtype=cat_dtypes)\n",
    "df.head()"
   ]
  },
  {
   "cell_type": "code",
   "execution_count": 4,
   "metadata": {},
   "outputs": [
    {
     "data": {
      "text/plain": [
       "tipo_de_empresa                                                                    category\n",
       "fundação_da_empresa                                                                   int64\n",
       "possui_mais_de_um_sócio                                                            category\n",
       "funcionários                                                                       category\n",
       "meses_de_permanência                                                                  int64\n",
       "utiliza_serviços_financeiros                                                       category\n",
       "possuicontador                                                                     category\n",
       "faz_conciliação_bancária                                                           category\n",
       "frequência_de_utilização_de_feature_do_sistema_módulo_financeiro                   category\n",
       "frequência_de_utilização_de_feature_do_sistema_emissão_de_nota_fiscal              category\n",
       "frequência_de_utilização_de_feature_do_sistema_integração_bancária                 category\n",
       "frequência_de_utilização_de_feature_do_sistema_módulo_de_vendas                    category\n",
       "frequência_de_utilização_de_feature_do_sistema_relatórios                          category\n",
       "frequência_de_utilização_de_feature_do_sistema_utilização_de_apis_de_integração    category\n",
       "contrato                                                                           category\n",
       "emite_boletos                                                                      category\n",
       "tipo_de_pagamento                                                                  category\n",
       "receita_mensal                                                                      float64\n",
       "receita_total                                                                       float64\n",
       "churn                                                                              category\n",
       "dtype: object"
      ]
     },
     "execution_count": 4,
     "metadata": {},
     "output_type": "execute_result"
    }
   ],
   "source": [
    "df.dtypes"
   ]
  },
  {
   "cell_type": "markdown",
   "metadata": {},
   "source": [
    "## 2 - Aplicando feature engineering\n",
    "\n",
    "Lembre-se do notebook `02_feat_engineering.ipynb` onde construimos novas features a partir de padrões encontrados nos dados, as funções que vão ser utilizadas aqui estão reunidas no script `build_features.py`."
   ]
  },
  {
   "cell_type": "code",
   "execution_count": 5,
   "metadata": {},
   "outputs": [],
   "source": [
    "from src.features import *\n",
    "from src.data.make_dataset import make_pipeline\n",
    "\n",
    "list_funcs = [\n",
    "    {\n",
    "        \"function\":create_missing_indicator\n",
    "    },\n",
    "    {\n",
    "        \"function\":classify_col,\n",
    "        \"function_kwargs\":{\n",
    "            \"col_to_clf\":\"meses_de_permanência\",\n",
    "            \"new_col_name\":\"clf_meses_de_permanência\",\n",
    "            \"map\":{\n",
    "                \"Menor que 3 meses\":range(0,3),\n",
    "                \"Entre 3 a 12 meses\":range(3,12),\n",
    "                \"Entre 12 a 36 meses\":range(12,36),\n",
    "                \"Maior que 36 meses\":range(36,100),\n",
    "                }}\n",
    "    },\n",
    "    {\n",
    "        \"function\":convert_to_categoric,\n",
    "        \"function_kwargs\":{\"subset\":\"clf_meses_de_permanência\"}\n",
    "    },\n",
    "    {\n",
    "        \"function\":count_class_frequency,\n",
    "        \"function_kwargs\":{\n",
    "            \"class_to_count\": \"Pouco uso\",\n",
    "            \"columns\": [\n",
    "                \"frequência_de_utilização_de_feature_do_sistema_módulo_financeiro\",\n",
    "                \"frequência_de_utilização_de_feature_do_sistema_emissão_de_nota_fiscal\",\n",
    "                \"frequência_de_utilização_de_feature_do_sistema_integração_bancária\",\n",
    "                \"frequência_de_utilização_de_feature_do_sistema_módulo_de_vendas\",\n",
    "                \"frequência_de_utilização_de_feature_do_sistema_relatórios\",\n",
    "                \"frequência_de_utilização_de_feature_do_sistema_utilização_de_apis_de_integração\"\n",
    "            ]\n",
    "        }\n",
    "    },\n",
    "    {\n",
    "        \"function\":count_class_frequency,\n",
    "        \"function_kwargs\":{\n",
    "            \"class_to_count\": \"Uso frequente\",\n",
    "            \"columns\": [\n",
    "                \"frequência_de_utilização_de_feature_do_sistema_módulo_financeiro\",\n",
    "                \"frequência_de_utilização_de_feature_do_sistema_emissão_de_nota_fiscal\",\n",
    "                \"frequência_de_utilização_de_feature_do_sistema_integração_bancária\",\n",
    "                \"frequência_de_utilização_de_feature_do_sistema_módulo_de_vendas\",\n",
    "                \"frequência_de_utilização_de_feature_do_sistema_relatórios\",\n",
    "                \"frequência_de_utilização_de_feature_do_sistema_utilização_de_apis_de_integração\"\n",
    "            ]\n",
    "        }\n",
    "    },\n",
    "    {\n",
    "        \"function\":create_eq_or_gt_feature,\n",
    "        \"function_kwargs\":{\n",
    "            \"feature_name\":\"is_receita_mensal_maior_ou_igual_70\",\n",
    "            \"value\":70.0,\n",
    "            \"columns\":\"receita_mensal\"\n",
    "        }\n",
    "    }\n",
    "\n",
    "]"
   ]
  },
  {
   "cell_type": "code",
   "execution_count": 6,
   "metadata": {},
   "outputs": [
    {
     "data": {
      "text/plain": [
       "Index(['tipo_de_empresa', 'fundação_da_empresa', 'possui_mais_de_um_sócio',\n",
       "       'funcionários', 'meses_de_permanência', 'utiliza_serviços_financeiros',\n",
       "       'possuicontador', 'faz_conciliação_bancária',\n",
       "       'frequência_de_utilização_de_feature_do_sistema_módulo_financeiro',\n",
       "       'frequência_de_utilização_de_feature_do_sistema_emissão_de_nota_fiscal',\n",
       "       'frequência_de_utilização_de_feature_do_sistema_integração_bancária',\n",
       "       'frequência_de_utilização_de_feature_do_sistema_módulo_de_vendas',\n",
       "       'frequência_de_utilização_de_feature_do_sistema_relatórios',\n",
       "       'frequência_de_utilização_de_feature_do_sistema_utilização_de_apis_de_integração',\n",
       "       'contrato', 'emite_boletos', 'tipo_de_pagamento', 'receita_mensal',\n",
       "       'receita_total', 'churn', 'is_possuicontador_null',\n",
       "       'is_receita_total_null', 'clf_meses_de_permanência', 'qty_poucouso',\n",
       "       'qty_usofrequente', 'is_receita_mensal_maior_ou_igual_70'],\n",
       "      dtype='object')"
      ]
     },
     "execution_count": 6,
     "metadata": {},
     "output_type": "execute_result"
    }
   ],
   "source": [
    "df = make_pipeline(dataframe=df,functions=list_funcs)\n",
    "df.columns"
   ]
  },
  {
   "cell_type": "markdown",
   "metadata": {},
   "source": [
    "## 3 - Criando modelo não otimizado mas com as novas features \n",
    "\n",
    "Vamos aplicar inicialmente as novas features em um modelo simples de Random Forest sem procurar otimizar o modelo por enquanto"
   ]
  },
  {
   "cell_type": "code",
   "execution_count": 7,
   "metadata": {},
   "outputs": [],
   "source": [
    "NUM_FEATURES = list(df.select_dtypes(include=[\"int64\",\"float64\"],exclude=\"category\").columns)\n",
    "CAT_FEATURES = list(df.select_dtypes(include=[\"category\"],exclude=[\"int64\",\"float64\"]).columns)\n",
    "TARGET = \"churn\"\n",
    "CAT_FEATURES.remove(TARGET)\n",
    "\n",
    "X = df[NUM_FEATURES+CAT_FEATURES]\n",
    "y = df[TARGET].map({\"Não\":0,\"Sim\":1})"
   ]
  },
  {
   "cell_type": "code",
   "execution_count": 9,
   "metadata": {},
   "outputs": [
    {
     "name": "stdout",
     "output_type": "stream",
     "text": [
      "X_train, y_train shape: ((5634, 25), (5634,))\n",
      "X_test, y_test: ((1409, 25), (1409,))\n",
      "y_train proporção de Churn e não churn: churn\n",
      "0    0.734469\n",
      "1    0.265531\n",
      "Name: proportion, dtype: float64\n",
      "y_test proporção de Churn e não churn: churn\n",
      "0    0.735273\n",
      "1    0.264727\n",
      "Name: proportion, dtype: float64\n"
     ]
    }
   ],
   "source": [
    "# seprando dados em treino e teste\n",
    "X_train,X_test,y_train,y_test = train_test_split(X,y,train_size=0.8,random_state=42)\n",
    "print(\"X_train, y_train shape:\",(X_train.shape,y_train.shape))\n",
    "print(\"X_test, y_test:\",(X_test.shape,y_test.shape))\n",
    "print(\"y_train proporção de Churn e não churn:\",y_train.value_counts(normalize=True))\n",
    "print(\"y_test proporção de Churn e não churn:\",y_test.value_counts(normalize=True))"
   ]
  },
  {
   "cell_type": "code",
   "execution_count": 10,
   "metadata": {},
   "outputs": [
    {
     "data": {
      "text/html": [
       "<style>#sk-container-id-1 {color: black;background-color: white;}#sk-container-id-1 pre{padding: 0;}#sk-container-id-1 div.sk-toggleable {background-color: white;}#sk-container-id-1 label.sk-toggleable__label {cursor: pointer;display: block;width: 100%;margin-bottom: 0;padding: 0.3em;box-sizing: border-box;text-align: center;}#sk-container-id-1 label.sk-toggleable__label-arrow:before {content: \"▸\";float: left;margin-right: 0.25em;color: #696969;}#sk-container-id-1 label.sk-toggleable__label-arrow:hover:before {color: black;}#sk-container-id-1 div.sk-estimator:hover label.sk-toggleable__label-arrow:before {color: black;}#sk-container-id-1 div.sk-toggleable__content {max-height: 0;max-width: 0;overflow: hidden;text-align: left;background-color: #f0f8ff;}#sk-container-id-1 div.sk-toggleable__content pre {margin: 0.2em;color: black;border-radius: 0.25em;background-color: #f0f8ff;}#sk-container-id-1 input.sk-toggleable__control:checked~div.sk-toggleable__content {max-height: 200px;max-width: 100%;overflow: auto;}#sk-container-id-1 input.sk-toggleable__control:checked~label.sk-toggleable__label-arrow:before {content: \"▾\";}#sk-container-id-1 div.sk-estimator input.sk-toggleable__control:checked~label.sk-toggleable__label {background-color: #d4ebff;}#sk-container-id-1 div.sk-label input.sk-toggleable__control:checked~label.sk-toggleable__label {background-color: #d4ebff;}#sk-container-id-1 input.sk-hidden--visually {border: 0;clip: rect(1px 1px 1px 1px);clip: rect(1px, 1px, 1px, 1px);height: 1px;margin: -1px;overflow: hidden;padding: 0;position: absolute;width: 1px;}#sk-container-id-1 div.sk-estimator {font-family: monospace;background-color: #f0f8ff;border: 1px dotted black;border-radius: 0.25em;box-sizing: border-box;margin-bottom: 0.5em;}#sk-container-id-1 div.sk-estimator:hover {background-color: #d4ebff;}#sk-container-id-1 div.sk-parallel-item::after {content: \"\";width: 100%;border-bottom: 1px solid gray;flex-grow: 1;}#sk-container-id-1 div.sk-label:hover label.sk-toggleable__label {background-color: #d4ebff;}#sk-container-id-1 div.sk-serial::before {content: \"\";position: absolute;border-left: 1px solid gray;box-sizing: border-box;top: 0;bottom: 0;left: 50%;z-index: 0;}#sk-container-id-1 div.sk-serial {display: flex;flex-direction: column;align-items: center;background-color: white;padding-right: 0.2em;padding-left: 0.2em;position: relative;}#sk-container-id-1 div.sk-item {position: relative;z-index: 1;}#sk-container-id-1 div.sk-parallel {display: flex;align-items: stretch;justify-content: center;background-color: white;position: relative;}#sk-container-id-1 div.sk-item::before, #sk-container-id-1 div.sk-parallel-item::before {content: \"\";position: absolute;border-left: 1px solid gray;box-sizing: border-box;top: 0;bottom: 0;left: 50%;z-index: -1;}#sk-container-id-1 div.sk-parallel-item {display: flex;flex-direction: column;z-index: 1;position: relative;background-color: white;}#sk-container-id-1 div.sk-parallel-item:first-child::after {align-self: flex-end;width: 50%;}#sk-container-id-1 div.sk-parallel-item:last-child::after {align-self: flex-start;width: 50%;}#sk-container-id-1 div.sk-parallel-item:only-child::after {width: 0;}#sk-container-id-1 div.sk-dashed-wrapped {border: 1px dashed gray;margin: 0 0.4em 0.5em 0.4em;box-sizing: border-box;padding-bottom: 0.4em;background-color: white;}#sk-container-id-1 div.sk-label label {font-family: monospace;font-weight: bold;display: inline-block;line-height: 1.2em;}#sk-container-id-1 div.sk-label-container {text-align: center;}#sk-container-id-1 div.sk-container {/* jupyter's `normalize.less` sets `[hidden] { display: none; }` but bootstrap.min.css set `[hidden] { display: none !important; }` so we also need the `!important` here to be able to override the default hidden behavior on the sphinx rendered scikit-learn.org. See: https://github.com/scikit-learn/scikit-learn/issues/21755 */display: inline-block !important;position: relative;}#sk-container-id-1 div.sk-text-repr-fallback {display: none;}</style><div id=\"sk-container-id-1\" class=\"sk-top-container\"><div class=\"sk-text-repr-fallback\"><pre>Pipeline(steps=[(&#x27;preprocessor&#x27;,\n",
       "                 ColumnTransformer(transformers=[(&#x27;num&#x27;,\n",
       "                                                  SimpleImputer(strategy=&#x27;median&#x27;),\n",
       "                                                  [&#x27;fundação_da_empresa&#x27;,\n",
       "                                                   &#x27;meses_de_permanência&#x27;,\n",
       "                                                   &#x27;receita_mensal&#x27;,\n",
       "                                                   &#x27;receita_total&#x27;,\n",
       "                                                   &#x27;is_possuicontador_null&#x27;,\n",
       "                                                   &#x27;is_receita_total_null&#x27;,\n",
       "                                                   &#x27;qty_poucouso&#x27;,\n",
       "                                                   &#x27;qty_usofrequente&#x27;,\n",
       "                                                   &#x27;is_receita_mensal_maior_ou_igual_70&#x27;]),\n",
       "                                                 (&#x27;cat&#x27;, OneHotEncoder(),\n",
       "                                                  [&#x27;tipo_de_empresa&#x27;,\n",
       "                                                   &#x27;p...\n",
       "                                                   &#x27;frequência_de_utilização_de_feature_do_sistema_módulo_de_vendas&#x27;,\n",
       "                                                   &#x27;frequência_de_utilização_de_feature_do_sistema_relatórios&#x27;,\n",
       "                                                   &#x27;frequência_de_utilização_de_feature_do_sistema_utilização_de_apis_de_integração&#x27;,\n",
       "                                                   &#x27;contrato&#x27;, &#x27;emite_boletos&#x27;,\n",
       "                                                   &#x27;tipo_de_pagamento&#x27;,\n",
       "                                                   &#x27;clf_meses_de_permanência&#x27;])])),\n",
       "                (&#x27;model&#x27;,\n",
       "                 RandomForestClassifier(class_weight=&#x27;balanced&#x27;, max_depth=5,\n",
       "                                        n_estimators=120))])</pre><b>In a Jupyter environment, please rerun this cell to show the HTML representation or trust the notebook. <br />On GitHub, the HTML representation is unable to render, please try loading this page with nbviewer.org.</b></div><div class=\"sk-container\" hidden><div class=\"sk-item sk-dashed-wrapped\"><div class=\"sk-label-container\"><div class=\"sk-label sk-toggleable\"><input class=\"sk-toggleable__control sk-hidden--visually\" id=\"sk-estimator-id-1\" type=\"checkbox\" ><label for=\"sk-estimator-id-1\" class=\"sk-toggleable__label sk-toggleable__label-arrow\">Pipeline</label><div class=\"sk-toggleable__content\"><pre>Pipeline(steps=[(&#x27;preprocessor&#x27;,\n",
       "                 ColumnTransformer(transformers=[(&#x27;num&#x27;,\n",
       "                                                  SimpleImputer(strategy=&#x27;median&#x27;),\n",
       "                                                  [&#x27;fundação_da_empresa&#x27;,\n",
       "                                                   &#x27;meses_de_permanência&#x27;,\n",
       "                                                   &#x27;receita_mensal&#x27;,\n",
       "                                                   &#x27;receita_total&#x27;,\n",
       "                                                   &#x27;is_possuicontador_null&#x27;,\n",
       "                                                   &#x27;is_receita_total_null&#x27;,\n",
       "                                                   &#x27;qty_poucouso&#x27;,\n",
       "                                                   &#x27;qty_usofrequente&#x27;,\n",
       "                                                   &#x27;is_receita_mensal_maior_ou_igual_70&#x27;]),\n",
       "                                                 (&#x27;cat&#x27;, OneHotEncoder(),\n",
       "                                                  [&#x27;tipo_de_empresa&#x27;,\n",
       "                                                   &#x27;p...\n",
       "                                                   &#x27;frequência_de_utilização_de_feature_do_sistema_módulo_de_vendas&#x27;,\n",
       "                                                   &#x27;frequência_de_utilização_de_feature_do_sistema_relatórios&#x27;,\n",
       "                                                   &#x27;frequência_de_utilização_de_feature_do_sistema_utilização_de_apis_de_integração&#x27;,\n",
       "                                                   &#x27;contrato&#x27;, &#x27;emite_boletos&#x27;,\n",
       "                                                   &#x27;tipo_de_pagamento&#x27;,\n",
       "                                                   &#x27;clf_meses_de_permanência&#x27;])])),\n",
       "                (&#x27;model&#x27;,\n",
       "                 RandomForestClassifier(class_weight=&#x27;balanced&#x27;, max_depth=5,\n",
       "                                        n_estimators=120))])</pre></div></div></div><div class=\"sk-serial\"><div class=\"sk-item sk-dashed-wrapped\"><div class=\"sk-label-container\"><div class=\"sk-label sk-toggleable\"><input class=\"sk-toggleable__control sk-hidden--visually\" id=\"sk-estimator-id-2\" type=\"checkbox\" ><label for=\"sk-estimator-id-2\" class=\"sk-toggleable__label sk-toggleable__label-arrow\">preprocessor: ColumnTransformer</label><div class=\"sk-toggleable__content\"><pre>ColumnTransformer(transformers=[(&#x27;num&#x27;, SimpleImputer(strategy=&#x27;median&#x27;),\n",
       "                                 [&#x27;fundação_da_empresa&#x27;, &#x27;meses_de_permanência&#x27;,\n",
       "                                  &#x27;receita_mensal&#x27;, &#x27;receita_total&#x27;,\n",
       "                                  &#x27;is_possuicontador_null&#x27;,\n",
       "                                  &#x27;is_receita_total_null&#x27;, &#x27;qty_poucouso&#x27;,\n",
       "                                  &#x27;qty_usofrequente&#x27;,\n",
       "                                  &#x27;is_receita_mensal_maior_ou_igual_70&#x27;]),\n",
       "                                (&#x27;cat&#x27;, OneHotEncoder(),\n",
       "                                 [&#x27;tipo_de_empresa&#x27;, &#x27;possui_mais_de_um_sócio&#x27;,\n",
       "                                  &#x27;funcion...\n",
       "                                  &#x27;frequência_de_utilização_de_feature_do_sistema_integração_bancária&#x27;,\n",
       "                                  &#x27;frequência_de_utilização_de_feature_do_sistema_módulo_de_vendas&#x27;,\n",
       "                                  &#x27;frequência_de_utilização_de_feature_do_sistema_relatórios&#x27;,\n",
       "                                  &#x27;frequência_de_utilização_de_feature_do_sistema_utilização_de_apis_de_integração&#x27;,\n",
       "                                  &#x27;contrato&#x27;, &#x27;emite_boletos&#x27;,\n",
       "                                  &#x27;tipo_de_pagamento&#x27;,\n",
       "                                  &#x27;clf_meses_de_permanência&#x27;])])</pre></div></div></div><div class=\"sk-parallel\"><div class=\"sk-parallel-item\"><div class=\"sk-item\"><div class=\"sk-label-container\"><div class=\"sk-label sk-toggleable\"><input class=\"sk-toggleable__control sk-hidden--visually\" id=\"sk-estimator-id-3\" type=\"checkbox\" ><label for=\"sk-estimator-id-3\" class=\"sk-toggleable__label sk-toggleable__label-arrow\">num</label><div class=\"sk-toggleable__content\"><pre>[&#x27;fundação_da_empresa&#x27;, &#x27;meses_de_permanência&#x27;, &#x27;receita_mensal&#x27;, &#x27;receita_total&#x27;, &#x27;is_possuicontador_null&#x27;, &#x27;is_receita_total_null&#x27;, &#x27;qty_poucouso&#x27;, &#x27;qty_usofrequente&#x27;, &#x27;is_receita_mensal_maior_ou_igual_70&#x27;]</pre></div></div></div><div class=\"sk-serial\"><div class=\"sk-item\"><div class=\"sk-estimator sk-toggleable\"><input class=\"sk-toggleable__control sk-hidden--visually\" id=\"sk-estimator-id-4\" type=\"checkbox\" ><label for=\"sk-estimator-id-4\" class=\"sk-toggleable__label sk-toggleable__label-arrow\">SimpleImputer</label><div class=\"sk-toggleable__content\"><pre>SimpleImputer(strategy=&#x27;median&#x27;)</pre></div></div></div></div></div></div><div class=\"sk-parallel-item\"><div class=\"sk-item\"><div class=\"sk-label-container\"><div class=\"sk-label sk-toggleable\"><input class=\"sk-toggleable__control sk-hidden--visually\" id=\"sk-estimator-id-5\" type=\"checkbox\" ><label for=\"sk-estimator-id-5\" class=\"sk-toggleable__label sk-toggleable__label-arrow\">cat</label><div class=\"sk-toggleable__content\"><pre>[&#x27;tipo_de_empresa&#x27;, &#x27;possui_mais_de_um_sócio&#x27;, &#x27;funcionários&#x27;, &#x27;utiliza_serviços_financeiros&#x27;, &#x27;possuicontador&#x27;, &#x27;faz_conciliação_bancária&#x27;, &#x27;frequência_de_utilização_de_feature_do_sistema_módulo_financeiro&#x27;, &#x27;frequência_de_utilização_de_feature_do_sistema_emissão_de_nota_fiscal&#x27;, &#x27;frequência_de_utilização_de_feature_do_sistema_integração_bancária&#x27;, &#x27;frequência_de_utilização_de_feature_do_sistema_módulo_de_vendas&#x27;, &#x27;frequência_de_utilização_de_feature_do_sistema_relatórios&#x27;, &#x27;frequência_de_utilização_de_feature_do_sistema_utilização_de_apis_de_integração&#x27;, &#x27;contrato&#x27;, &#x27;emite_boletos&#x27;, &#x27;tipo_de_pagamento&#x27;, &#x27;clf_meses_de_permanência&#x27;]</pre></div></div></div><div class=\"sk-serial\"><div class=\"sk-item\"><div class=\"sk-estimator sk-toggleable\"><input class=\"sk-toggleable__control sk-hidden--visually\" id=\"sk-estimator-id-6\" type=\"checkbox\" ><label for=\"sk-estimator-id-6\" class=\"sk-toggleable__label sk-toggleable__label-arrow\">OneHotEncoder</label><div class=\"sk-toggleable__content\"><pre>OneHotEncoder()</pre></div></div></div></div></div></div></div></div><div class=\"sk-item\"><div class=\"sk-estimator sk-toggleable\"><input class=\"sk-toggleable__control sk-hidden--visually\" id=\"sk-estimator-id-7\" type=\"checkbox\" ><label for=\"sk-estimator-id-7\" class=\"sk-toggleable__label sk-toggleable__label-arrow\">RandomForestClassifier</label><div class=\"sk-toggleable__content\"><pre>RandomForestClassifier(class_weight=&#x27;balanced&#x27;, max_depth=5, n_estimators=120)</pre></div></div></div></div></div></div></div>"
      ],
      "text/plain": [
       "Pipeline(steps=[('preprocessor',\n",
       "                 ColumnTransformer(transformers=[('num',\n",
       "                                                  SimpleImputer(strategy='median'),\n",
       "                                                  ['fundação_da_empresa',\n",
       "                                                   'meses_de_permanência',\n",
       "                                                   'receita_mensal',\n",
       "                                                   'receita_total',\n",
       "                                                   'is_possuicontador_null',\n",
       "                                                   'is_receita_total_null',\n",
       "                                                   'qty_poucouso',\n",
       "                                                   'qty_usofrequente',\n",
       "                                                   'is_receita_mensal_maior_ou_igual_70']),\n",
       "                                                 ('cat', OneHotEncoder(),\n",
       "                                                  ['tipo_de_empresa',\n",
       "                                                   'p...\n",
       "                                                   'frequência_de_utilização_de_feature_do_sistema_módulo_de_vendas',\n",
       "                                                   'frequência_de_utilização_de_feature_do_sistema_relatórios',\n",
       "                                                   'frequência_de_utilização_de_feature_do_sistema_utilização_de_apis_de_integração',\n",
       "                                                   'contrato', 'emite_boletos',\n",
       "                                                   'tipo_de_pagamento',\n",
       "                                                   'clf_meses_de_permanência'])])),\n",
       "                ('model',\n",
       "                 RandomForestClassifier(class_weight='balanced', max_depth=5,\n",
       "                                        n_estimators=120))])"
      ]
     },
     "execution_count": 10,
     "metadata": {},
     "output_type": "execute_result"
    }
   ],
   "source": [
    "# Define the pipeline\n",
    "# Create the column transformer\n",
    "preprocessor = ColumnTransformer(\n",
    "    transformers=[\n",
    "        ('num', SimpleImputer(strategy='median'), NUM_FEATURES),\n",
    "        ('cat', OneHotEncoder(), CAT_FEATURES)])\n",
    "\n",
    "# Define the pipeline\n",
    "pipeline = Pipeline(steps=[\n",
    "    ('preprocessor', preprocessor),  # Preprocessing (imputation + one-hot encoding)\n",
    "    ('model', RandomForestClassifier(n_estimators=120,max_depth=5,class_weight='balanced'))  # Model\n",
    "])\n",
    "\n",
    "# Fit the pipeline to the training data\n",
    "pipeline.fit(X_train, y_train)"
   ]
  },
  {
   "cell_type": "code",
   "execution_count": 11,
   "metadata": {},
   "outputs": [
    {
     "name": "stdout",
     "output_type": "stream",
     "text": [
      "              precision    recall  f1-score   support\n",
      "\n",
      "   non-churn       0.93      0.73      0.81      1036\n",
      "       churn       0.53      0.84      0.65       373\n",
      "\n",
      "    accuracy                           0.76      1409\n",
      "   macro avg       0.73      0.79      0.73      1409\n",
      "weighted avg       0.82      0.76      0.77      1409\n",
      "\n"
     ]
    }
   ],
   "source": [
    "y_pred_class_model1 = pipeline.predict(X_test)\n",
    "y_pred_proba_model1 = pipeline.predict_proba(X_test)[:,1]\n",
    "\n",
    "print(classification_report(y_test, y_pred_class_model1,target_names=['non-churn', 'churn']))"
   ]
  },
  {
   "cell_type": "code",
   "execution_count": 12,
   "metadata": {},
   "outputs": [
    {
     "name": "stdout",
     "output_type": "stream",
     "text": [
      "proporção de churn nos dados previstos:\n",
      "0:0.5748757984386089\n",
      "1:0.4251242015613911\n"
     ]
    }
   ],
   "source": [
    "print(\"proporção de churn nos dados previstos:\")\n",
    "cat,ncat = np.unique(y_pred_class_model1,return_counts=True)\n",
    "for cat, qty in zip(cat,ncat):\n",
    "    print(f\"{cat}:{qty/np.sum(ncat,axis=0)}\")"
   ]
  },
  {
   "cell_type": "code",
   "execution_count": 13,
   "metadata": {},
   "outputs": [
    {
     "data": {
      "image/png": "[encoded data removed]",
      "text/plain": [
       "<Figure size 640x480 with 2 Axes>"
      ]
     },
     "metadata": {},
     "output_type": "display_data"
    }
   ],
   "source": [
    "# Compute the confusion matrix\n",
    "cm = confusion_matrix(y_test, y_pred_class_model1, normalize='true')\n",
    "\n",
    "# Define the class labels\n",
    "labels = ['Non-churn', \"Churn\"]  # Replace with your class labels\n",
    "\n",
    "# Create a confusion matrix display\n",
    "cm_display = ConfusionMatrixDisplay(confusion_matrix=cm, display_labels=labels)\n",
    "\n",
    "# Plot the confusion matrix\n",
    "cm_display.plot(cmap='Blues')\n",
    "plt.title('Confusion Matrix')\n",
    "plt.xlabel('Predicted Label')\n",
    "plt.ylabel('True Label')\n",
    "plt.show()"
   ]
  },
  {
   "cell_type": "markdown",
   "metadata": {},
   "source": [
    "## 4 - Criando modelo otimizado"
   ]
  },
  {
   "cell_type": "code",
   "execution_count": 14,
   "metadata": {},
   "outputs": [],
   "source": [
    "def optimize_model(preprocessor:ColumnTransformer,\n",
    "                   model:RandomForestClassifier,\n",
    "                   num_trials:int,\n",
    "                   n_splits:int,\n",
    "                   params_func:callable)->optuna.study:\n",
    "    def objective(trial):\n",
    "        avg_roc = 0\n",
    "        avg_f1 = 0\n",
    "        kf = KFold(n_splits=n_splits, shuffle=True, random_state=42)\n",
    "        for tr, ts in kf.split(X, y):\n",
    "            Xtr, Xvl = X.iloc[tr], X.iloc[ts]\n",
    "            ytr, yvl = y.iloc[tr], y.iloc[ts]\n",
    "            \n",
    "            params = params_func(trial)\n",
    "\n",
    "            pipe = Pipeline(steps=[('preprocessor', preprocessor), ('model', model(**params))])\n",
    "            pipe.fit(Xtr, ytr)\n",
    "\n",
    "            yvl_pred_proba = pipe.predict_proba(Xvl)[:,1]\n",
    "\n",
    "            avg_roc += roc_auc_score(yvl, yvl_pred_proba)\n",
    "            avg_f1 += f1_score(yvl, yvl_pred_proba > 0.5, average='macro')\n",
    "\n",
    "        print('avg roc:', avg_roc / n_splits)\n",
    "        print('avg f1:', avg_f1 / n_splits)\n",
    "\n",
    "        \n",
    "        return avg_roc / n_splits\n",
    "    \n",
    "    study = optuna.create_study(direction=\"maximize\")\n",
    "    study.optimize(objective,n_trials=num_trials)\n",
    "\n",
    "    print('Number of finished trials:', len(study.trials))\n",
    "    print('Best trial:', study.best_trial.params)\n",
    "\n",
    "    return study\n",
    "\n",
    "def get_params(trial:optuna.trial)->dict:\n",
    "    params = {\n",
    "        \"max_depth\":trial.suggest_int(\"max_depth\",7,8,log=True),\n",
    "        \"min_samples_split\":trial.suggest_int(\"min_samples_split\",2,5,log=True),\n",
    "        \"n_estimators\":trial.suggest_int(\"n_estimators\",520,600,log=True),\n",
    "        \"criterion\":trial.suggest_categorical(\"criterion\",[\"gini\", \"entropy\", \"log_loss\"],),\n",
    "        \"class_weight\":trial.suggest_categorical(\"class_weight\",[\"balanced\", \"balanced_subsample\"]),\n",
    "        \"random_state\":82\n",
    "\n",
    "    }\n",
    "    return params"
   ]
  },
  {
   "cell_type": "code",
   "execution_count": 15,
   "metadata": {},
   "outputs": [
    {
     "name": "stderr",
     "output_type": "stream",
     "text": [
      "[I 2024-03-20 12:48:47,753] A new study created in memory with name: no-name-1c5c1196-532b-420e-a498-e00911228fc8\n",
      "[I 2024-03-20 12:49:02,559] Trial 0 finished with value: 0.8468667270090947 and parameters: {'max_depth': 7, 'min_samples_split': 3, 'n_estimators': 534, 'criterion': 'entropy', 'class_weight': 'balanced'}. Best is trial 0 with value: 0.8468667270090947.\n"
     ]
    },
    {
     "name": "stdout",
     "output_type": "stream",
     "text": [
      "avg roc: 0.8468667270090947\n",
      "avg f1: 0.7274774699090949\n"
     ]
    },
    {
     "name": "stderr",
     "output_type": "stream",
     "text": [
      "[I 2024-03-20 12:49:23,014] Trial 1 finished with value: 0.8457976211751589 and parameters: {'max_depth': 8, 'min_samples_split': 3, 'n_estimators': 526, 'criterion': 'gini', 'class_weight': 'balanced_subsample'}. Best is trial 0 with value: 0.8468667270090947.\n"
     ]
    },
    {
     "name": "stdout",
     "output_type": "stream",
     "text": [
      "avg roc: 0.8457976211751589\n",
      "avg f1: 0.7317995834024134\n"
     ]
    },
    {
     "name": "stderr",
     "output_type": "stream",
     "text": [
      "[I 2024-03-20 12:49:40,868] Trial 2 finished with value: 0.8469819333288477 and parameters: {'max_depth': 8, 'min_samples_split': 5, 'n_estimators': 548, 'criterion': 'entropy', 'class_weight': 'balanced'}. Best is trial 2 with value: 0.8469819333288477.\n"
     ]
    },
    {
     "name": "stdout",
     "output_type": "stream",
     "text": [
      "avg roc: 0.8469819333288477\n",
      "avg f1: 0.728857524085152\n"
     ]
    },
    {
     "name": "stderr",
     "output_type": "stream",
     "text": [
      "[I 2024-03-20 12:50:06,826] Trial 3 finished with value: 0.8466128563775349 and parameters: {'max_depth': 7, 'min_samples_split': 2, 'n_estimators': 531, 'criterion': 'gini', 'class_weight': 'balanced_subsample'}. Best is trial 2 with value: 0.8469819333288477.\n"
     ]
    },
    {
     "name": "stdout",
     "output_type": "stream",
     "text": [
      "avg roc: 0.8466128563775349\n",
      "avg f1: 0.7286096250785308\n"
     ]
    },
    {
     "name": "stderr",
     "output_type": "stream",
     "text": [
      "[I 2024-03-20 12:50:25,102] Trial 4 finished with value: 0.8468072085341587 and parameters: {'max_depth': 7, 'min_samples_split': 2, 'n_estimators': 574, 'criterion': 'log_loss', 'class_weight': 'balanced'}. Best is trial 2 with value: 0.8469819333288477.\n"
     ]
    },
    {
     "name": "stdout",
     "output_type": "stream",
     "text": [
      "avg roc: 0.8468072085341587\n",
      "avg f1: 0.726427544541504\n"
     ]
    },
    {
     "name": "stderr",
     "output_type": "stream",
     "text": [
      "[I 2024-03-20 12:50:49,839] Trial 5 finished with value: 0.846390446873819 and parameters: {'max_depth': 8, 'min_samples_split': 2, 'n_estimators': 598, 'criterion': 'gini', 'class_weight': 'balanced_subsample'}. Best is trial 2 with value: 0.8469819333288477.\n"
     ]
    },
    {
     "name": "stdout",
     "output_type": "stream",
     "text": [
      "avg roc: 0.846390446873819\n",
      "avg f1: 0.7310731228656653\n"
     ]
    },
    {
     "name": "stderr",
     "output_type": "stream",
     "text": [
      "[I 2024-03-20 12:51:02,415] Trial 6 finished with value: 0.8464007064348461 and parameters: {'max_depth': 7, 'min_samples_split': 5, 'n_estimators': 578, 'criterion': 'gini', 'class_weight': 'balanced'}. Best is trial 2 with value: 0.8469819333288477.\n"
     ]
    },
    {
     "name": "stdout",
     "output_type": "stream",
     "text": [
      "avg roc: 0.8464007064348461\n",
      "avg f1: 0.7283400574523297\n"
     ]
    },
    {
     "name": "stderr",
     "output_type": "stream",
     "text": [
      "[I 2024-03-20 12:51:21,640] Trial 7 finished with value: 0.8467623229643536 and parameters: {'max_depth': 8, 'min_samples_split': 2, 'n_estimators': 594, 'criterion': 'entropy', 'class_weight': 'balanced_subsample'}. Best is trial 2 with value: 0.8469819333288477.\n"
     ]
    },
    {
     "name": "stdout",
     "output_type": "stream",
     "text": [
      "avg roc: 0.8467623229643536\n",
      "avg f1: 0.7301678223904643\n"
     ]
    },
    {
     "name": "stderr",
     "output_type": "stream",
     "text": [
      "[I 2024-03-20 12:51:42,154] Trial 8 finished with value: 0.8469578937587467 and parameters: {'max_depth': 8, 'min_samples_split': 5, 'n_estimators': 555, 'criterion': 'log_loss', 'class_weight': 'balanced'}. Best is trial 2 with value: 0.8469819333288477.\n"
     ]
    },
    {
     "name": "stdout",
     "output_type": "stream",
     "text": [
      "avg roc: 0.8469578937587467\n",
      "avg f1: 0.7293640704695401\n"
     ]
    },
    {
     "name": "stderr",
     "output_type": "stream",
     "text": [
      "[I 2024-03-20 12:52:01,251] Trial 9 finished with value: 0.8467179946641942 and parameters: {'max_depth': 8, 'min_samples_split': 3, 'n_estimators': 543, 'criterion': 'log_loss', 'class_weight': 'balanced'}. Best is trial 2 with value: 0.8469819333288477.\n"
     ]
    },
    {
     "name": "stdout",
     "output_type": "stream",
     "text": [
      "avg roc: 0.8467179946641942\n",
      "avg f1: 0.7312320534818187\n",
      "Number of finished trials: 10\n",
      "Best trial: {'max_depth': 8, 'min_samples_split': 5, 'n_estimators': 548, 'criterion': 'entropy', 'class_weight': 'balanced'}\n"
     ]
    }
   ],
   "source": [
    "study = optimize_model(preprocessor=preprocessor,model=RandomForestClassifier,num_trials=10,n_splits=5,params_func=get_params)\n",
    "best_params = study.best_params"
   ]
  },
  {
   "cell_type": "code",
   "execution_count": 16,
   "metadata": {},
   "outputs": [
    {
     "data": {
      "text/html": [
       "<style>#sk-container-id-2 {color: black;background-color: white;}#sk-container-id-2 pre{padding: 0;}#sk-container-id-2 div.sk-toggleable {background-color: white;}#sk-container-id-2 label.sk-toggleable__label {cursor: pointer;display: block;width: 100%;margin-bottom: 0;padding: 0.3em;box-sizing: border-box;text-align: center;}#sk-container-id-2 label.sk-toggleable__label-arrow:before {content: \"▸\";float: left;margin-right: 0.25em;color: #696969;}#sk-container-id-2 label.sk-toggleable__label-arrow:hover:before {color: black;}#sk-container-id-2 div.sk-estimator:hover label.sk-toggleable__label-arrow:before {color: black;}#sk-container-id-2 div.sk-toggleable__content {max-height: 0;max-width: 0;overflow: hidden;text-align: left;background-color: #f0f8ff;}#sk-container-id-2 div.sk-toggleable__content pre {margin: 0.2em;color: black;border-radius: 0.25em;background-color: #f0f8ff;}#sk-container-id-2 input.sk-toggleable__control:checked~div.sk-toggleable__content {max-height: 200px;max-width: 100%;overflow: auto;}#sk-container-id-2 input.sk-toggleable__control:checked~label.sk-toggleable__label-arrow:before {content: \"▾\";}#sk-container-id-2 div.sk-estimator input.sk-toggleable__control:checked~label.sk-toggleable__label {background-color: #d4ebff;}#sk-container-id-2 div.sk-label input.sk-toggleable__control:checked~label.sk-toggleable__label {background-color: #d4ebff;}#sk-container-id-2 input.sk-hidden--visually {border: 0;clip: rect(1px 1px 1px 1px);clip: rect(1px, 1px, 1px, 1px);height: 1px;margin: -1px;overflow: hidden;padding: 0;position: absolute;width: 1px;}#sk-container-id-2 div.sk-estimator {font-family: monospace;background-color: #f0f8ff;border: 1px dotted black;border-radius: 0.25em;box-sizing: border-box;margin-bottom: 0.5em;}#sk-container-id-2 div.sk-estimator:hover {background-color: #d4ebff;}#sk-container-id-2 div.sk-parallel-item::after {content: \"\";width: 100%;border-bottom: 1px solid gray;flex-grow: 1;}#sk-container-id-2 div.sk-label:hover label.sk-toggleable__label {background-color: #d4ebff;}#sk-container-id-2 div.sk-serial::before {content: \"\";position: absolute;border-left: 1px solid gray;box-sizing: border-box;top: 0;bottom: 0;left: 50%;z-index: 0;}#sk-container-id-2 div.sk-serial {display: flex;flex-direction: column;align-items: center;background-color: white;padding-right: 0.2em;padding-left: 0.2em;position: relative;}#sk-container-id-2 div.sk-item {position: relative;z-index: 1;}#sk-container-id-2 div.sk-parallel {display: flex;align-items: stretch;justify-content: center;background-color: white;position: relative;}#sk-container-id-2 div.sk-item::before, #sk-container-id-2 div.sk-parallel-item::before {content: \"\";position: absolute;border-left: 1px solid gray;box-sizing: border-box;top: 0;bottom: 0;left: 50%;z-index: -1;}#sk-container-id-2 div.sk-parallel-item {display: flex;flex-direction: column;z-index: 1;position: relative;background-color: white;}#sk-container-id-2 div.sk-parallel-item:first-child::after {align-self: flex-end;width: 50%;}#sk-container-id-2 div.sk-parallel-item:last-child::after {align-self: flex-start;width: 50%;}#sk-container-id-2 div.sk-parallel-item:only-child::after {width: 0;}#sk-container-id-2 div.sk-dashed-wrapped {border: 1px dashed gray;margin: 0 0.4em 0.5em 0.4em;box-sizing: border-box;padding-bottom: 0.4em;background-color: white;}#sk-container-id-2 div.sk-label label {font-family: monospace;font-weight: bold;display: inline-block;line-height: 1.2em;}#sk-container-id-2 div.sk-label-container {text-align: center;}#sk-container-id-2 div.sk-container {/* jupyter's `normalize.less` sets `[hidden] { display: none; }` but bootstrap.min.css set `[hidden] { display: none !important; }` so we also need the `!important` here to be able to override the default hidden behavior on the sphinx rendered scikit-learn.org. See: https://github.com/scikit-learn/scikit-learn/issues/21755 */display: inline-block !important;position: relative;}#sk-container-id-2 div.sk-text-repr-fallback {display: none;}</style><div id=\"sk-container-id-2\" class=\"sk-top-container\"><div class=\"sk-text-repr-fallback\"><pre>Pipeline(steps=[(&#x27;preprocessor&#x27;,\n",
       "                 ColumnTransformer(transformers=[(&#x27;num&#x27;,\n",
       "                                                  SimpleImputer(strategy=&#x27;median&#x27;),\n",
       "                                                  [&#x27;fundação_da_empresa&#x27;,\n",
       "                                                   &#x27;meses_de_permanência&#x27;,\n",
       "                                                   &#x27;receita_mensal&#x27;,\n",
       "                                                   &#x27;receita_total&#x27;,\n",
       "                                                   &#x27;is_possuicontador_null&#x27;,\n",
       "                                                   &#x27;is_receita_total_null&#x27;,\n",
       "                                                   &#x27;qty_poucouso&#x27;,\n",
       "                                                   &#x27;qty_usofrequente&#x27;,\n",
       "                                                   &#x27;is_receita_mensal_maior_ou_igual_70&#x27;]),\n",
       "                                                 (&#x27;cat&#x27;, OneHotEncoder(),\n",
       "                                                  [&#x27;tipo_de_empresa&#x27;,\n",
       "                                                   &#x27;p...\n",
       "                                                   &#x27;frequência_de_utilização_de_feature_do_sistema_relatórios&#x27;,\n",
       "                                                   &#x27;frequência_de_utilização_de_feature_do_sistema_utilização_de_apis_de_integração&#x27;,\n",
       "                                                   &#x27;contrato&#x27;, &#x27;emite_boletos&#x27;,\n",
       "                                                   &#x27;tipo_de_pagamento&#x27;,\n",
       "                                                   &#x27;clf_meses_de_permanência&#x27;])])),\n",
       "                (&#x27;model&#x27;,\n",
       "                 RandomForestClassifier(class_weight=&#x27;balanced&#x27;,\n",
       "                                        criterion=&#x27;entropy&#x27;, max_depth=8,\n",
       "                                        min_samples_split=5, n_estimators=548,\n",
       "                                        random_state=82))])</pre><b>In a Jupyter environment, please rerun this cell to show the HTML representation or trust the notebook. <br />On GitHub, the HTML representation is unable to render, please try loading this page with nbviewer.org.</b></div><div class=\"sk-container\" hidden><div class=\"sk-item sk-dashed-wrapped\"><div class=\"sk-label-container\"><div class=\"sk-label sk-toggleable\"><input class=\"sk-toggleable__control sk-hidden--visually\" id=\"sk-estimator-id-8\" type=\"checkbox\" ><label for=\"sk-estimator-id-8\" class=\"sk-toggleable__label sk-toggleable__label-arrow\">Pipeline</label><div class=\"sk-toggleable__content\"><pre>Pipeline(steps=[(&#x27;preprocessor&#x27;,\n",
       "                 ColumnTransformer(transformers=[(&#x27;num&#x27;,\n",
       "                                                  SimpleImputer(strategy=&#x27;median&#x27;),\n",
       "                                                  [&#x27;fundação_da_empresa&#x27;,\n",
       "                                                   &#x27;meses_de_permanência&#x27;,\n",
       "                                                   &#x27;receita_mensal&#x27;,\n",
       "                                                   &#x27;receita_total&#x27;,\n",
       "                                                   &#x27;is_possuicontador_null&#x27;,\n",
       "                                                   &#x27;is_receita_total_null&#x27;,\n",
       "                                                   &#x27;qty_poucouso&#x27;,\n",
       "                                                   &#x27;qty_usofrequente&#x27;,\n",
       "                                                   &#x27;is_receita_mensal_maior_ou_igual_70&#x27;]),\n",
       "                                                 (&#x27;cat&#x27;, OneHotEncoder(),\n",
       "                                                  [&#x27;tipo_de_empresa&#x27;,\n",
       "                                                   &#x27;p...\n",
       "                                                   &#x27;frequência_de_utilização_de_feature_do_sistema_relatórios&#x27;,\n",
       "                                                   &#x27;frequência_de_utilização_de_feature_do_sistema_utilização_de_apis_de_integração&#x27;,\n",
       "                                                   &#x27;contrato&#x27;, &#x27;emite_boletos&#x27;,\n",
       "                                                   &#x27;tipo_de_pagamento&#x27;,\n",
       "                                                   &#x27;clf_meses_de_permanência&#x27;])])),\n",
       "                (&#x27;model&#x27;,\n",
       "                 RandomForestClassifier(class_weight=&#x27;balanced&#x27;,\n",
       "                                        criterion=&#x27;entropy&#x27;, max_depth=8,\n",
       "                                        min_samples_split=5, n_estimators=548,\n",
       "                                        random_state=82))])</pre></div></div></div><div class=\"sk-serial\"><div class=\"sk-item sk-dashed-wrapped\"><div class=\"sk-label-container\"><div class=\"sk-label sk-toggleable\"><input class=\"sk-toggleable__control sk-hidden--visually\" id=\"sk-estimator-id-9\" type=\"checkbox\" ><label for=\"sk-estimator-id-9\" class=\"sk-toggleable__label sk-toggleable__label-arrow\">preprocessor: ColumnTransformer</label><div class=\"sk-toggleable__content\"><pre>ColumnTransformer(transformers=[(&#x27;num&#x27;, SimpleImputer(strategy=&#x27;median&#x27;),\n",
       "                                 [&#x27;fundação_da_empresa&#x27;, &#x27;meses_de_permanência&#x27;,\n",
       "                                  &#x27;receita_mensal&#x27;, &#x27;receita_total&#x27;,\n",
       "                                  &#x27;is_possuicontador_null&#x27;,\n",
       "                                  &#x27;is_receita_total_null&#x27;, &#x27;qty_poucouso&#x27;,\n",
       "                                  &#x27;qty_usofrequente&#x27;,\n",
       "                                  &#x27;is_receita_mensal_maior_ou_igual_70&#x27;]),\n",
       "                                (&#x27;cat&#x27;, OneHotEncoder(),\n",
       "                                 [&#x27;tipo_de_empresa&#x27;, &#x27;possui_mais_de_um_sócio&#x27;,\n",
       "                                  &#x27;funcion...\n",
       "                                  &#x27;frequência_de_utilização_de_feature_do_sistema_integração_bancária&#x27;,\n",
       "                                  &#x27;frequência_de_utilização_de_feature_do_sistema_módulo_de_vendas&#x27;,\n",
       "                                  &#x27;frequência_de_utilização_de_feature_do_sistema_relatórios&#x27;,\n",
       "                                  &#x27;frequência_de_utilização_de_feature_do_sistema_utilização_de_apis_de_integração&#x27;,\n",
       "                                  &#x27;contrato&#x27;, &#x27;emite_boletos&#x27;,\n",
       "                                  &#x27;tipo_de_pagamento&#x27;,\n",
       "                                  &#x27;clf_meses_de_permanência&#x27;])])</pre></div></div></div><div class=\"sk-parallel\"><div class=\"sk-parallel-item\"><div class=\"sk-item\"><div class=\"sk-label-container\"><div class=\"sk-label sk-toggleable\"><input class=\"sk-toggleable__control sk-hidden--visually\" id=\"sk-estimator-id-10\" type=\"checkbox\" ><label for=\"sk-estimator-id-10\" class=\"sk-toggleable__label sk-toggleable__label-arrow\">num</label><div class=\"sk-toggleable__content\"><pre>[&#x27;fundação_da_empresa&#x27;, &#x27;meses_de_permanência&#x27;, &#x27;receita_mensal&#x27;, &#x27;receita_total&#x27;, &#x27;is_possuicontador_null&#x27;, &#x27;is_receita_total_null&#x27;, &#x27;qty_poucouso&#x27;, &#x27;qty_usofrequente&#x27;, &#x27;is_receita_mensal_maior_ou_igual_70&#x27;]</pre></div></div></div><div class=\"sk-serial\"><div class=\"sk-item\"><div class=\"sk-estimator sk-toggleable\"><input class=\"sk-toggleable__control sk-hidden--visually\" id=\"sk-estimator-id-11\" type=\"checkbox\" ><label for=\"sk-estimator-id-11\" class=\"sk-toggleable__label sk-toggleable__label-arrow\">SimpleImputer</label><div class=\"sk-toggleable__content\"><pre>SimpleImputer(strategy=&#x27;median&#x27;)</pre></div></div></div></div></div></div><div class=\"sk-parallel-item\"><div class=\"sk-item\"><div class=\"sk-label-container\"><div class=\"sk-label sk-toggleable\"><input class=\"sk-toggleable__control sk-hidden--visually\" id=\"sk-estimator-id-12\" type=\"checkbox\" ><label for=\"sk-estimator-id-12\" class=\"sk-toggleable__label sk-toggleable__label-arrow\">cat</label><div class=\"sk-toggleable__content\"><pre>[&#x27;tipo_de_empresa&#x27;, &#x27;possui_mais_de_um_sócio&#x27;, &#x27;funcionários&#x27;, &#x27;utiliza_serviços_financeiros&#x27;, &#x27;possuicontador&#x27;, &#x27;faz_conciliação_bancária&#x27;, &#x27;frequência_de_utilização_de_feature_do_sistema_módulo_financeiro&#x27;, &#x27;frequência_de_utilização_de_feature_do_sistema_emissão_de_nota_fiscal&#x27;, &#x27;frequência_de_utilização_de_feature_do_sistema_integração_bancária&#x27;, &#x27;frequência_de_utilização_de_feature_do_sistema_módulo_de_vendas&#x27;, &#x27;frequência_de_utilização_de_feature_do_sistema_relatórios&#x27;, &#x27;frequência_de_utilização_de_feature_do_sistema_utilização_de_apis_de_integração&#x27;, &#x27;contrato&#x27;, &#x27;emite_boletos&#x27;, &#x27;tipo_de_pagamento&#x27;, &#x27;clf_meses_de_permanência&#x27;]</pre></div></div></div><div class=\"sk-serial\"><div class=\"sk-item\"><div class=\"sk-estimator sk-toggleable\"><input class=\"sk-toggleable__control sk-hidden--visually\" id=\"sk-estimator-id-13\" type=\"checkbox\" ><label for=\"sk-estimator-id-13\" class=\"sk-toggleable__label sk-toggleable__label-arrow\">OneHotEncoder</label><div class=\"sk-toggleable__content\"><pre>OneHotEncoder()</pre></div></div></div></div></div></div></div></div><div class=\"sk-item\"><div class=\"sk-estimator sk-toggleable\"><input class=\"sk-toggleable__control sk-hidden--visually\" id=\"sk-estimator-id-14\" type=\"checkbox\" ><label for=\"sk-estimator-id-14\" class=\"sk-toggleable__label sk-toggleable__label-arrow\">RandomForestClassifier</label><div class=\"sk-toggleable__content\"><pre>RandomForestClassifier(class_weight=&#x27;balanced&#x27;, criterion=&#x27;entropy&#x27;,\n",
       "                       max_depth=8, min_samples_split=5, n_estimators=548,\n",
       "                       random_state=82)</pre></div></div></div></div></div></div></div>"
      ],
      "text/plain": [
       "Pipeline(steps=[('preprocessor',\n",
       "                 ColumnTransformer(transformers=[('num',\n",
       "                                                  SimpleImputer(strategy='median'),\n",
       "                                                  ['fundação_da_empresa',\n",
       "                                                   'meses_de_permanência',\n",
       "                                                   'receita_mensal',\n",
       "                                                   'receita_total',\n",
       "                                                   'is_possuicontador_null',\n",
       "                                                   'is_receita_total_null',\n",
       "                                                   'qty_poucouso',\n",
       "                                                   'qty_usofrequente',\n",
       "                                                   'is_receita_mensal_maior_ou_igual_70']),\n",
       "                                                 ('cat', OneHotEncoder(),\n",
       "                                                  ['tipo_de_empresa',\n",
       "                                                   'p...\n",
       "                                                   'frequência_de_utilização_de_feature_do_sistema_relatórios',\n",
       "                                                   'frequência_de_utilização_de_feature_do_sistema_utilização_de_apis_de_integração',\n",
       "                                                   'contrato', 'emite_boletos',\n",
       "                                                   'tipo_de_pagamento',\n",
       "                                                   'clf_meses_de_permanência'])])),\n",
       "                ('model',\n",
       "                 RandomForestClassifier(class_weight='balanced',\n",
       "                                        criterion='entropy', max_depth=8,\n",
       "                                        min_samples_split=5, n_estimators=548,\n",
       "                                        random_state=82))])"
      ]
     },
     "execution_count": 16,
     "metadata": {},
     "output_type": "execute_result"
    }
   ],
   "source": [
    "# Define the pipeline for opt model\n",
    "# Create the column transformer\n",
    "preprocessor_for_bm = ColumnTransformer(\n",
    "    transformers=[\n",
    "        ('num', SimpleImputer(strategy='median'), NUM_FEATURES),\n",
    "        ('cat', OneHotEncoder(), CAT_FEATURES)\n",
    "        ],\n",
    ")\n",
    "\n",
    "model_best_params = best_params\n",
    "model_best_params[\"random_state\"] = 82\n",
    "\n",
    "# Define the pipeline\n",
    "pipeline_for_bm = Pipeline(steps=[\n",
    "    ('preprocessor', preprocessor_for_bm),  # Preprocessing (imputation + one-hot encoding)\n",
    "    ('model', RandomForestClassifier(**model_best_params))  # Model\n",
    "])\n",
    "\n",
    "# Fit the pipeline to the training data\n",
    "pipeline_for_bm.fit(X_train, y_train)"
   ]
  },
  {
   "cell_type": "code",
   "execution_count": 17,
   "metadata": {},
   "outputs": [
    {
     "name": "stdout",
     "output_type": "stream",
     "text": [
      "Precision-Recall AUC: 0.6973842843366835\n",
      "classification_report\n",
      "              precision    recall  f1-score   support\n",
      "\n",
      "           0       0.91      0.78      0.84      1036\n",
      "           1       0.57      0.80      0.66       373\n",
      "\n",
      "    accuracy                           0.79      1409\n",
      "   macro avg       0.74      0.79      0.75      1409\n",
      "weighted avg       0.82      0.79      0.80      1409\n",
      "\n",
      "\n",
      "Best F1-score: 0.6659217877094973 at threshold 0.5230618563773725\n"
     ]
    },
    {
     "data": {
      "image/png": "[encoded data removed]",
      "text/plain": [
       "<Figure size 640x480 with 1 Axes>"
      ]
     },
     "metadata": {},
     "output_type": "display_data"
    },
    {
     "data": {
      "image/png": "[encoded data removed]",
      "text/plain": [
       "<Figure size 640x480 with 2 Axes>"
      ]
     },
     "metadata": {},
     "output_type": "display_data"
    },
    {
     "data": {
      "text/plain": [
       "0.5230618563773725"
      ]
     },
     "execution_count": 17,
     "metadata": {},
     "output_type": "execute_result"
    }
   ],
   "source": [
    "y_pred_proba_bm = pipeline_for_bm.predict_proba(X_test)[:,1]\n",
    "best_th = evaluate_metrics(y_test=y_test,y_pred=y_pred_proba_bm,normalize='true')\n",
    "best_th"
   ]
  },
  {
   "cell_type": "markdown",
   "metadata": {},
   "source": [
    "## 5 - Feature Selection\n"
   ]
  },
  {
   "cell_type": "code",
   "execution_count": 18,
   "metadata": {},
   "outputs": [
    {
     "data": {
      "text/html": [
       "<style>#sk-container-id-3 {color: black;background-color: white;}#sk-container-id-3 pre{padding: 0;}#sk-container-id-3 div.sk-toggleable {background-color: white;}#sk-container-id-3 label.sk-toggleable__label {cursor: pointer;display: block;width: 100%;margin-bottom: 0;padding: 0.3em;box-sizing: border-box;text-align: center;}#sk-container-id-3 label.sk-toggleable__label-arrow:before {content: \"▸\";float: left;margin-right: 0.25em;color: #696969;}#sk-container-id-3 label.sk-toggleable__label-arrow:hover:before {color: black;}#sk-container-id-3 div.sk-estimator:hover label.sk-toggleable__label-arrow:before {color: black;}#sk-container-id-3 div.sk-toggleable__content {max-height: 0;max-width: 0;overflow: hidden;text-align: left;background-color: #f0f8ff;}#sk-container-id-3 div.sk-toggleable__content pre {margin: 0.2em;color: black;border-radius: 0.25em;background-color: #f0f8ff;}#sk-container-id-3 input.sk-toggleable__control:checked~div.sk-toggleable__content {max-height: 200px;max-width: 100%;overflow: auto;}#sk-container-id-3 input.sk-toggleable__control:checked~label.sk-toggleable__label-arrow:before {content: \"▾\";}#sk-container-id-3 div.sk-estimator input.sk-toggleable__control:checked~label.sk-toggleable__label {background-color: #d4ebff;}#sk-container-id-3 div.sk-label input.sk-toggleable__control:checked~label.sk-toggleable__label {background-color: #d4ebff;}#sk-container-id-3 input.sk-hidden--visually {border: 0;clip: rect(1px 1px 1px 1px);clip: rect(1px, 1px, 1px, 1px);height: 1px;margin: -1px;overflow: hidden;padding: 0;position: absolute;width: 1px;}#sk-container-id-3 div.sk-estimator {font-family: monospace;background-color: #f0f8ff;border: 1px dotted black;border-radius: 0.25em;box-sizing: border-box;margin-bottom: 0.5em;}#sk-container-id-3 div.sk-estimator:hover {background-color: #d4ebff;}#sk-container-id-3 div.sk-parallel-item::after {content: \"\";width: 100%;border-bottom: 1px solid gray;flex-grow: 1;}#sk-container-id-3 div.sk-label:hover label.sk-toggleable__label {background-color: #d4ebff;}#sk-container-id-3 div.sk-serial::before {content: \"\";position: absolute;border-left: 1px solid gray;box-sizing: border-box;top: 0;bottom: 0;left: 50%;z-index: 0;}#sk-container-id-3 div.sk-serial {display: flex;flex-direction: column;align-items: center;background-color: white;padding-right: 0.2em;padding-left: 0.2em;position: relative;}#sk-container-id-3 div.sk-item {position: relative;z-index: 1;}#sk-container-id-3 div.sk-parallel {display: flex;align-items: stretch;justify-content: center;background-color: white;position: relative;}#sk-container-id-3 div.sk-item::before, #sk-container-id-3 div.sk-parallel-item::before {content: \"\";position: absolute;border-left: 1px solid gray;box-sizing: border-box;top: 0;bottom: 0;left: 50%;z-index: -1;}#sk-container-id-3 div.sk-parallel-item {display: flex;flex-direction: column;z-index: 1;position: relative;background-color: white;}#sk-container-id-3 div.sk-parallel-item:first-child::after {align-self: flex-end;width: 50%;}#sk-container-id-3 div.sk-parallel-item:last-child::after {align-self: flex-start;width: 50%;}#sk-container-id-3 div.sk-parallel-item:only-child::after {width: 0;}#sk-container-id-3 div.sk-dashed-wrapped {border: 1px dashed gray;margin: 0 0.4em 0.5em 0.4em;box-sizing: border-box;padding-bottom: 0.4em;background-color: white;}#sk-container-id-3 div.sk-label label {font-family: monospace;font-weight: bold;display: inline-block;line-height: 1.2em;}#sk-container-id-3 div.sk-label-container {text-align: center;}#sk-container-id-3 div.sk-container {/* jupyter's `normalize.less` sets `[hidden] { display: none; }` but bootstrap.min.css set `[hidden] { display: none !important; }` so we also need the `!important` here to be able to override the default hidden behavior on the sphinx rendered scikit-learn.org. See: https://github.com/scikit-learn/scikit-learn/issues/21755 */display: inline-block !important;position: relative;}#sk-container-id-3 div.sk-text-repr-fallback {display: none;}</style><div id=\"sk-container-id-3\" class=\"sk-top-container\"><div class=\"sk-text-repr-fallback\"><pre>RFECV(cv=5,\n",
       "      estimator=RandomForestClassifier(class_weight=&#x27;balanced&#x27;,\n",
       "                                       criterion=&#x27;entropy&#x27;, max_depth=8,\n",
       "                                       min_samples_split=5, n_estimators=548,\n",
       "                                       random_state=82),\n",
       "      importance_getter=&#x27;feature_importances_&#x27;, min_features_to_select=32,\n",
       "      scoring=&#x27;roc_auc&#x27;)</pre><b>In a Jupyter environment, please rerun this cell to show the HTML representation or trust the notebook. <br />On GitHub, the HTML representation is unable to render, please try loading this page with nbviewer.org.</b></div><div class=\"sk-container\" hidden><div class=\"sk-item sk-dashed-wrapped\"><div class=\"sk-label-container\"><div class=\"sk-label sk-toggleable\"><input class=\"sk-toggleable__control sk-hidden--visually\" id=\"sk-estimator-id-15\" type=\"checkbox\" ><label for=\"sk-estimator-id-15\" class=\"sk-toggleable__label sk-toggleable__label-arrow\">RFECV</label><div class=\"sk-toggleable__content\"><pre>RFECV(cv=5,\n",
       "      estimator=RandomForestClassifier(class_weight=&#x27;balanced&#x27;,\n",
       "                                       criterion=&#x27;entropy&#x27;, max_depth=8,\n",
       "                                       min_samples_split=5, n_estimators=548,\n",
       "                                       random_state=82),\n",
       "      importance_getter=&#x27;feature_importances_&#x27;, min_features_to_select=32,\n",
       "      scoring=&#x27;roc_auc&#x27;)</pre></div></div></div><div class=\"sk-parallel\"><div class=\"sk-parallel-item\"><div class=\"sk-item\"><div class=\"sk-label-container\"><div class=\"sk-label sk-toggleable\"><input class=\"sk-toggleable__control sk-hidden--visually\" id=\"sk-estimator-id-16\" type=\"checkbox\" ><label for=\"sk-estimator-id-16\" class=\"sk-toggleable__label sk-toggleable__label-arrow\">estimator: RandomForestClassifier</label><div class=\"sk-toggleable__content\"><pre>RandomForestClassifier(class_weight=&#x27;balanced&#x27;, criterion=&#x27;entropy&#x27;,\n",
       "                       max_depth=8, min_samples_split=5, n_estimators=548,\n",
       "                       random_state=82)</pre></div></div></div><div class=\"sk-serial\"><div class=\"sk-item\"><div class=\"sk-estimator sk-toggleable\"><input class=\"sk-toggleable__control sk-hidden--visually\" id=\"sk-estimator-id-17\" type=\"checkbox\" ><label for=\"sk-estimator-id-17\" class=\"sk-toggleable__label sk-toggleable__label-arrow\">RandomForestClassifier</label><div class=\"sk-toggleable__content\"><pre>RandomForestClassifier(class_weight=&#x27;balanced&#x27;, criterion=&#x27;entropy&#x27;,\n",
       "                       max_depth=8, min_samples_split=5, n_estimators=548,\n",
       "                       random_state=82)</pre></div></div></div></div></div></div></div></div></div></div>"
      ],
      "text/plain": [
       "RFECV(cv=5,\n",
       "      estimator=RandomForestClassifier(class_weight='balanced',\n",
       "                                       criterion='entropy', max_depth=8,\n",
       "                                       min_samples_split=5, n_estimators=548,\n",
       "                                       random_state=82),\n",
       "      importance_getter='feature_importances_', min_features_to_select=32,\n",
       "      scoring='roc_auc')"
      ]
     },
     "execution_count": 18,
     "metadata": {},
     "output_type": "execute_result"
    }
   ],
   "source": [
    "# model with best_params \n",
    "\n",
    "model_for_fs = RandomForestClassifier(**model_best_params)\n",
    "\n",
    "Xt = preprocessor.transform(X)\n",
    "\n",
    "# Apply feature selection\n",
    "fs = RFECV(\n",
    "    estimator=model_for_fs,\n",
    "    step=1,\n",
    "    min_features_to_select=int(Xt.shape[1]*0.6),\n",
    "    scoring=\"roc_auc\",\n",
    "    cv=5,\n",
    "    importance_getter=\"feature_importances_\"\n",
    ")\n",
    "fs.fit(Xt,y)"
   ]
  },
  {
   "cell_type": "code",
   "execution_count": 19,
   "metadata": {},
   "outputs": [
    {
     "name": "stdout",
     "output_type": "stream",
     "text": [
      "Quantidade de features de entrada: 54\n",
      "Quantidade de features selecionadas: 40\n",
      "Visualizando ranking das features:\n"
     ]
    },
    {
     "data": {
      "text/plain": [
       "num__fundação_da_empresa                                                                                1\n",
       "cat__clf_meses_de_permanência_Maior que 36 meses                                                        1\n",
       "cat__frequência_de_utilização_de_feature_do_sistema_emissão_de_nota_fiscal_Pouco uso                    1\n",
       "cat__frequência_de_utilização_de_feature_do_sistema_integração_bancária_Nunca utilizou                  1\n",
       "cat__frequência_de_utilização_de_feature_do_sistema_integração_bancária_Pouco uso                       1\n",
       "cat__frequência_de_utilização_de_feature_do_sistema_módulo_de_vendas_Pouco uso                          1\n",
       "cat__frequência_de_utilização_de_feature_do_sistema_módulo_de_vendas_Uso frequente                      1\n",
       "cat__frequência_de_utilização_de_feature_do_sistema_relatórios_Nunca utilizou                           1\n",
       "cat__frequência_de_utilização_de_feature_do_sistema_relatórios_Uso frequente                            1\n",
       "cat__frequência_de_utilização_de_feature_do_sistema_utilização_de_apis_de_integração_Nunca utilizou     1\n",
       "cat__frequência_de_utilização_de_feature_do_sistema_módulo_financeiro_Uso frequente                     1\n",
       "cat__frequência_de_utilização_de_feature_do_sistema_utilização_de_apis_de_integração_Pouco uso          1\n",
       "cat__contrato_Anual                                                                                     1\n",
       "cat__contrato_Mês-a-mês                                                                                 1\n",
       "cat__contrato_Trimestral                                                                                1\n",
       "cat__emite_boletos_0                                                                                    1\n",
       "cat__emite_boletos_1                                                                                    1\n",
       "cat__tipo_de_pagamento_Boleto - pagamento único                                                         1\n",
       "cat__tipo_de_pagamento_Cartão de crédito - mês a mês                                                    1\n",
       "cat__tipo_de_pagamento_Cartão de crédito - pagamento único                                              1\n",
       "cat__clf_meses_de_permanência_Entre 12 a 36 meses                                                       1\n",
       "cat__frequência_de_utilização_de_feature_do_sistema_utilização_de_apis_de_integração_Uso frequente      1\n",
       "cat__frequência_de_utilização_de_feature_do_sistema_módulo_financeiro_Pouco uso                         1\n",
       "cat__frequência_de_utilização_de_feature_do_sistema_emissão_de_nota_fiscal_Nunca utilizou               1\n",
       "cat__faz_conciliação_bancária_não faz                                                                   1\n",
       "num__meses_de_permanência                                                                               1\n",
       "num__receita_mensal                                                                                     1\n",
       "num__receita_total                                                                                      1\n",
       "num__qty_poucouso                                                                                       1\n",
       "num__qty_usofrequente                                                                                   1\n",
       "num__is_receita_mensal_maior_ou_igual_70                                                                1\n",
       "cat__tipo_de_empresa_Micro empresa                                                                      1\n",
       "cat__frequência_de_utilização_de_feature_do_sistema_módulo_financeiro_Nunca utilizou                    1\n",
       "cat__funcionários_até 5 funcionários                                                                    1\n",
       "cat__possui_mais_de_um_sócio_Sim                                                                        1\n",
       "cat__clf_meses_de_permanência_Menor que 3 meses                                                         1\n",
       "cat__possuicontador_Não                                                                                 1\n",
       "cat__possuicontador_Sim                                                                                 1\n",
       "cat__faz_conciliação_bancária_manual                                                                    1\n",
       "cat__faz_conciliação_bancária_automática                                                                1\n",
       "cat__funcionários_6 ou mais funcionários                                                                2\n",
       "cat__frequência_de_utilização_de_feature_do_sistema_módulo_de_vendas_Nunca utilizou                     3\n",
       "cat__tipo_de_pagamento_Boleto - mês a mês                                                               4\n",
       "cat__possui_mais_de_um_sócio_Não                                                                        5\n",
       "cat__clf_meses_de_permanência_Entre 3 a 12 meses                                                        6\n",
       "cat__tipo_de_empresa_Pequena empresa                                                                    7\n",
       "cat__frequência_de_utilização_de_feature_do_sistema_relatórios_Pouco uso                                8\n",
       "cat__frequência_de_utilização_de_feature_do_sistema_emissão_de_nota_fiscal_Uso frequente                9\n",
       "cat__frequência_de_utilização_de_feature_do_sistema_integração_bancária_Uso frequente                  10\n",
       "cat__utiliza_serviços_financeiros_Sim                                                                  11\n",
       "num__is_possuicontador_null                                                                            12\n",
       "cat__possuicontador_nan                                                                                13\n",
       "cat__utiliza_serviços_financeiros_Não                                                                  14\n",
       "num__is_receita_total_null                                                                             15\n",
       "dtype: int64"
      ]
     },
     "execution_count": 19,
     "metadata": {},
     "output_type": "execute_result"
    }
   ],
   "source": [
    "output_feature_names = preprocessor.get_feature_names_out()\n",
    "print(\"Quantidade de features de entrada:\",Xt.shape[1])\n",
    "print(\"Quantidade de features selecionadas:\",fs.n_features_)\n",
    "print(\"Visualizando ranking das features:\")\n",
    "feat_ranking = pd.Series(fs.ranking_,index=output_feature_names)\n",
    "feat_ranking.sort_values()"
   ]
  },
  {
   "cell_type": "code",
   "execution_count": 20,
   "metadata": {},
   "outputs": [
    {
     "name": "stdout",
     "output_type": "stream",
     "text": [
      "Features removidas\n"
     ]
    },
    {
     "data": {
      "text/plain": [
       "['num__is_possuicontador_null',\n",
       " 'cat__tipo_de_empresa_Pequena empresa',\n",
       " 'cat__possuicontador_nan',\n",
       " 'cat__frequência_de_utilização_de_feature_do_sistema_relatórios_Pouco uso',\n",
       " 'cat__funcionários_6 ou mais funcionários',\n",
       " 'cat__tipo_de_pagamento_Boleto - mês a mês',\n",
       " 'cat__clf_meses_de_permanência_Entre 3 a 12 meses',\n",
       " 'cat__frequência_de_utilização_de_feature_do_sistema_módulo_de_vendas_Nunca utilizou',\n",
       " 'num__is_receita_total_null',\n",
       " 'cat__frequência_de_utilização_de_feature_do_sistema_integração_bancária_Uso frequente',\n",
       " 'cat__utiliza_serviços_financeiros_Não',\n",
       " 'cat__utiliza_serviços_financeiros_Sim',\n",
       " 'cat__frequência_de_utilização_de_feature_do_sistema_emissão_de_nota_fiscal_Uso frequente',\n",
       " 'cat__possui_mais_de_um_sócio_Não']"
      ]
     },
     "execution_count": 20,
     "metadata": {},
     "output_type": "execute_result"
    }
   ],
   "source": [
    "print(\"Features removidas\")\n",
    "rm_feats = set(output_feature_names).difference(set(output_feature_names[fs.support_]))\n",
    "rm_feats = list(rm_feats)\n",
    "rm_feats"
   ]
  },
  {
   "cell_type": "code",
   "execution_count": 21,
   "metadata": {},
   "outputs": [
    {
     "data": {
      "text/html": [
       "<style>#sk-container-id-4 {color: black;background-color: white;}#sk-container-id-4 pre{padding: 0;}#sk-container-id-4 div.sk-toggleable {background-color: white;}#sk-container-id-4 label.sk-toggleable__label {cursor: pointer;display: block;width: 100%;margin-bottom: 0;padding: 0.3em;box-sizing: border-box;text-align: center;}#sk-container-id-4 label.sk-toggleable__label-arrow:before {content: \"▸\";float: left;margin-right: 0.25em;color: #696969;}#sk-container-id-4 label.sk-toggleable__label-arrow:hover:before {color: black;}#sk-container-id-4 div.sk-estimator:hover label.sk-toggleable__label-arrow:before {color: black;}#sk-container-id-4 div.sk-toggleable__content {max-height: 0;max-width: 0;overflow: hidden;text-align: left;background-color: #f0f8ff;}#sk-container-id-4 div.sk-toggleable__content pre {margin: 0.2em;color: black;border-radius: 0.25em;background-color: #f0f8ff;}#sk-container-id-4 input.sk-toggleable__control:checked~div.sk-toggleable__content {max-height: 200px;max-width: 100%;overflow: auto;}#sk-container-id-4 input.sk-toggleable__control:checked~label.sk-toggleable__label-arrow:before {content: \"▾\";}#sk-container-id-4 div.sk-estimator input.sk-toggleable__control:checked~label.sk-toggleable__label {background-color: #d4ebff;}#sk-container-id-4 div.sk-label input.sk-toggleable__control:checked~label.sk-toggleable__label {background-color: #d4ebff;}#sk-container-id-4 input.sk-hidden--visually {border: 0;clip: rect(1px 1px 1px 1px);clip: rect(1px, 1px, 1px, 1px);height: 1px;margin: -1px;overflow: hidden;padding: 0;position: absolute;width: 1px;}#sk-container-id-4 div.sk-estimator {font-family: monospace;background-color: #f0f8ff;border: 1px dotted black;border-radius: 0.25em;box-sizing: border-box;margin-bottom: 0.5em;}#sk-container-id-4 div.sk-estimator:hover {background-color: #d4ebff;}#sk-container-id-4 div.sk-parallel-item::after {content: \"\";width: 100%;border-bottom: 1px solid gray;flex-grow: 1;}#sk-container-id-4 div.sk-label:hover label.sk-toggleable__label {background-color: #d4ebff;}#sk-container-id-4 div.sk-serial::before {content: \"\";position: absolute;border-left: 1px solid gray;box-sizing: border-box;top: 0;bottom: 0;left: 50%;z-index: 0;}#sk-container-id-4 div.sk-serial {display: flex;flex-direction: column;align-items: center;background-color: white;padding-right: 0.2em;padding-left: 0.2em;position: relative;}#sk-container-id-4 div.sk-item {position: relative;z-index: 1;}#sk-container-id-4 div.sk-parallel {display: flex;align-items: stretch;justify-content: center;background-color: white;position: relative;}#sk-container-id-4 div.sk-item::before, #sk-container-id-4 div.sk-parallel-item::before {content: \"\";position: absolute;border-left: 1px solid gray;box-sizing: border-box;top: 0;bottom: 0;left: 50%;z-index: -1;}#sk-container-id-4 div.sk-parallel-item {display: flex;flex-direction: column;z-index: 1;position: relative;background-color: white;}#sk-container-id-4 div.sk-parallel-item:first-child::after {align-self: flex-end;width: 50%;}#sk-container-id-4 div.sk-parallel-item:last-child::after {align-self: flex-start;width: 50%;}#sk-container-id-4 div.sk-parallel-item:only-child::after {width: 0;}#sk-container-id-4 div.sk-dashed-wrapped {border: 1px dashed gray;margin: 0 0.4em 0.5em 0.4em;box-sizing: border-box;padding-bottom: 0.4em;background-color: white;}#sk-container-id-4 div.sk-label label {font-family: monospace;font-weight: bold;display: inline-block;line-height: 1.2em;}#sk-container-id-4 div.sk-label-container {text-align: center;}#sk-container-id-4 div.sk-container {/* jupyter's `normalize.less` sets `[hidden] { display: none; }` but bootstrap.min.css set `[hidden] { display: none !important; }` so we also need the `!important` here to be able to override the default hidden behavior on the sphinx rendered scikit-learn.org. See: https://github.com/scikit-learn/scikit-learn/issues/21755 */display: inline-block !important;position: relative;}#sk-container-id-4 div.sk-text-repr-fallback {display: none;}</style><div id=\"sk-container-id-4\" class=\"sk-top-container\"><div class=\"sk-text-repr-fallback\"><pre>Pipeline(steps=[(&#x27;column_transformations&#x27;,\n",
       "                 ColumnTransformer(transformers=[(&#x27;num&#x27;,\n",
       "                                                  SimpleImputer(strategy=&#x27;median&#x27;),\n",
       "                                                  [&#x27;fundação_da_empresa&#x27;,\n",
       "                                                   &#x27;meses_de_permanência&#x27;,\n",
       "                                                   &#x27;receita_mensal&#x27;,\n",
       "                                                   &#x27;receita_total&#x27;,\n",
       "                                                   &#x27;is_possuicontador_null&#x27;,\n",
       "                                                   &#x27;is_receita_total_null&#x27;,\n",
       "                                                   &#x27;qty_poucouso&#x27;,\n",
       "                                                   &#x27;qty_usofrequente&#x27;,\n",
       "                                                   &#x27;is_receita_mensal_maior_ou_igual_70&#x27;]),\n",
       "                                                 (&#x27;cat&#x27;, OneHotEncoder(),\n",
       "                                                  [&#x27;tipo_de_e...\n",
       "        True, False, False,  True, False,  True, False, False,  True,\n",
       "        True, False,  True,  True,  True,  True,  True,  True,  True,\n",
       "        True, False,  True,  True, False, False,  True,  True,  True,\n",
       "       False,  True,  True,  True,  True,  True,  True,  True,  True,\n",
       "        True, False,  True,  True,  True,  True, False,  True,  True]))])),\n",
       "                (&#x27;model&#x27;,\n",
       "                 RandomForestClassifier(class_weight=&#x27;balanced&#x27;,\n",
       "                                        criterion=&#x27;entropy&#x27;, max_depth=8,\n",
       "                                        min_samples_split=5, n_estimators=548,\n",
       "                                        random_state=82))])</pre><b>In a Jupyter environment, please rerun this cell to show the HTML representation or trust the notebook. <br />On GitHub, the HTML representation is unable to render, please try loading this page with nbviewer.org.</b></div><div class=\"sk-container\" hidden><div class=\"sk-item sk-dashed-wrapped\"><div class=\"sk-label-container\"><div class=\"sk-label sk-toggleable\"><input class=\"sk-toggleable__control sk-hidden--visually\" id=\"sk-estimator-id-18\" type=\"checkbox\" ><label for=\"sk-estimator-id-18\" class=\"sk-toggleable__label sk-toggleable__label-arrow\">Pipeline</label><div class=\"sk-toggleable__content\"><pre>Pipeline(steps=[(&#x27;column_transformations&#x27;,\n",
       "                 ColumnTransformer(transformers=[(&#x27;num&#x27;,\n",
       "                                                  SimpleImputer(strategy=&#x27;median&#x27;),\n",
       "                                                  [&#x27;fundação_da_empresa&#x27;,\n",
       "                                                   &#x27;meses_de_permanência&#x27;,\n",
       "                                                   &#x27;receita_mensal&#x27;,\n",
       "                                                   &#x27;receita_total&#x27;,\n",
       "                                                   &#x27;is_possuicontador_null&#x27;,\n",
       "                                                   &#x27;is_receita_total_null&#x27;,\n",
       "                                                   &#x27;qty_poucouso&#x27;,\n",
       "                                                   &#x27;qty_usofrequente&#x27;,\n",
       "                                                   &#x27;is_receita_mensal_maior_ou_igual_70&#x27;]),\n",
       "                                                 (&#x27;cat&#x27;, OneHotEncoder(),\n",
       "                                                  [&#x27;tipo_de_e...\n",
       "        True, False, False,  True, False,  True, False, False,  True,\n",
       "        True, False,  True,  True,  True,  True,  True,  True,  True,\n",
       "        True, False,  True,  True, False, False,  True,  True,  True,\n",
       "       False,  True,  True,  True,  True,  True,  True,  True,  True,\n",
       "        True, False,  True,  True,  True,  True, False,  True,  True]))])),\n",
       "                (&#x27;model&#x27;,\n",
       "                 RandomForestClassifier(class_weight=&#x27;balanced&#x27;,\n",
       "                                        criterion=&#x27;entropy&#x27;, max_depth=8,\n",
       "                                        min_samples_split=5, n_estimators=548,\n",
       "                                        random_state=82))])</pre></div></div></div><div class=\"sk-serial\"><div class=\"sk-item sk-dashed-wrapped\"><div class=\"sk-label-container\"><div class=\"sk-label sk-toggleable\"><input class=\"sk-toggleable__control sk-hidden--visually\" id=\"sk-estimator-id-19\" type=\"checkbox\" ><label for=\"sk-estimator-id-19\" class=\"sk-toggleable__label sk-toggleable__label-arrow\">column_transformations: ColumnTransformer</label><div class=\"sk-toggleable__content\"><pre>ColumnTransformer(transformers=[(&#x27;num&#x27;, SimpleImputer(strategy=&#x27;median&#x27;),\n",
       "                                 [&#x27;fundação_da_empresa&#x27;, &#x27;meses_de_permanência&#x27;,\n",
       "                                  &#x27;receita_mensal&#x27;, &#x27;receita_total&#x27;,\n",
       "                                  &#x27;is_possuicontador_null&#x27;,\n",
       "                                  &#x27;is_receita_total_null&#x27;, &#x27;qty_poucouso&#x27;,\n",
       "                                  &#x27;qty_usofrequente&#x27;,\n",
       "                                  &#x27;is_receita_mensal_maior_ou_igual_70&#x27;]),\n",
       "                                (&#x27;cat&#x27;, OneHotEncoder(),\n",
       "                                 [&#x27;tipo_de_empresa&#x27;, &#x27;possui_mais_de_um_sócio&#x27;,\n",
       "                                  &#x27;funcion...\n",
       "                                  &#x27;frequência_de_utilização_de_feature_do_sistema_integração_bancária&#x27;,\n",
       "                                  &#x27;frequência_de_utilização_de_feature_do_sistema_módulo_de_vendas&#x27;,\n",
       "                                  &#x27;frequência_de_utilização_de_feature_do_sistema_relatórios&#x27;,\n",
       "                                  &#x27;frequência_de_utilização_de_feature_do_sistema_utilização_de_apis_de_integração&#x27;,\n",
       "                                  &#x27;contrato&#x27;, &#x27;emite_boletos&#x27;,\n",
       "                                  &#x27;tipo_de_pagamento&#x27;,\n",
       "                                  &#x27;clf_meses_de_permanência&#x27;])])</pre></div></div></div><div class=\"sk-parallel\"><div class=\"sk-parallel-item\"><div class=\"sk-item\"><div class=\"sk-label-container\"><div class=\"sk-label sk-toggleable\"><input class=\"sk-toggleable__control sk-hidden--visually\" id=\"sk-estimator-id-20\" type=\"checkbox\" ><label for=\"sk-estimator-id-20\" class=\"sk-toggleable__label sk-toggleable__label-arrow\">num</label><div class=\"sk-toggleable__content\"><pre>[&#x27;fundação_da_empresa&#x27;, &#x27;meses_de_permanência&#x27;, &#x27;receita_mensal&#x27;, &#x27;receita_total&#x27;, &#x27;is_possuicontador_null&#x27;, &#x27;is_receita_total_null&#x27;, &#x27;qty_poucouso&#x27;, &#x27;qty_usofrequente&#x27;, &#x27;is_receita_mensal_maior_ou_igual_70&#x27;]</pre></div></div></div><div class=\"sk-serial\"><div class=\"sk-item\"><div class=\"sk-estimator sk-toggleable\"><input class=\"sk-toggleable__control sk-hidden--visually\" id=\"sk-estimator-id-21\" type=\"checkbox\" ><label for=\"sk-estimator-id-21\" class=\"sk-toggleable__label sk-toggleable__label-arrow\">SimpleImputer</label><div class=\"sk-toggleable__content\"><pre>SimpleImputer(strategy=&#x27;median&#x27;)</pre></div></div></div></div></div></div><div class=\"sk-parallel-item\"><div class=\"sk-item\"><div class=\"sk-label-container\"><div class=\"sk-label sk-toggleable\"><input class=\"sk-toggleable__control sk-hidden--visually\" id=\"sk-estimator-id-22\" type=\"checkbox\" ><label for=\"sk-estimator-id-22\" class=\"sk-toggleable__label sk-toggleable__label-arrow\">cat</label><div class=\"sk-toggleable__content\"><pre>[&#x27;tipo_de_empresa&#x27;, &#x27;possui_mais_de_um_sócio&#x27;, &#x27;funcionários&#x27;, &#x27;utiliza_serviços_financeiros&#x27;, &#x27;possuicontador&#x27;, &#x27;faz_conciliação_bancária&#x27;, &#x27;frequência_de_utilização_de_feature_do_sistema_módulo_financeiro&#x27;, &#x27;frequência_de_utilização_de_feature_do_sistema_emissão_de_nota_fiscal&#x27;, &#x27;frequência_de_utilização_de_feature_do_sistema_integração_bancária&#x27;, &#x27;frequência_de_utilização_de_feature_do_sistema_módulo_de_vendas&#x27;, &#x27;frequência_de_utilização_de_feature_do_sistema_relatórios&#x27;, &#x27;frequência_de_utilização_de_feature_do_sistema_utilização_de_apis_de_integração&#x27;, &#x27;contrato&#x27;, &#x27;emite_boletos&#x27;, &#x27;tipo_de_pagamento&#x27;, &#x27;clf_meses_de_permanência&#x27;]</pre></div></div></div><div class=\"sk-serial\"><div class=\"sk-item\"><div class=\"sk-estimator sk-toggleable\"><input class=\"sk-toggleable__control sk-hidden--visually\" id=\"sk-estimator-id-23\" type=\"checkbox\" ><label for=\"sk-estimator-id-23\" class=\"sk-toggleable__label sk-toggleable__label-arrow\">OneHotEncoder</label><div class=\"sk-toggleable__content\"><pre>OneHotEncoder()</pre></div></div></div></div></div></div></div></div><div class=\"sk-item sk-dashed-wrapped\"><div class=\"sk-label-container\"><div class=\"sk-label sk-toggleable\"><input class=\"sk-toggleable__control sk-hidden--visually\" id=\"sk-estimator-id-24\" type=\"checkbox\" ><label for=\"sk-estimator-id-24\" class=\"sk-toggleable__label sk-toggleable__label-arrow\">select_fs_columns: ColumnTransformer</label><div class=\"sk-toggleable__content\"><pre>ColumnTransformer(transformers=[(&#x27;select_cols&#x27;, &#x27;passthrough&#x27;,\n",
       "                                 array([ True,  True,  True,  True, False, False,  True,  True,  True,\n",
       "        True, False, False,  True, False,  True, False, False,  True,\n",
       "        True, False,  True,  True,  True,  True,  True,  True,  True,\n",
       "        True, False,  True,  True, False, False,  True,  True,  True,\n",
       "       False,  True,  True,  True,  True,  True,  True,  True,  True,\n",
       "        True, False,  True,  True,  True,  True, False,  True,  True]))])</pre></div></div></div><div class=\"sk-parallel\"><div class=\"sk-parallel-item\"><div class=\"sk-item\"><div class=\"sk-label-container\"><div class=\"sk-label sk-toggleable\"><input class=\"sk-toggleable__control sk-hidden--visually\" id=\"sk-estimator-id-25\" type=\"checkbox\" ><label for=\"sk-estimator-id-25\" class=\"sk-toggleable__label sk-toggleable__label-arrow\">select_cols</label><div class=\"sk-toggleable__content\"><pre>[ True  True  True  True False False  True  True  True  True False False\n",
       "  True False  True False False  True  True False  True  True  True  True\n",
       "  True  True  True  True False  True  True False False  True  True  True\n",
       " False  True  True  True  True  True  True  True  True  True False  True\n",
       "  True  True  True False  True  True]</pre></div></div></div><div class=\"sk-serial\"><div class=\"sk-item\"><div class=\"sk-estimator sk-toggleable\"><input class=\"sk-toggleable__control sk-hidden--visually\" id=\"sk-estimator-id-26\" type=\"checkbox\" ><label for=\"sk-estimator-id-26\" class=\"sk-toggleable__label sk-toggleable__label-arrow\">passthrough</label><div class=\"sk-toggleable__content\"><pre>passthrough</pre></div></div></div></div></div></div></div></div><div class=\"sk-item\"><div class=\"sk-estimator sk-toggleable\"><input class=\"sk-toggleable__control sk-hidden--visually\" id=\"sk-estimator-id-27\" type=\"checkbox\" ><label for=\"sk-estimator-id-27\" class=\"sk-toggleable__label sk-toggleable__label-arrow\">RandomForestClassifier</label><div class=\"sk-toggleable__content\"><pre>RandomForestClassifier(class_weight=&#x27;balanced&#x27;, criterion=&#x27;entropy&#x27;,\n",
       "                       max_depth=8, min_samples_split=5, n_estimators=548,\n",
       "                       random_state=82)</pre></div></div></div></div></div></div></div>"
      ],
      "text/plain": [
       "Pipeline(steps=[('column_transformations',\n",
       "                 ColumnTransformer(transformers=[('num',\n",
       "                                                  SimpleImputer(strategy='median'),\n",
       "                                                  ['fundação_da_empresa',\n",
       "                                                   'meses_de_permanência',\n",
       "                                                   'receita_mensal',\n",
       "                                                   'receita_total',\n",
       "                                                   'is_possuicontador_null',\n",
       "                                                   'is_receita_total_null',\n",
       "                                                   'qty_poucouso',\n",
       "                                                   'qty_usofrequente',\n",
       "                                                   'is_receita_mensal_maior_ou_igual_70']),\n",
       "                                                 ('cat', OneHotEncoder(),\n",
       "                                                  ['tipo_de_e...\n",
       "        True, False, False,  True, False,  True, False, False,  True,\n",
       "        True, False,  True,  True,  True,  True,  True,  True,  True,\n",
       "        True, False,  True,  True, False, False,  True,  True,  True,\n",
       "       False,  True,  True,  True,  True,  True,  True,  True,  True,\n",
       "        True, False,  True,  True,  True,  True, False,  True,  True]))])),\n",
       "                ('model',\n",
       "                 RandomForestClassifier(class_weight='balanced',\n",
       "                                        criterion='entropy', max_depth=8,\n",
       "                                        min_samples_split=5, n_estimators=548,\n",
       "                                        random_state=82))])"
      ]
     },
     "execution_count": 21,
     "metadata": {},
     "output_type": "execute_result"
    }
   ],
   "source": [
    "# Avaliando mudança geral \n",
    "\n",
    "arr_selected_features = fs.support_\n",
    "\n",
    "preprocessor_for_fs = ColumnTransformer(\n",
    "    transformers=[\n",
    "        ('num', SimpleImputer(strategy='median'), NUM_FEATURES),\n",
    "        ('cat', OneHotEncoder(), CAT_FEATURES),\n",
    "        ],\n",
    ")\n",
    "\n",
    "col_selector = ColumnTransformer(\n",
    "    transformers=[(\"select_cols\",\"passthrough\",arr_selected_features)]\n",
    ")\n",
    "\n",
    "pipeline_with_fs = Pipeline(steps=[\n",
    "    (\"column_transformations\",preprocessor_for_fs),\n",
    "    (\"select_fs_columns\",col_selector),\n",
    "    (\"model\",RandomForestClassifier(**model_best_params))\n",
    "])\n",
    "pipeline_with_fs.fit(X_train,y_train)"
   ]
  },
  {
   "cell_type": "code",
   "execution_count": 22,
   "metadata": {},
   "outputs": [
    {
     "name": "stdout",
     "output_type": "stream",
     "text": [
      "Precision-Recall AUC: 0.6965473559794801\n",
      "classification_report\n",
      "              precision    recall  f1-score   support\n",
      "\n",
      "           0       0.89      0.85      0.87      1036\n",
      "           1       0.63      0.70      0.66       373\n",
      "\n",
      "    accuracy                           0.81      1409\n",
      "   macro avg       0.76      0.77      0.76      1409\n",
      "weighted avg       0.82      0.81      0.81      1409\n",
      "\n",
      "\n",
      "Best F1-score: 0.6615969581749049 at threshold 0.6010194795186382\n"
     ]
    },
    {
     "data": {
      "image/png": "[encoded data removed]",
      "text/plain": [
       "<Figure size 640x480 with 1 Axes>"
      ]
     },
     "metadata": {},
     "output_type": "display_data"
    },
    {
     "data": {
      "image/png": "[encoded data removed]",
      "text/plain": [
       "<Figure size 640x480 with 2 Axes>"
      ]
     },
     "metadata": {},
     "output_type": "display_data"
    },
    {
     "data": {
      "text/plain": [
       "0.6010194795186382"
      ]
     },
     "execution_count": 22,
     "metadata": {},
     "output_type": "execute_result"
    }
   ],
   "source": [
    "y_pred_proba_fs = pipeline_with_fs.predict_proba(X_test)[:,1]\n",
    "\n",
    "evaluate_metrics(y_test=y_test,y_pred=y_pred_proba_fs,normalize='true')"
   ]
  },
  {
   "cell_type": "markdown",
   "metadata": {},
   "source": [
    "## 6 - Save best model"
   ]
  },
  {
   "cell_type": "code",
   "execution_count": null,
   "metadata": {},
   "outputs": [],
   "source": [
    "OUTPUT_PATH = Path(\"./config\")\n",
    "\n",
    "num_features = [str.encode(col,encoding=\"ISO-8859-1\") for col in NUM_FEATURES]\n",
    "cat_features = [str.encode(col,encoding=\"ISO-8859-1\") for col in CAT_FEATURES]\n",
    "\n",
    "MODEL_PARAMETERS = {\n",
    "    \"model_name\":\"random_forest_clf_for_churn\",\n",
    "    \"model_version\":1,\n",
    "    \"model_parameters\":{\n",
    "        \"fit_params\":model_best_params,\n",
    "        \"predict_params\":{\"decision_threshold\":float(best_th)}},\n",
    "    \"model_features\":{\"NUM_FEATURES\":num_features,\"CAT_FEATURES\":cat_features},\n",
    "    \"model_target\":\"churn\"\n",
    "}\n",
    "\n",
    "\n",
    "if OUTPUT_PATH.is_dir():\n",
    "    with open(f\"{OUTPUT_PATH}/model_config.yaml\",\"w\") as f:\n",
    "        yaml.dump(MODEL_PARAMETERS,f)\n",
    "else:\n",
    "    OUTPUT_PATH.mkdir(exist_ok=True,parents=True)\n",
    "    with open(f\"{OUTPUT_PATH}/model_config.yaml\",\"w\") as f:\n",
    "        yaml.dump(MODEL_PARAMETERS,f)"
   ]
  },
  {
   "cell_type": "markdown",
   "metadata": {},
   "source": [
    "## 7 - Conclusão"
   ]
  }
 ],
 "metadata": {
  "kernelspec": {
   "display_name": "churn_pred_env",
   "language": "python",
   "name": "python3"
  },
  "language_info": {
   "codemirror_mode": {
    "name": "ipython",
    "version": 3
   },
   "file_extension": ".py",
   "mimetype": "text/x-python",
   "name": "python",
   "nbconvert_exporter": "python",
   "pygments_lexer": "ipython3",
   "version": "3.11.8"
  }
 },
 "nbformat": 4,
 "nbformat_minor": 2
}
